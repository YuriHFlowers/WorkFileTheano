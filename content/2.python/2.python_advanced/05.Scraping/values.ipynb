{
 "cells": [
  {
   "cell_type": "code",
   "execution_count": 1,
   "metadata": {},
   "outputs": [],
   "source": [
    "import bs4\n",
    "import requests\n",
    "from bs4 import BeautifulSoup\n",
    "import numpy as np\n",
    "import pandas as pd\n",
    "import json\n",
    "import re\n",
    "import lxml.html\n",
    "import time\n",
    "import random\n",
    "from random import randint\n",
    "import logging\n",
    "import collections\n",
    "from time import gmtime, strftime\n",
    "\n",
    "import re\n",
    "from tabulate import tabulate\n",
    "import os\n",
    "\n",
    "date = strftime(\"%Y-%m-%d\")"
   ]
  },
  {
   "cell_type": "code",
   "execution_count": 2,
   "metadata": {},
   "outputs": [
    {
     "name": "stdout",
     "output_type": "stream",
     "text": [
      "https://www.immoweb.be/en/classified/villa/for-sale/groot-bijgaarden/1702/9867538?searchId=62971ab3a333f\n",
      "['€ 524,500\\n524500 €', 'As new', '3', '197 m²\\nsquare meters', 'Hyper equipped', None, None, None, 'Yes', None, '525 m²\\nsquare meters', 'E', '4', 'No']\n"
     ]
    }
   ],
   "source": [
    "import pandas as pd\n",
    "import numpy as np\n",
    "\n",
    "from selenium import webdriver\n",
    "from selenium.webdriver.support.ui import WebDriverWait\n",
    "from selenium.webdriver.support import expected_conditions as EC\n",
    "from selenium.common.exceptions import TimeoutException\n",
    "from selenium.webdriver.common.by import By\n",
    "from selenium.webdriver.chrome.service import Service\n",
    "from selenium.webdriver.chrome.options import Options\n",
    "from selenium.webdriver.common.action_chains import ActionChains\n",
    "\n",
    "options = Options()\n",
    "\n",
    "url = \"https://www.immoweb.be/en/classified/villa/for-sale/groot-bijgaarden/1702/9867538?searchId=62971ab3a333f\"\n",
    "\n",
    "options.add_argument('--start-maximized')\n",
    "options.add_argument('--disable-infobars')\n",
    "path = (\"C:/webdrivers/chromedriver.exe\")\n",
    "s = Service(path)\n",
    "driver = webdriver.Chrome(options=options,service=s)\n",
    "driver.implicitly_wait(30)\n",
    "driver.get(url)\n",
    "\n",
    "print(driver.current_url)\n",
    "\n",
    "keep_browsing = driver.find_element(By.ID,'uc-btn-accept-banner')\n",
    "keep_browsing.click()\n",
    "\n",
    "element = driver.find_element(by=By.TAG_NAME, value='tr')\n",
    "\n",
    "actions = webdriver.ActionChains(driver)\n",
    "actions.move_to_element(element).perform()\n",
    "actions.click().perform()\n",
    "\n",
    "rows = WebDriverWait(driver, 30).until(EC.presence_of_all_elements_located((By.CSS_SELECTOR, 'tbody > tr')))\n",
    "\n",
    "mydict = {} \n",
    "for row in rows: \n",
    "    for th in row.find_elements(By.TAG_NAME, 'th'):\n",
    "        for td in row.find_elements(By.TAG_NAME, 'td'):\n",
    "            #if len(td) > 0 and len(th) > 0:\n",
    "            mydict[th.text.strip()] = td.text.strip()\n",
    "#print(mydict)\n",
    "\n",
    "keyLookup = ['Price', 'Building condition','Bedrooms', 'Living area', 'Kitchen type','Furnished','Garden','Garden surface','Terrace','Terrace surface','Surface of the plot','Energy class','Number of frontages','Swimming pool']\n",
    "mylist = []\n",
    "def getList(mydict):\n",
    "    for key in keyLookup:\n",
    "        mylist.append(mydict.get(key))\n",
    "          \n",
    "    return mylist\n",
    "\n",
    "print(getList(mydict))\n"
   ]
  },
  {
   "cell_type": "code",
   "execution_count": 7,
   "metadata": {},
   "outputs": [
    {
     "name": "stdout",
     "output_type": "stream",
     "text": [
      "['€524,500', 'Villa', 'Bremstraat 1,a', '1702', 'Groot-Bijgaarden', '9867538']\n"
     ]
    }
   ],
   "source": [
    "mylist2= []\n",
    "\n",
    "precio = driver.find_element(by=By.CSS_SELECTOR, value = \"p[class='classified__price'] span[aria-hidden='true']\").text\n",
    "subtype= driver.find_element(by=By.XPATH, value='//h1[@class=\"classified__title\"]').text\n",
    "address= driver.find_element(by=By.XPATH, value='//button[@class=\"classified__information--address-map-button | button button--text button--size-small\"]').text\n",
    "street= driver.find_element(by=By.XPATH, value='//span[@class=\"classified__information--address-row\"][1]').text\n",
    "postcode = driver.find_element(by=By.XPATH, value='//span[@class=\"classified__information--address-row\"][2]').text\n",
    "immocode = driver.find_element(by=By.CSS_SELECTOR, value = \"div[class='classified__header--tools'] div[class='classified__header--immoweb-code']\").text\n",
    "mylist2.append(precio)\n",
    "mylist2.append(subtype.split(' ')[0])\n",
    "mylist2.append(street)\n",
    "mylist2.append(postcode.split(' ')[0])\n",
    "mylist2.append(postcode.split(' ')[-1])\n",
    "mylist2.append(immocode.split(' ')[-1])\n",
    "\n",
    "print(mylist2)\n"
   ]
  }
 ],
 "metadata": {
  "interpreter": {
   "hash": "8d21f3b75a0e2120eb0e66e21d4adea905fc160c040159242535b1a26e9f956d"
  },
  "kernelspec": {
   "display_name": "Python 3.9.7 ('base')",
   "language": "python",
   "name": "python3"
  },
  "language_info": {
   "codemirror_mode": {
    "name": "ipython",
    "version": 3
   },
   "file_extension": ".py",
   "mimetype": "text/x-python",
   "name": "python",
   "nbconvert_exporter": "python",
   "pygments_lexer": "ipython3",
   "version": "3.9.7"
  },
  "orig_nbformat": 4
 },
 "nbformat": 4,
 "nbformat_minor": 2
}
