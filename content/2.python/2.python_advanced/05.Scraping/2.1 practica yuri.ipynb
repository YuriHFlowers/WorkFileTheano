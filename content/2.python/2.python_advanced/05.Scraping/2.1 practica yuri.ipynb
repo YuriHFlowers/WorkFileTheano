{
 "cells": [
  {
   "cell_type": "markdown",
   "metadata": {},
   "source": [
    "I save the web site www.becode.org as BeCodeY in assets"
   ]
  },
  {
   "cell_type": "code",
   "execution_count": 4,
   "metadata": {},
   "outputs": [],
   "source": [
    "becode_filename = \"./assets/beCode_Yuri.html\"   # Date: 29may-2022\n",
    "file = open(becode_filename, \"r\", encoding=\"utf8\")\n",
    "htmlyuri_doc = file.read()\n",
    "file.close()\n",
    "#htmlyuri_doc"
   ]
  },
  {
   "cell_type": "code",
   "execution_count": 5,
   "metadata": {},
   "outputs": [
    {
     "name": "stdout",
     "output_type": "stream",
     "text": [
      "Learn to code, find a job\n",
      "\n"
     ]
    }
   ],
   "source": [
    "from bs4 import BeautifulSoup\n",
    "\n",
    "# In my file (becode.org) by looking at this html script,\n",
    "# we can see that the main title is arranged in the `h1` tag\n",
    "soup = BeautifulSoup(htmlyuri_doc, \"lxml\")\n",
    "\n",
    "for tag in soup.find_all(\"h1\"):\n",
    "    # We only retrieve the content ==> .text\n",
    "    print(tag.text)"
   ]
  },
  {
   "cell_type": "code",
   "execution_count": 8,
   "metadata": {},
   "outputs": [
    {
     "name": "stdout",
     "output_type": "stream",
     "text": [
      "Learn to code, find a job\n"
     ]
    }
   ],
   "source": [
    "# the same result\n",
    "from bs4 import BeautifulSoup\n",
    "soup = BeautifulSoup(htmlyuri_doc, \"lxml\")\n",
    "title = soup.find('h1').text   # only the text\n",
    "print(title)\n"
   ]
  },
  {
   "cell_type": "code",
   "execution_count": 17,
   "metadata": {},
   "outputs": [
    {
     "name": "stdout",
     "output_type": "stream",
     "text": [
      "Give your life a new start, become a developer\n"
     ]
    }
   ],
   "source": [
    "first_h2 = soup.find('h2').text\n",
    "print(first_h2)"
   ]
  },
  {
   "cell_type": "code",
   "execution_count": 6,
   "metadata": {},
   "outputs": [
    {
     "name": "stdout",
     "output_type": "stream",
     "text": [
      "Give your life a new start, become a developer\n",
      "Learn with BeCode\n",
      "\n",
      "\n",
      "\n",
      " SAP end user or consultant\n",
      "About BeCode\n",
      "Upcoming events\n",
      "BeCode news\n",
      "Interview with Nicolas, web development learner at BeCode\n",
      "3 questions to Michaela, IT Support learner at BeCode\n",
      "Jean-Christophe, AI Bootcamp Alumni : “I’m 44 years old and in the middle of my career. I went from having no job opportunities to just the opposite. Today, the work that I’m doing stimulates me much more intellectually.”\n",
      "Aline, Junior web dev in Liège : “Thanks to BeCode, I will find a job that won’t give me a knot in my stomach anymore in the morning. I’ll wake up and say ‘Yay! I’m going to work!’”\n",
      "Vincent, AI learner in Antwerp : “A couple of months ago, I would never have thought it’d be possible for me to achieve this, especially in such a short time.”\n",
      "Eline, Hackeuse in Charleroi : “The training puts me back into a professional rhythm, a routine. It also opens the doors to a new world in which I can navigate.”\n"
     ]
    }
   ],
   "source": [
    "for tag in soup.find_all(\"h2\"):\n",
    "    # We only retrieve the content ==> .text\n",
    "    print(tag.text)"
   ]
  },
  {
   "cell_type": "code",
   "execution_count": 18,
   "metadata": {},
   "outputs": [
    {
     "name": "stdout",
     "output_type": "stream",
     "text": [
      "BeCode’s mission : Enabling tomorrow’s digital talents to blossom.We believe that education makes anything possible.Since 2017, BeCode has been offering inclusive coding bootcamps for jobseekers to become developers in partnership with Simplon.\n",
      "“In less than one year I have learned how to code and how to create professional relationships. BeCode gives you the environment and all you need to surpass yourself and go forward. My coaches were superb with me and I thank them for their patience and everything they taught me. I recommend BeCode to anyone who is motivated and wants to change their life and aim the moon. Just give it a shot at 100% and you’ll see.”\n",
      "Freelance\n",
      "BeCode offers free trainings in the IT sector to anyone motivated to change their life. Whatever way you want to prepare yourself for the 21st century, we have the right training for you! Become a web developer, an AI operator, a DevSecOps developer, an SAP consultant or end user. No diploma, money or work experience needed. Come as you are, with your motivation.\n",
      "Technologies such as Github, HTML, CSS, JavaScript, PHP, NodeJS will no longer hold any secrets for you after your training! \n",
      "\n",
      "You learn more about Python, Git, libraries for big data such as Pandas and Numpy, models for machine and deep learning.\n",
      "\n",
      "Terminal, secure programming, server infrastructure, virtualization, cloud, API management and much more.\n",
      "You will be actively introduced to the world of S/4HANA and learn how it supports the digital transformation. \n",
      "At BeCode we have a somewhat different approach of learning. Our pedagogical framework is an evolving experimentation within 7 boundaries, to ease and protect the learning process of the group and help everyone develop the soft skills of a true digital paracommando.\n",
      "At BeCode, we are dreamers. We believe we can change the world, make it a better place. Therefore we provide qualitative, competitive and inclusive coding bootcamps, accessible to all, in 5 cities across the country: Antwerp, Brussels, Charleroi, Ghent and Liège.\n",
      "\n",
      "Our mission: Enabling tomorrow’s digital talents to blossom. We believe that education makes anything possible. Since 2017, BeCode has been offering free training courses for jobseekers to become web developers in partnership with the public and private sectors.\n",
      "We share a common passion for people development and a more inclusive society, maximizing the opportunities brought by the digital economy to provide access to education and a high-potential career for all. Coming from a wide variety of backgrounds, we support our juniors & partners on each step of the way.\n",
      "\n",
      "Curious about BeCode? Not sure if our trainings are for you? Do you want to ask us your questions? We’re more than happy to meet you and answer all of your questions on one of our events!\n",
      "We regularaly organize infosessions, opendoors and workshops. There is always an opportunity to get to know our juniors and our team!\n",
      "There is always something happening at BeCode. Discover the latest (BeCode) news and job opportunities!\n",
      "by Tom Crohin | Oct 26, 2021 | News\n",
      "After a career in the horeca sector, Nicolas wanted to pursue a career in the digital world and work as a web developer. After an intensive training at BeCode and a successful hackathon, Nicolas shared with us his story and his experience as junior web...\n",
      "by Tom Crohin | Jul 20, 2021 | News\n",
      "What made you want to apply to join this IT support course ?“I have several friends who have experience in the IT world, so, when I heard about this course, I discussed it with them. One of my friends told me that if he had to hire a junior developer, he would go for...\n",
      "by Tom Crohin | Jun 28, 2021 | News\n",
      "After losing his job in the research sector, Jean-Christophe was looking for a new opportunity. After realizing he enjoyed working with data, he decided to acquire more skills in that domain. That’s how he joined BeCode’s AI Bootcamp in Charleroi. After a successful...\n",
      "by Tom Crohin | Jun 14, 2021 | News\n",
      "From call center operator to web developer. Aline decided it was time for her to switch careers and get started in a field in which she’d be able to blossom. And that’s exactly what she started doing when she decided to join our web development training in Liège....\n",
      "by Tom Crohin | Jun 7, 2021 | News\n",
      "After studying in the sports sciences field, Vincent felt the need to acquire more digital skills. He had been curious about the worlds of development and data, so he decided to register for our AI bootcamp in Antwerp, which is organized in collaboration with...\n",
      "by Tom Crohin | Jun 1, 2021 | News\n",
      "After a period of unemployment, Eline wanted to find a job in a forward-looking sector. IT seemed to her like the perfect option, but it was hard for her to conceive a career in this domain as she had almost no computer skills. By joining BeCode’s Hackeuses Club, she...\n",
      "© 2022, BeCode.org | VAT: BE0664.802.168\n",
      "info@becode.org\n",
      "Cantersteen 10, 1000 Brussels\n",
      "Cookie policy\n",
      "&\n",
      "Privacy policy\n",
      "Necessary cookies are absolutely essential for the website to function properly. This category only includes cookies that ensures basic functionalities and security features of the website. These cookies do not store any personal information.\n",
      "Any cookies that may not be particularly necessary for the website to function and is used specifically to collect user personal data via analytics, ads, other embedded contents are termed as non-necessary cookies. It is mandatory to procure user consent prior to running these cookies on your website.\n",
      "Analytical cookies are used to understand how visitors interact with the website. These cookies help provide information on metrics the number of visitors, bounce rate, traffic source, etc.\n",
      "Performance cookies are used to understand and analyze the key performance indexes of the website which helps in delivering a better user experience for the visitors.\n",
      "Advertisement cookies are used to provide visitors with relevant ads and marketing campaigns. These cookies track visitors across websites and collect information to provide customized ads.\n"
     ]
    }
   ],
   "source": [
    "for tag in soup.find_all(\"p\"): \n",
    "    # We only retrieve the content ==> .text\n",
    "    tag = tag.text.replace('  ','')\n",
    "    print(tag)"
   ]
  }
 ],
 "metadata": {
  "interpreter": {
   "hash": "8d21f3b75a0e2120eb0e66e21d4adea905fc160c040159242535b1a26e9f956d"
  },
  "kernelspec": {
   "display_name": "Python 3.9.7 ('base')",
   "language": "python",
   "name": "python3"
  },
  "language_info": {
   "codemirror_mode": {
    "name": "ipython",
    "version": 3
   },
   "file_extension": ".py",
   "mimetype": "text/x-python",
   "name": "python",
   "nbconvert_exporter": "python",
   "pygments_lexer": "ipython3",
   "version": "3.9.7"
  },
  "orig_nbformat": 4
 },
 "nbformat": 4,
 "nbformat_minor": 2
}
