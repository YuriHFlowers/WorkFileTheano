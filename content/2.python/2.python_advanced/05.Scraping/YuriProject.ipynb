{
 "cells": [
  {
   "cell_type": "code",
   "execution_count": 1,
   "metadata": {},
   "outputs": [],
   "source": [
    "import bs4\n",
    "import requests\n",
    "from bs4 import BeautifulSoup\n",
    "import numpy as np\n",
    "import pandas as pd\n",
    "import json\n",
    "import re\n",
    "import lxml.html\n",
    "import time\n",
    "import random\n",
    "from random import randint\n",
    "import logging\n",
    "import collections\n",
    "from time import gmtime, strftime\n",
    "\n",
    "import re\n",
    "from tabulate import tabulate\n",
    "import os\n",
    "\n",
    "date = strftime(\"%Y-%m-%d\")"
   ]
  },
  {
   "cell_type": "code",
   "execution_count": 2,
   "metadata": {},
   "outputs": [
    {
     "name": "stdout",
     "output_type": "stream",
     "text": [
      "https://www.immoweb.be/en/classified/villa/for-sale/groot-bijgaarden/1702/9867538?searchId=62971ab3a333f\n"
     ]
    }
   ],
   "source": [
    "from bs4 import BeautifulSoup\n",
    "import requests\n",
    "import os\n",
    "import pandas as pd\n",
    "import numpy as np\n",
    "from selenium import webdriver\n",
    "from selenium.webdriver.support.ui import WebDriverWait\n",
    "from selenium.webdriver.support import expected_conditions as EC\n",
    "from selenium.common.exceptions import TimeoutException\n",
    "from selenium.webdriver.common.by import By\n",
    "from selenium.webdriver.chrome.service import Service\n",
    "from selenium.webdriver.chrome.options import Options\n",
    "from selenium.webdriver.common.action_chains import ActionChains\n",
    "\n",
    "options = Options()\n",
    "\n",
    "url = \"https://www.immoweb.be/en/classified/villa/for-sale/groot-bijgaarden/1702/9867538?searchId=62971ab3a333f\"\n",
    "\n",
    "options.add_argument('--start-maximized')\n",
    "options.add_argument('--disable-infobars')\n",
    "path = (\"C:/webdrivers/chromedriver.exe\")\n",
    "s = Service(path)\n",
    "driver = webdriver.Chrome(options=options,service=s)\n",
    "driver.implicitly_wait(30)\n",
    "driver.get(url)\n",
    "\n",
    "print(driver.current_url)\n",
    "\n",
    "keep_browsing = driver.find_element(By.ID,'uc-btn-accept-banner')\n",
    "keep_browsing.click()\n",
    "\n",
    "element = driver.find_element(by=By.TAG_NAME, value='tr')\n",
    "\n",
    "actions = webdriver.ActionChains(driver)\n",
    "actions.move_to_element(element).perform()\n",
    "actions.click().perform()\n",
    "\n",
    "rows = WebDriverWait(driver, 30).until(EC.presence_of_all_elements_located((By.CSS_SELECTOR, 'tbody > tr')))\n"
   ]
  },
  {
   "cell_type": "code",
   "execution_count": 3,
   "metadata": {},
   "outputs": [
    {
     "name": "stdout",
     "output_type": "stream",
     "text": [
      "{'Available date': 'October 1 2022 - 12:00 AM', 'Construction year': '1956', 'Building condition': 'As new', 'Street frontage width': '8.15 m', 'Number of frontages': '4', 'Covered parking spaces': '1', 'Outdoor parking spaces': '2', 'Surroundings type': 'Isolated', 'Virtual visit': 'Link to the virtual visit', 'Living area': '197 m²\\nsquare meters', 'Living room surface': '30 m²\\nsquare meters', 'Kitchen type': 'Hyper equipped', 'Kitchen surface': '11 m²\\nsquare meters', 'Bedrooms': '3', 'Bedroom 1 surface': '24 m²\\nsquare meters', 'Bedroom 2 surface': '9 m²\\nsquare meters', 'Bedroom 3 surface': '6 m²\\nsquare meters', 'Bathrooms': '1', 'Toilets': '2', 'TV cable': 'Yes', 'Surface of the plot': '525 m²\\nsquare meters', 'Connection to sewer network': 'Connected', 'Gas, water & electricity': 'Yes', 'Terrace': 'Yes', 'Elevator': 'No', 'Accessible for disabled people': 'No', 'Swimming pool': 'No', 'Primary energy consumption': '434 kWh/m²\\nkilowatt hour per square meters', 'Energy class': 'E', 'Reference number of the EPC report': '2586246', 'CO₂ emission': 'Not specified', 'Yearly theoretical total energy consumption': 'Not specified', 'Heating type': 'Gas', 'Double glazing': 'Yes', 'Planning permission obtained': 'Yes', 'Subdivision permit': 'No', 'Possible priority purchase right': 'No', 'Proceedings for breach of planning regulations': 'No', 'Flood zone type': 'Non flood zone', 'Price': '€ 524,500\\n524500 €', 'Cadastral income': '€ 1,576\\n1576 €', 'Tenement building': 'No', 'Address': 'Astridlaan 1\\n1700 - Dilbeek', 'Website': 'http://www.living-stone.be', 'External reference': '4733283'}\n"
     ]
    }
   ],
   "source": [
    "mydict = {} \n",
    "for row in rows: \n",
    "    for th in row.find_elements(By.TAG_NAME, 'th'):\n",
    "        for td in row.find_elements(By.TAG_NAME, 'td'):\n",
    "            #if len(td) > 0 and len(th) > 0:\n",
    "            #print(f'{th.text.strip()}', '=', f'{td.text.strip()}'\n",
    "            mydict[th.text.strip()] = td.text.strip()\n",
    "print(mydict)"
   ]
  },
  {
   "cell_type": "code",
   "execution_count": 2,
   "metadata": {},
   "outputs": [
    {
     "ename": "NoSuchElementException",
     "evalue": "Message: no such element: Unable to locate element: {\"method\":\"tag name\",\"selector\":\"tr\"}\n  (Session info: chrome=101.0.4951.67)\nStacktrace:\nBacktrace:\n\tOrdinal0 [0x007AB8F3+2406643]\n\tOrdinal0 [0x0073AF31+1945393]\n\tOrdinal0 [0x0062C748+837448]\n\tOrdinal0 [0x006592E0+1020640]\n\tOrdinal0 [0x0065957B+1021307]\n\tOrdinal0 [0x00686372+1205106]\n\tOrdinal0 [0x006742C4+1131204]\n\tOrdinal0 [0x00684682+1197698]\n\tOrdinal0 [0x00674096+1130646]\n\tOrdinal0 [0x0064E636+976438]\n\tOrdinal0 [0x0064F546+980294]\n\tGetHandleVerifier [0x00A19612+2498066]\n\tGetHandleVerifier [0x00A0C920+2445600]\n\tGetHandleVerifier [0x00844F2A+579370]\n\tGetHandleVerifier [0x00843D36+574774]\n\tOrdinal0 [0x00741C0B+1973259]\n\tOrdinal0 [0x00746688+1992328]\n\tOrdinal0 [0x00746775+1992565]\n\tOrdinal0 [0x0074F8D1+2029777]\n\tBaseThreadInitThunk [0x76BA6739+25]\n\tRtlGetFullPathName_UEx [0x77348FEF+1215]\n\tRtlGetFullPathName_UEx [0x77348FBD+1165]\n",
     "output_type": "error",
     "traceback": [
      "\u001b[1;31m---------------------------------------------------------------------------\u001b[0m",
      "\u001b[1;31mNoSuchElementException\u001b[0m                    Traceback (most recent call last)",
      "\u001b[1;32mc:\\Users\\yurit\\Documents\\ANT-Theano-4\\content\\2.python\\2.python_advanced\\05.Scraping\\YuriProject.ipynb Cell 2'\u001b[0m in \u001b[0;36m<cell line: 1>\u001b[1;34m()\u001b[0m\n\u001b[1;32m----> <a href='vscode-notebook-cell:/c%3A/Users/yurit/Documents/ANT-Theano-4/content/2.python/2.python_advanced/05.Scraping/YuriProject.ipynb#ch0000011?line=0'>1</a>\u001b[0m element \u001b[39m=\u001b[39m driver\u001b[39m.\u001b[39;49mfind_element(by\u001b[39m=\u001b[39;49mBy\u001b[39m.\u001b[39;49mTAG_NAME, value\u001b[39m=\u001b[39;49m\u001b[39m'\u001b[39;49m\u001b[39mtr\u001b[39;49m\u001b[39m'\u001b[39;49m)\n\u001b[0;32m      <a href='vscode-notebook-cell:/c%3A/Users/yurit/Documents/ANT-Theano-4/content/2.python/2.python_advanced/05.Scraping/YuriProject.ipynb#ch0000011?line=2'>3</a>\u001b[0m actions \u001b[39m=\u001b[39m webdriver\u001b[39m.\u001b[39mActionChains(driver)\n\u001b[0;32m      <a href='vscode-notebook-cell:/c%3A/Users/yurit/Documents/ANT-Theano-4/content/2.python/2.python_advanced/05.Scraping/YuriProject.ipynb#ch0000011?line=3'>4</a>\u001b[0m actions\u001b[39m.\u001b[39mmove_to_element(element)\u001b[39m.\u001b[39mperform()\n",
      "File \u001b[1;32mc:\\Users\\yurit\\anaconda3\\lib\\site-packages\\selenium\\webdriver\\remote\\webdriver.py:1251\u001b[0m, in \u001b[0;36mWebDriver.find_element\u001b[1;34m(self, by, value)\u001b[0m\n\u001b[0;32m   <a href='file:///c%3A/Users/yurit/anaconda3/lib/site-packages/selenium/webdriver/remote/webdriver.py?line=1247'>1248</a>\u001b[0m     by \u001b[39m=\u001b[39m By\u001b[39m.\u001b[39mCSS_SELECTOR\n\u001b[0;32m   <a href='file:///c%3A/Users/yurit/anaconda3/lib/site-packages/selenium/webdriver/remote/webdriver.py?line=1248'>1249</a>\u001b[0m     value \u001b[39m=\u001b[39m \u001b[39m'\u001b[39m\u001b[39m[name=\u001b[39m\u001b[39m\"\u001b[39m\u001b[39m%s\u001b[39;00m\u001b[39m\"\u001b[39m\u001b[39m]\u001b[39m\u001b[39m'\u001b[39m \u001b[39m%\u001b[39m value\n\u001b[1;32m-> <a href='file:///c%3A/Users/yurit/anaconda3/lib/site-packages/selenium/webdriver/remote/webdriver.py?line=1250'>1251</a>\u001b[0m \u001b[39mreturn\u001b[39;00m \u001b[39mself\u001b[39;49m\u001b[39m.\u001b[39;49mexecute(Command\u001b[39m.\u001b[39;49mFIND_ELEMENT, {\n\u001b[0;32m   <a href='file:///c%3A/Users/yurit/anaconda3/lib/site-packages/selenium/webdriver/remote/webdriver.py?line=1251'>1252</a>\u001b[0m     \u001b[39m'\u001b[39;49m\u001b[39musing\u001b[39;49m\u001b[39m'\u001b[39;49m: by,\n\u001b[0;32m   <a href='file:///c%3A/Users/yurit/anaconda3/lib/site-packages/selenium/webdriver/remote/webdriver.py?line=1252'>1253</a>\u001b[0m     \u001b[39m'\u001b[39;49m\u001b[39mvalue\u001b[39;49m\u001b[39m'\u001b[39;49m: value})[\u001b[39m'\u001b[39m\u001b[39mvalue\u001b[39m\u001b[39m'\u001b[39m]\n",
      "File \u001b[1;32mc:\\Users\\yurit\\anaconda3\\lib\\site-packages\\selenium\\webdriver\\remote\\webdriver.py:430\u001b[0m, in \u001b[0;36mWebDriver.execute\u001b[1;34m(self, driver_command, params)\u001b[0m\n\u001b[0;32m    <a href='file:///c%3A/Users/yurit/anaconda3/lib/site-packages/selenium/webdriver/remote/webdriver.py?line=427'>428</a>\u001b[0m response \u001b[39m=\u001b[39m \u001b[39mself\u001b[39m\u001b[39m.\u001b[39mcommand_executor\u001b[39m.\u001b[39mexecute(driver_command, params)\n\u001b[0;32m    <a href='file:///c%3A/Users/yurit/anaconda3/lib/site-packages/selenium/webdriver/remote/webdriver.py?line=428'>429</a>\u001b[0m \u001b[39mif\u001b[39;00m response:\n\u001b[1;32m--> <a href='file:///c%3A/Users/yurit/anaconda3/lib/site-packages/selenium/webdriver/remote/webdriver.py?line=429'>430</a>\u001b[0m     \u001b[39mself\u001b[39;49m\u001b[39m.\u001b[39;49merror_handler\u001b[39m.\u001b[39;49mcheck_response(response)\n\u001b[0;32m    <a href='file:///c%3A/Users/yurit/anaconda3/lib/site-packages/selenium/webdriver/remote/webdriver.py?line=430'>431</a>\u001b[0m     response[\u001b[39m'\u001b[39m\u001b[39mvalue\u001b[39m\u001b[39m'\u001b[39m] \u001b[39m=\u001b[39m \u001b[39mself\u001b[39m\u001b[39m.\u001b[39m_unwrap_value(\n\u001b[0;32m    <a href='file:///c%3A/Users/yurit/anaconda3/lib/site-packages/selenium/webdriver/remote/webdriver.py?line=431'>432</a>\u001b[0m         response\u001b[39m.\u001b[39mget(\u001b[39m'\u001b[39m\u001b[39mvalue\u001b[39m\u001b[39m'\u001b[39m, \u001b[39mNone\u001b[39;00m))\n\u001b[0;32m    <a href='file:///c%3A/Users/yurit/anaconda3/lib/site-packages/selenium/webdriver/remote/webdriver.py?line=432'>433</a>\u001b[0m     \u001b[39mreturn\u001b[39;00m response\n",
      "File \u001b[1;32mc:\\Users\\yurit\\anaconda3\\lib\\site-packages\\selenium\\webdriver\\remote\\errorhandler.py:247\u001b[0m, in \u001b[0;36mErrorHandler.check_response\u001b[1;34m(self, response)\u001b[0m\n\u001b[0;32m    <a href='file:///c%3A/Users/yurit/anaconda3/lib/site-packages/selenium/webdriver/remote/errorhandler.py?line=244'>245</a>\u001b[0m         alert_text \u001b[39m=\u001b[39m value[\u001b[39m'\u001b[39m\u001b[39malert\u001b[39m\u001b[39m'\u001b[39m]\u001b[39m.\u001b[39mget(\u001b[39m'\u001b[39m\u001b[39mtext\u001b[39m\u001b[39m'\u001b[39m)\n\u001b[0;32m    <a href='file:///c%3A/Users/yurit/anaconda3/lib/site-packages/selenium/webdriver/remote/errorhandler.py?line=245'>246</a>\u001b[0m     \u001b[39mraise\u001b[39;00m exception_class(message, screen, stacktrace, alert_text)  \u001b[39m# type: ignore[call-arg]  # mypy is not smart enough here\u001b[39;00m\n\u001b[1;32m--> <a href='file:///c%3A/Users/yurit/anaconda3/lib/site-packages/selenium/webdriver/remote/errorhandler.py?line=246'>247</a>\u001b[0m \u001b[39mraise\u001b[39;00m exception_class(message, screen, stacktrace)\n",
      "\u001b[1;31mNoSuchElementException\u001b[0m: Message: no such element: Unable to locate element: {\"method\":\"tag name\",\"selector\":\"tr\"}\n  (Session info: chrome=101.0.4951.67)\nStacktrace:\nBacktrace:\n\tOrdinal0 [0x007AB8F3+2406643]\n\tOrdinal0 [0x0073AF31+1945393]\n\tOrdinal0 [0x0062C748+837448]\n\tOrdinal0 [0x006592E0+1020640]\n\tOrdinal0 [0x0065957B+1021307]\n\tOrdinal0 [0x00686372+1205106]\n\tOrdinal0 [0x006742C4+1131204]\n\tOrdinal0 [0x00684682+1197698]\n\tOrdinal0 [0x00674096+1130646]\n\tOrdinal0 [0x0064E636+976438]\n\tOrdinal0 [0x0064F546+980294]\n\tGetHandleVerifier [0x00A19612+2498066]\n\tGetHandleVerifier [0x00A0C920+2445600]\n\tGetHandleVerifier [0x00844F2A+579370]\n\tGetHandleVerifier [0x00843D36+574774]\n\tOrdinal0 [0x00741C0B+1973259]\n\tOrdinal0 [0x00746688+1992328]\n\tOrdinal0 [0x00746775+1992565]\n\tOrdinal0 [0x0074F8D1+2029777]\n\tBaseThreadInitThunk [0x76BA6739+25]\n\tRtlGetFullPathName_UEx [0x77348FEF+1215]\n\tRtlGetFullPathName_UEx [0x77348FBD+1165]\n"
     ]
    }
   ],
   "source": []
  },
  {
   "cell_type": "code",
   "execution_count": 2,
   "metadata": {},
   "outputs": [
    {
     "name": "stdout",
     "output_type": "stream",
     "text": [
      "['https://www.immoweb.be/en/classified/house/for-sale/liege/4020/9941464?searchId=62990220cf038', 'https://www.immoweb.be/en/classified/apartment-block/for-sale/libramont-chevigny/6800/9941435?searchId=62990220cf038', 'https://www.immoweb.be/en/classified/house/for-sale/ruisbroek-(-bij-brussel)/1601/9941373?searchId=62990220cf038', 'https://www.immoweb.be/en/classified/villa/for-sale/groot-bijgaarden/1702/9867538?searchId=62990220cf038', 'https://www.immoweb.be/en/classified/house/for-sale/libramont-chevigny/6800/9939016?searchId=62990220cf038', 'https://www.immoweb.be/en/classified/house/for-sale/chaumont-gistoux/1325/9939243?searchId=62990220cf038', 'https://www.immoweb.be/en/classified/villa/for-sale/herzele/9551/9938906?searchId=62990220cf038', 'https://www.immoweb.be/en/classified/new-real-estate-project-houses/for-sale/saint-sauveur/7912/9896009?searchId=62990220cf038', 'https://www.immoweb.be/en/classified/house/for-sale/couthuin/4218/9936766?searchId=62990220cf038', 'https://www.immoweb.be/en/classified/villa/for-sale/saint-gery-(chastre)/1450/9880789?searchId=62990220cf038', 'https://www.immoweb.be/en/classified/house/for-sale/marchin/4570/9944287?searchId=62990220cf038', 'https://www.immoweb.be/en/classified/villa/for-sale/gammerages/1570/9935270?searchId=62990220cf038', 'https://www.immoweb.be/en/classified/house/for-sale/bruxelles/1000/9935486?searchId=62990220cf038', 'https://www.immoweb.be/en/classified/town-house/for-sale/seraing/4100/9941095?searchId=62990220cf038', 'https://www.immoweb.be/en/classified/house/for-sale/amay/4540/9941765?searchId=62990220cf038', 'https://www.immoweb.be/en/classified/house/for-sale/oostrozebeke/8780/9942668?searchId=62990220cf038', 'https://www.immoweb.be/en/classified/house/for-sale/ronse/9600/9941998?searchId=62990220cf038', 'https://www.immoweb.be/en/classified/house/for-sale/ronse/9600/9941997?searchId=62990220cf038', 'https://www.immoweb.be/en/classified/exceptional-property/for-sale/liege/4000/9941078?searchId=62990220cf038', 'https://www.immoweb.be/en/classified/other-property/for-sale/avelgem/8580/9941359?searchId=62990220cf038', 'https://www.immoweb.be/en/classified/villa/for-sale/kerkhove/8581/9941957?searchId=62990220cf038', 'https://www.immoweb.be/en/classified/other-property/for-sale/kerkhove/8581/9941360?searchId=62990220cf038', 'https://www.immoweb.be/en/classified/villa/for-sale/wavre-limal/1300/9940892?searchId=62990220cf038', 'https://www.immoweb.be/en/classified/house/for-sale/rixensart/1330/9940287?searchId=62990220cf038', 'https://www.immoweb.be/en/classified/apartment-block/for-sale/bruxelles-ville/1000/9943136?searchId=62990220cf038', 'https://www.immoweb.be/en/classified/exceptional-property/for-sale/seraing/4100/9933807?searchId=62990220cf038', 'https://www.immoweb.be/en/classified/town-house/for-sale/forest/1190/9934005?searchId=62990220cf038', 'https://www.immoweb.be/en/classified/house/for-sale/wilsele/3012/9936522?searchId=62990220cf038', 'https://www.immoweb.be/en/classified/mixed-use-building/for-sale/kortrijk/8500/9936556?searchId=62990220cf038', 'https://www.immoweb.be/en/classified/house/for-sale/hoboken/2660/9938098?searchId=62990220cf038', 'https://www.immoweb.be/en/classified/house/for-sale/ixelles/1050/9942227', 'https://www.immoweb.be/en/classified/apartment-block/for-sale/ixelles/1050/9945073', 'https://www.immoweb.be/en/classified/apartment/for-sale/gent/9000/9945068', 'https://www.immoweb.be/en/classified/mansion/for-sale/templeuve/7520/9945066', 'https://www.immoweb.be/en/classified/apartment/for-sale/hoogstraten/2320/9945065', 'https://www.immoweb.be/en/classified/ground-floor/for-sale/ingelmunster/8770/9945064', 'https://www.immoweb.be/en/classified/apartment/for-sale/almeria/04640/9945062', 'https://www.immoweb.be/en/classified/ground-floor/for-sale/herzele/9550/9945047', 'https://www.immoweb.be/en/classified/house/for-sale/liege/4020/9941464?searchId=629902236e6bf', 'https://www.immoweb.be/en/classified/apartment-block/for-sale/libramont-chevigny/6800/9941435?searchId=629902236e6bf', 'https://www.immoweb.be/en/classified/house/for-sale/ruisbroek-(-bij-brussel)/1601/9941373?searchId=629902236e6bf', 'https://www.immoweb.be/en/classified/villa/for-sale/groot-bijgaarden/1702/9867538?searchId=629902236e6bf', 'https://www.immoweb.be/en/classified/house/for-sale/libramont-chevigny/6800/9939016?searchId=629902236e6bf', 'https://www.immoweb.be/en/classified/house/for-sale/chaumont-gistoux/1325/9939243?searchId=629902236e6bf', 'https://www.immoweb.be/en/classified/villa/for-sale/herzele/9551/9938906?searchId=629902236e6bf', 'https://www.immoweb.be/en/classified/new-real-estate-project-houses/for-sale/saint-sauveur/7912/9896009?searchId=629902236e6bf', 'https://www.immoweb.be/en/classified/house/for-sale/couthuin/4218/9936766?searchId=629902236e6bf', 'https://www.immoweb.be/en/classified/villa/for-sale/saint-gery-(chastre)/1450/9880789?searchId=629902236e6bf', 'https://www.immoweb.be/en/classified/house/for-sale/marchin/4570/9944287?searchId=629902236e6bf', 'https://www.immoweb.be/en/classified/villa/for-sale/gammerages/1570/9935270?searchId=629902236e6bf', 'https://www.immoweb.be/en/classified/house/for-sale/bruxelles/1000/9935486?searchId=629902236e6bf', 'https://www.immoweb.be/en/classified/town-house/for-sale/seraing/4100/9941095?searchId=629902236e6bf', 'https://www.immoweb.be/en/classified/house/for-sale/amay/4540/9941765?searchId=629902236e6bf', 'https://www.immoweb.be/en/classified/house/for-sale/oostrozebeke/8780/9942668?searchId=629902236e6bf', 'https://www.immoweb.be/en/classified/house/for-sale/ronse/9600/9941998?searchId=629902236e6bf', 'https://www.immoweb.be/en/classified/house/for-sale/ronse/9600/9941997?searchId=629902236e6bf', 'https://www.immoweb.be/en/classified/exceptional-property/for-sale/liege/4000/9941078?searchId=629902236e6bf', 'https://www.immoweb.be/en/classified/other-property/for-sale/avelgem/8580/9941359?searchId=629902236e6bf', 'https://www.immoweb.be/en/classified/villa/for-sale/kerkhove/8581/9941957?searchId=629902236e6bf', 'https://www.immoweb.be/en/classified/other-property/for-sale/kerkhove/8581/9941360?searchId=629902236e6bf', 'https://www.immoweb.be/en/classified/villa/for-sale/wavre-limal/1300/9940892?searchId=629902236e6bf', 'https://www.immoweb.be/en/classified/house/for-sale/rixensart/1330/9940287?searchId=629902236e6bf', 'https://www.immoweb.be/en/classified/apartment-block/for-sale/bruxelles-ville/1000/9943136?searchId=629902236e6bf', 'https://www.immoweb.be/en/classified/exceptional-property/for-sale/seraing/4100/9933807?searchId=629902236e6bf', 'https://www.immoweb.be/en/classified/town-house/for-sale/forest/1190/9934005?searchId=629902236e6bf', 'https://www.immoweb.be/en/classified/house/for-sale/wilsele/3012/9936522?searchId=629902236e6bf', 'https://www.immoweb.be/en/classified/mixed-use-building/for-sale/kortrijk/8500/9936556?searchId=629902236e6bf', 'https://www.immoweb.be/en/classified/house/for-sale/hoboken/2660/9938098?searchId=629902236e6bf', 'https://www.immoweb.be/en/classified/house/for-sale/ixelles/1050/9942227', 'https://www.immoweb.be/en/classified/apartment-block/for-sale/ixelles/1050/9945073', 'https://www.immoweb.be/en/classified/apartment/for-sale/gent/9000/9945068', 'https://www.immoweb.be/en/classified/mansion/for-sale/templeuve/7520/9945066', 'https://www.immoweb.be/en/classified/apartment/for-sale/hoogstraten/2320/9945065', 'https://www.immoweb.be/en/classified/ground-floor/for-sale/ingelmunster/8770/9945064', 'https://www.immoweb.be/en/classified/apartment/for-sale/almeria/04640/9945062', 'https://www.immoweb.be/en/classified/ground-floor/for-sale/herzele/9550/9945047', 'https://www.immoweb.be/en/classified/house/for-sale/beveren/9120/9941375?searchId=629902251d5bd', 'https://www.immoweb.be/en/classified/house/for-sale/auderghem/1160/9941083?searchId=629902251d5bd', 'https://www.immoweb.be/en/classified/house/for-sale/waterloo/1410/9932946?searchId=629902251d5bd', 'https://www.immoweb.be/en/classified/villa/for-sale/rebecq-rognon/1430/9932598?searchId=629902251d5bd', 'https://www.immoweb.be/en/classified/house/for-sale/woluwe-saint-lambert/1200/9931261?searchId=629902251d5bd', 'https://www.immoweb.be/en/classified/house/for-sale/ixelles/1050/9931229?searchId=629902251d5bd', 'https://www.immoweb.be/en/classified/exceptional-property/for-sale/anderlecht/1070/9932060?searchId=629902251d5bd', 'https://www.immoweb.be/en/classified/house/for-sale/woluwe-saint-pierre/1150/9928809?searchId=629902251d5bd', 'https://www.immoweb.be/en/classified/house/for-sale/montignies-sur-sambre/6061/9935285?searchId=629902251d5bd', 'https://www.immoweb.be/en/classified/house/for-sale/liege/4000/9935921?searchId=629902251d5bd', 'https://www.immoweb.be/en/classified/house/for-sale/schaerbeek/1030/9935475?searchId=629902251d5bd', 'https://www.immoweb.be/en/classified/villa/for-sale/juprelle-wihogne/4452/9941079?searchId=629902251d5bd', 'https://www.immoweb.be/en/classified/other-property/for-sale/saint-gilles/1060/9942511?searchId=629902251d5bd', 'https://www.immoweb.be/en/classified/villa/for-sale/rixensart/1330/9941250?searchId=629902251d5bd', 'https://www.immoweb.be/en/classified/house/for-sale/engis/4480/9927404?searchId=629902251d5bd', 'https://www.immoweb.be/en/classified/villa/for-sale/genappe/1470/9926830?searchId=629902251d5bd', 'https://www.immoweb.be/en/classified/villa/for-sale/asse/1730/9935025?searchId=629902251d5bd', 'https://www.immoweb.be/en/classified/villa/for-sale/grez-doiceau-archennes/1390/9936298?searchId=629902251d5bd', 'https://www.immoweb.be/en/classified/apartment-block/for-sale/bruxelles/1000/9939855?searchId=629902251d5bd', 'https://www.immoweb.be/en/classified/apartment-block/for-sale/saint-gilles/1060/9940274?searchId=629902251d5bd', 'https://www.immoweb.be/en/classified/villa/for-sale/rhode-saint-genese/1640/9943710?searchId=629902251d5bd', 'https://www.immoweb.be/en/classified/new-real-estate-project-houses/for-sale/boom/2850/9911454?searchId=629902251d5bd', 'https://www.immoweb.be/en/classified/apartment-block/for-sale/jette/1090/9933781?searchId=629902251d5bd', 'https://www.immoweb.be/en/classified/house/for-sale/amay/4540/9942649?searchId=629902251d5bd', 'https://www.immoweb.be/en/classified/house/for-sale/gent-sint-denijs-westrem/9051/9941217?searchId=629902251d5bd', 'https://www.immoweb.be/en/classified/bungalow/for-sale/waregem/8790/9942672?searchId=629902251d5bd', 'https://www.immoweb.be/en/classified/villa/for-sale/oostrozebeke/8780/9942673?searchId=629902251d5bd', 'https://www.immoweb.be/en/classified/house/for-sale/vilvoorde/1800/9941022?searchId=629902251d5bd', 'https://www.immoweb.be/en/classified/villa/for-sale/marke/8510/9941955?searchId=629902251d5bd', 'https://www.immoweb.be/en/classified/villa/for-sale/marke/8510/9941954?searchId=629902251d5bd']\n"
     ]
    }
   ],
   "source": [
    "linksTotal = []\n",
    "\n",
    "for page in range(0,3):\n",
    "   driver.get(f'https://www.immoweb.be/en/search/house/for-sale?countries=BE&page={page}&orderBy=relevance')\n",
    "\n",
    "   links = driver.find_elements(by=By.XPATH, value=\"//a[@class='card__title-link']\")\n",
    "   \n",
    "   for link in links:\n",
    "      #print(link.get_attribute('href'))\n",
    "      linksTotal.append(link.get_attribute('href'))\n",
    "\n",
    "print(linksTotal)"
   ]
  },
  {
   "cell_type": "code",
   "execution_count": 4,
   "metadata": {},
   "outputs": [],
   "source": [
    "lista = []\n",
    "for page in range(0,3):\n",
    "   driver.get(f'https://www.immoweb.be/en/search/house/for-sale?countries=BE&page={page}&orderBy=relevance')\n",
    "\n",
    "   links = driver.find_elements(by=By.XPATH, value=\"//a[@class='card__title-link']\")\n",
    "   \n",
    "   for link in links:\n",
    "      #print(link.get_attribute('href'))\n",
    "      lista.append(link.get_attribute('href'))\n",
    "\n",
    "df = pd.DataFrame({\"Title\": lista})\n",
    "df.to_csv(\"output.csv\")\n"
   ]
  },
  {
   "cell_type": "markdown",
   "metadata": {},
   "source": [
    "Values"
   ]
  },
  {
   "cell_type": "code",
   "execution_count": 4,
   "metadata": {},
   "outputs": [
    {
     "ename": "NoSuchElementException",
     "evalue": "Message: no such element: Unable to locate element: {\"method\":\"tag name\",\"selector\":\"tr\"}\n  (Session info: chrome=101.0.4951.67)\nStacktrace:\nBacktrace:\n\tOrdinal0 [0x007AB8F3+2406643]\n\tOrdinal0 [0x0073AF31+1945393]\n\tOrdinal0 [0x0062C748+837448]\n\tOrdinal0 [0x006592E0+1020640]\n\tOrdinal0 [0x0065957B+1021307]\n\tOrdinal0 [0x00686372+1205106]\n\tOrdinal0 [0x006742C4+1131204]\n\tOrdinal0 [0x00684682+1197698]\n\tOrdinal0 [0x00674096+1130646]\n\tOrdinal0 [0x0064E636+976438]\n\tOrdinal0 [0x0064F546+980294]\n\tGetHandleVerifier [0x00A19612+2498066]\n\tGetHandleVerifier [0x00A0C920+2445600]\n\tGetHandleVerifier [0x00844F2A+579370]\n\tGetHandleVerifier [0x00843D36+574774]\n\tOrdinal0 [0x00741C0B+1973259]\n\tOrdinal0 [0x00746688+1992328]\n\tOrdinal0 [0x00746775+1992565]\n\tOrdinal0 [0x0074F8D1+2029777]\n\tBaseThreadInitThunk [0x76BA6739+25]\n\tRtlGetFullPathName_UEx [0x77348FEF+1215]\n\tRtlGetFullPathName_UEx [0x77348FBD+1165]\n",
     "output_type": "error",
     "traceback": [
      "\u001b[1;31m---------------------------------------------------------------------------\u001b[0m",
      "\u001b[1;31mNoSuchElementException\u001b[0m                    Traceback (most recent call last)",
      "\u001b[1;32mc:\\Users\\yurit\\Documents\\ANT-Theano-4\\content\\2.python\\2.python_advanced\\05.Scraping\\YuriProject.ipynb Cell 5'\u001b[0m in \u001b[0;36m<cell line: 1>\u001b[1;34m()\u001b[0m\n\u001b[1;32m----> <a href='vscode-notebook-cell:/c%3A/Users/yurit/Documents/ANT-Theano-4/content/2.python/2.python_advanced/05.Scraping/YuriProject.ipynb#ch0000010?line=0'>1</a>\u001b[0m element \u001b[39m=\u001b[39m driver\u001b[39m.\u001b[39;49mfind_element(by\u001b[39m=\u001b[39;49mBy\u001b[39m.\u001b[39;49mTAG_NAME, value\u001b[39m=\u001b[39;49m\u001b[39m'\u001b[39;49m\u001b[39mtr\u001b[39;49m\u001b[39m'\u001b[39;49m)\n\u001b[0;32m      <a href='vscode-notebook-cell:/c%3A/Users/yurit/Documents/ANT-Theano-4/content/2.python/2.python_advanced/05.Scraping/YuriProject.ipynb#ch0000010?line=2'>3</a>\u001b[0m actions \u001b[39m=\u001b[39m webdriver\u001b[39m.\u001b[39mActionChains(driver)\n\u001b[0;32m      <a href='vscode-notebook-cell:/c%3A/Users/yurit/Documents/ANT-Theano-4/content/2.python/2.python_advanced/05.Scraping/YuriProject.ipynb#ch0000010?line=3'>4</a>\u001b[0m actions\u001b[39m.\u001b[39mmove_to_element(element)\u001b[39m.\u001b[39mperform()\n",
      "File \u001b[1;32mc:\\Users\\yurit\\anaconda3\\lib\\site-packages\\selenium\\webdriver\\remote\\webdriver.py:1251\u001b[0m, in \u001b[0;36mWebDriver.find_element\u001b[1;34m(self, by, value)\u001b[0m\n\u001b[0;32m   <a href='file:///c%3A/Users/yurit/anaconda3/lib/site-packages/selenium/webdriver/remote/webdriver.py?line=1247'>1248</a>\u001b[0m     by \u001b[39m=\u001b[39m By\u001b[39m.\u001b[39mCSS_SELECTOR\n\u001b[0;32m   <a href='file:///c%3A/Users/yurit/anaconda3/lib/site-packages/selenium/webdriver/remote/webdriver.py?line=1248'>1249</a>\u001b[0m     value \u001b[39m=\u001b[39m \u001b[39m'\u001b[39m\u001b[39m[name=\u001b[39m\u001b[39m\"\u001b[39m\u001b[39m%s\u001b[39;00m\u001b[39m\"\u001b[39m\u001b[39m]\u001b[39m\u001b[39m'\u001b[39m \u001b[39m%\u001b[39m value\n\u001b[1;32m-> <a href='file:///c%3A/Users/yurit/anaconda3/lib/site-packages/selenium/webdriver/remote/webdriver.py?line=1250'>1251</a>\u001b[0m \u001b[39mreturn\u001b[39;00m \u001b[39mself\u001b[39;49m\u001b[39m.\u001b[39;49mexecute(Command\u001b[39m.\u001b[39;49mFIND_ELEMENT, {\n\u001b[0;32m   <a href='file:///c%3A/Users/yurit/anaconda3/lib/site-packages/selenium/webdriver/remote/webdriver.py?line=1251'>1252</a>\u001b[0m     \u001b[39m'\u001b[39;49m\u001b[39musing\u001b[39;49m\u001b[39m'\u001b[39;49m: by,\n\u001b[0;32m   <a href='file:///c%3A/Users/yurit/anaconda3/lib/site-packages/selenium/webdriver/remote/webdriver.py?line=1252'>1253</a>\u001b[0m     \u001b[39m'\u001b[39;49m\u001b[39mvalue\u001b[39;49m\u001b[39m'\u001b[39;49m: value})[\u001b[39m'\u001b[39m\u001b[39mvalue\u001b[39m\u001b[39m'\u001b[39m]\n",
      "File \u001b[1;32mc:\\Users\\yurit\\anaconda3\\lib\\site-packages\\selenium\\webdriver\\remote\\webdriver.py:430\u001b[0m, in \u001b[0;36mWebDriver.execute\u001b[1;34m(self, driver_command, params)\u001b[0m\n\u001b[0;32m    <a href='file:///c%3A/Users/yurit/anaconda3/lib/site-packages/selenium/webdriver/remote/webdriver.py?line=427'>428</a>\u001b[0m response \u001b[39m=\u001b[39m \u001b[39mself\u001b[39m\u001b[39m.\u001b[39mcommand_executor\u001b[39m.\u001b[39mexecute(driver_command, params)\n\u001b[0;32m    <a href='file:///c%3A/Users/yurit/anaconda3/lib/site-packages/selenium/webdriver/remote/webdriver.py?line=428'>429</a>\u001b[0m \u001b[39mif\u001b[39;00m response:\n\u001b[1;32m--> <a href='file:///c%3A/Users/yurit/anaconda3/lib/site-packages/selenium/webdriver/remote/webdriver.py?line=429'>430</a>\u001b[0m     \u001b[39mself\u001b[39;49m\u001b[39m.\u001b[39;49merror_handler\u001b[39m.\u001b[39;49mcheck_response(response)\n\u001b[0;32m    <a href='file:///c%3A/Users/yurit/anaconda3/lib/site-packages/selenium/webdriver/remote/webdriver.py?line=430'>431</a>\u001b[0m     response[\u001b[39m'\u001b[39m\u001b[39mvalue\u001b[39m\u001b[39m'\u001b[39m] \u001b[39m=\u001b[39m \u001b[39mself\u001b[39m\u001b[39m.\u001b[39m_unwrap_value(\n\u001b[0;32m    <a href='file:///c%3A/Users/yurit/anaconda3/lib/site-packages/selenium/webdriver/remote/webdriver.py?line=431'>432</a>\u001b[0m         response\u001b[39m.\u001b[39mget(\u001b[39m'\u001b[39m\u001b[39mvalue\u001b[39m\u001b[39m'\u001b[39m, \u001b[39mNone\u001b[39;00m))\n\u001b[0;32m    <a href='file:///c%3A/Users/yurit/anaconda3/lib/site-packages/selenium/webdriver/remote/webdriver.py?line=432'>433</a>\u001b[0m     \u001b[39mreturn\u001b[39;00m response\n",
      "File \u001b[1;32mc:\\Users\\yurit\\anaconda3\\lib\\site-packages\\selenium\\webdriver\\remote\\errorhandler.py:247\u001b[0m, in \u001b[0;36mErrorHandler.check_response\u001b[1;34m(self, response)\u001b[0m\n\u001b[0;32m    <a href='file:///c%3A/Users/yurit/anaconda3/lib/site-packages/selenium/webdriver/remote/errorhandler.py?line=244'>245</a>\u001b[0m         alert_text \u001b[39m=\u001b[39m value[\u001b[39m'\u001b[39m\u001b[39malert\u001b[39m\u001b[39m'\u001b[39m]\u001b[39m.\u001b[39mget(\u001b[39m'\u001b[39m\u001b[39mtext\u001b[39m\u001b[39m'\u001b[39m)\n\u001b[0;32m    <a href='file:///c%3A/Users/yurit/anaconda3/lib/site-packages/selenium/webdriver/remote/errorhandler.py?line=245'>246</a>\u001b[0m     \u001b[39mraise\u001b[39;00m exception_class(message, screen, stacktrace, alert_text)  \u001b[39m# type: ignore[call-arg]  # mypy is not smart enough here\u001b[39;00m\n\u001b[1;32m--> <a href='file:///c%3A/Users/yurit/anaconda3/lib/site-packages/selenium/webdriver/remote/errorhandler.py?line=246'>247</a>\u001b[0m \u001b[39mraise\u001b[39;00m exception_class(message, screen, stacktrace)\n",
      "\u001b[1;31mNoSuchElementException\u001b[0m: Message: no such element: Unable to locate element: {\"method\":\"tag name\",\"selector\":\"tr\"}\n  (Session info: chrome=101.0.4951.67)\nStacktrace:\nBacktrace:\n\tOrdinal0 [0x007AB8F3+2406643]\n\tOrdinal0 [0x0073AF31+1945393]\n\tOrdinal0 [0x0062C748+837448]\n\tOrdinal0 [0x006592E0+1020640]\n\tOrdinal0 [0x0065957B+1021307]\n\tOrdinal0 [0x00686372+1205106]\n\tOrdinal0 [0x006742C4+1131204]\n\tOrdinal0 [0x00684682+1197698]\n\tOrdinal0 [0x00674096+1130646]\n\tOrdinal0 [0x0064E636+976438]\n\tOrdinal0 [0x0064F546+980294]\n\tGetHandleVerifier [0x00A19612+2498066]\n\tGetHandleVerifier [0x00A0C920+2445600]\n\tGetHandleVerifier [0x00844F2A+579370]\n\tGetHandleVerifier [0x00843D36+574774]\n\tOrdinal0 [0x00741C0B+1973259]\n\tOrdinal0 [0x00746688+1992328]\n\tOrdinal0 [0x00746775+1992565]\n\tOrdinal0 [0x0074F8D1+2029777]\n\tBaseThreadInitThunk [0x76BA6739+25]\n\tRtlGetFullPathName_UEx [0x77348FEF+1215]\n\tRtlGetFullPathName_UEx [0x77348FBD+1165]\n"
     ]
    }
   ],
   "source": []
  },
  {
   "cell_type": "code",
   "execution_count": 3,
   "metadata": {},
   "outputs": [
    {
     "ename": "NoSuchElementException",
     "evalue": "Message: no such element: Unable to locate element: {\"method\":\"tag name\",\"selector\":\"tr\"}\n  (Session info: chrome=101.0.4951.67)\nStacktrace:\nBacktrace:\n\tOrdinal0 [0x007AB8F3+2406643]\n\tOrdinal0 [0x0073AF31+1945393]\n\tOrdinal0 [0x0062C748+837448]\n\tOrdinal0 [0x006592E0+1020640]\n\tOrdinal0 [0x0065957B+1021307]\n\tOrdinal0 [0x00686372+1205106]\n\tOrdinal0 [0x006742C4+1131204]\n\tOrdinal0 [0x00684682+1197698]\n\tOrdinal0 [0x00674096+1130646]\n\tOrdinal0 [0x0064E636+976438]\n\tOrdinal0 [0x0064F546+980294]\n\tGetHandleVerifier [0x00A19612+2498066]\n\tGetHandleVerifier [0x00A0C920+2445600]\n\tGetHandleVerifier [0x00844F2A+579370]\n\tGetHandleVerifier [0x00843D36+574774]\n\tOrdinal0 [0x00741C0B+1973259]\n\tOrdinal0 [0x00746688+1992328]\n\tOrdinal0 [0x00746775+1992565]\n\tOrdinal0 [0x0074F8D1+2029777]\n\tBaseThreadInitThunk [0x76BA6739+25]\n\tRtlGetFullPathName_UEx [0x77348FEF+1215]\n\tRtlGetFullPathName_UEx [0x77348FBD+1165]\n",
     "output_type": "error",
     "traceback": [
      "\u001b[1;31m---------------------------------------------------------------------------\u001b[0m",
      "\u001b[1;31mNoSuchElementException\u001b[0m                    Traceback (most recent call last)",
      "\u001b[1;32mc:\\Users\\yurit\\Documents\\ANT-Theano-4\\content\\2.python\\2.python_advanced\\05.Scraping\\YuriProject.ipynb Cell 6'\u001b[0m in \u001b[0;36m<cell line: 1>\u001b[1;34m()\u001b[0m\n\u001b[0;32m      <a href='vscode-notebook-cell:/c%3A/Users/yurit/Documents/ANT-Theano-4/content/2.python/2.python_advanced/05.Scraping/YuriProject.ipynb#ch0000005?line=0'>1</a>\u001b[0m \u001b[39mfor\u001b[39;00m link \u001b[39min\u001b[39;00m linksTotal:\n\u001b[1;32m----> <a href='vscode-notebook-cell:/c%3A/Users/yurit/Documents/ANT-Theano-4/content/2.python/2.python_advanced/05.Scraping/YuriProject.ipynb#ch0000005?line=1'>2</a>\u001b[0m     element \u001b[39m=\u001b[39m driver\u001b[39m.\u001b[39;49mfind_element(by\u001b[39m=\u001b[39;49mBy\u001b[39m.\u001b[39;49mTAG_NAME, value\u001b[39m=\u001b[39;49m\u001b[39m'\u001b[39;49m\u001b[39mtr\u001b[39;49m\u001b[39m'\u001b[39;49m)\n\u001b[0;32m      <a href='vscode-notebook-cell:/c%3A/Users/yurit/Documents/ANT-Theano-4/content/2.python/2.python_advanced/05.Scraping/YuriProject.ipynb#ch0000005?line=3'>4</a>\u001b[0m     actions \u001b[39m=\u001b[39m webdriver\u001b[39m.\u001b[39mActionChains(driver)\n\u001b[0;32m      <a href='vscode-notebook-cell:/c%3A/Users/yurit/Documents/ANT-Theano-4/content/2.python/2.python_advanced/05.Scraping/YuriProject.ipynb#ch0000005?line=4'>5</a>\u001b[0m     actions\u001b[39m.\u001b[39mmove_to_element(element)\u001b[39m.\u001b[39mperform()\n",
      "File \u001b[1;32mc:\\Users\\yurit\\anaconda3\\lib\\site-packages\\selenium\\webdriver\\remote\\webdriver.py:1251\u001b[0m, in \u001b[0;36mWebDriver.find_element\u001b[1;34m(self, by, value)\u001b[0m\n\u001b[0;32m   <a href='file:///c%3A/Users/yurit/anaconda3/lib/site-packages/selenium/webdriver/remote/webdriver.py?line=1247'>1248</a>\u001b[0m     by \u001b[39m=\u001b[39m By\u001b[39m.\u001b[39mCSS_SELECTOR\n\u001b[0;32m   <a href='file:///c%3A/Users/yurit/anaconda3/lib/site-packages/selenium/webdriver/remote/webdriver.py?line=1248'>1249</a>\u001b[0m     value \u001b[39m=\u001b[39m \u001b[39m'\u001b[39m\u001b[39m[name=\u001b[39m\u001b[39m\"\u001b[39m\u001b[39m%s\u001b[39;00m\u001b[39m\"\u001b[39m\u001b[39m]\u001b[39m\u001b[39m'\u001b[39m \u001b[39m%\u001b[39m value\n\u001b[1;32m-> <a href='file:///c%3A/Users/yurit/anaconda3/lib/site-packages/selenium/webdriver/remote/webdriver.py?line=1250'>1251</a>\u001b[0m \u001b[39mreturn\u001b[39;00m \u001b[39mself\u001b[39;49m\u001b[39m.\u001b[39;49mexecute(Command\u001b[39m.\u001b[39;49mFIND_ELEMENT, {\n\u001b[0;32m   <a href='file:///c%3A/Users/yurit/anaconda3/lib/site-packages/selenium/webdriver/remote/webdriver.py?line=1251'>1252</a>\u001b[0m     \u001b[39m'\u001b[39;49m\u001b[39musing\u001b[39;49m\u001b[39m'\u001b[39;49m: by,\n\u001b[0;32m   <a href='file:///c%3A/Users/yurit/anaconda3/lib/site-packages/selenium/webdriver/remote/webdriver.py?line=1252'>1253</a>\u001b[0m     \u001b[39m'\u001b[39;49m\u001b[39mvalue\u001b[39;49m\u001b[39m'\u001b[39;49m: value})[\u001b[39m'\u001b[39m\u001b[39mvalue\u001b[39m\u001b[39m'\u001b[39m]\n",
      "File \u001b[1;32mc:\\Users\\yurit\\anaconda3\\lib\\site-packages\\selenium\\webdriver\\remote\\webdriver.py:430\u001b[0m, in \u001b[0;36mWebDriver.execute\u001b[1;34m(self, driver_command, params)\u001b[0m\n\u001b[0;32m    <a href='file:///c%3A/Users/yurit/anaconda3/lib/site-packages/selenium/webdriver/remote/webdriver.py?line=427'>428</a>\u001b[0m response \u001b[39m=\u001b[39m \u001b[39mself\u001b[39m\u001b[39m.\u001b[39mcommand_executor\u001b[39m.\u001b[39mexecute(driver_command, params)\n\u001b[0;32m    <a href='file:///c%3A/Users/yurit/anaconda3/lib/site-packages/selenium/webdriver/remote/webdriver.py?line=428'>429</a>\u001b[0m \u001b[39mif\u001b[39;00m response:\n\u001b[1;32m--> <a href='file:///c%3A/Users/yurit/anaconda3/lib/site-packages/selenium/webdriver/remote/webdriver.py?line=429'>430</a>\u001b[0m     \u001b[39mself\u001b[39;49m\u001b[39m.\u001b[39;49merror_handler\u001b[39m.\u001b[39;49mcheck_response(response)\n\u001b[0;32m    <a href='file:///c%3A/Users/yurit/anaconda3/lib/site-packages/selenium/webdriver/remote/webdriver.py?line=430'>431</a>\u001b[0m     response[\u001b[39m'\u001b[39m\u001b[39mvalue\u001b[39m\u001b[39m'\u001b[39m] \u001b[39m=\u001b[39m \u001b[39mself\u001b[39m\u001b[39m.\u001b[39m_unwrap_value(\n\u001b[0;32m    <a href='file:///c%3A/Users/yurit/anaconda3/lib/site-packages/selenium/webdriver/remote/webdriver.py?line=431'>432</a>\u001b[0m         response\u001b[39m.\u001b[39mget(\u001b[39m'\u001b[39m\u001b[39mvalue\u001b[39m\u001b[39m'\u001b[39m, \u001b[39mNone\u001b[39;00m))\n\u001b[0;32m    <a href='file:///c%3A/Users/yurit/anaconda3/lib/site-packages/selenium/webdriver/remote/webdriver.py?line=432'>433</a>\u001b[0m     \u001b[39mreturn\u001b[39;00m response\n",
      "File \u001b[1;32mc:\\Users\\yurit\\anaconda3\\lib\\site-packages\\selenium\\webdriver\\remote\\errorhandler.py:247\u001b[0m, in \u001b[0;36mErrorHandler.check_response\u001b[1;34m(self, response)\u001b[0m\n\u001b[0;32m    <a href='file:///c%3A/Users/yurit/anaconda3/lib/site-packages/selenium/webdriver/remote/errorhandler.py?line=244'>245</a>\u001b[0m         alert_text \u001b[39m=\u001b[39m value[\u001b[39m'\u001b[39m\u001b[39malert\u001b[39m\u001b[39m'\u001b[39m]\u001b[39m.\u001b[39mget(\u001b[39m'\u001b[39m\u001b[39mtext\u001b[39m\u001b[39m'\u001b[39m)\n\u001b[0;32m    <a href='file:///c%3A/Users/yurit/anaconda3/lib/site-packages/selenium/webdriver/remote/errorhandler.py?line=245'>246</a>\u001b[0m     \u001b[39mraise\u001b[39;00m exception_class(message, screen, stacktrace, alert_text)  \u001b[39m# type: ignore[call-arg]  # mypy is not smart enough here\u001b[39;00m\n\u001b[1;32m--> <a href='file:///c%3A/Users/yurit/anaconda3/lib/site-packages/selenium/webdriver/remote/errorhandler.py?line=246'>247</a>\u001b[0m \u001b[39mraise\u001b[39;00m exception_class(message, screen, stacktrace)\n",
      "\u001b[1;31mNoSuchElementException\u001b[0m: Message: no such element: Unable to locate element: {\"method\":\"tag name\",\"selector\":\"tr\"}\n  (Session info: chrome=101.0.4951.67)\nStacktrace:\nBacktrace:\n\tOrdinal0 [0x007AB8F3+2406643]\n\tOrdinal0 [0x0073AF31+1945393]\n\tOrdinal0 [0x0062C748+837448]\n\tOrdinal0 [0x006592E0+1020640]\n\tOrdinal0 [0x0065957B+1021307]\n\tOrdinal0 [0x00686372+1205106]\n\tOrdinal0 [0x006742C4+1131204]\n\tOrdinal0 [0x00684682+1197698]\n\tOrdinal0 [0x00674096+1130646]\n\tOrdinal0 [0x0064E636+976438]\n\tOrdinal0 [0x0064F546+980294]\n\tGetHandleVerifier [0x00A19612+2498066]\n\tGetHandleVerifier [0x00A0C920+2445600]\n\tGetHandleVerifier [0x00844F2A+579370]\n\tGetHandleVerifier [0x00843D36+574774]\n\tOrdinal0 [0x00741C0B+1973259]\n\tOrdinal0 [0x00746688+1992328]\n\tOrdinal0 [0x00746775+1992565]\n\tOrdinal0 [0x0074F8D1+2029777]\n\tBaseThreadInitThunk [0x76BA6739+25]\n\tRtlGetFullPathName_UEx [0x77348FEF+1215]\n\tRtlGetFullPathName_UEx [0x77348FBD+1165]\n"
     ]
    }
   ],
   "source": [
    "for link in linksTotal:\n",
    "    element = driver.find_element(by=By.TAG_NAME, value='tr')\n",
    "\n",
    "    actions = webdriver.ActionChains(driver)\n",
    "    actions.move_to_element(element).perform()\n",
    "    actions.click().perform()\n",
    "\n",
    "    rows = WebDriverWait(driver, 30).until(EC.presence_of_all_elements_located((By.CSS_SELECTOR, 'tbody > tr')))\n",
    "\n",
    "    mydict = {} \n",
    "    for row in rows: \n",
    "        for th in row.find_elements(By.TAG_NAME, 'th'):\n",
    "            for td in row.find_elements(By.TAG_NAME, 'td'):\n",
    "                mydict[th.text.strip()] = td.text.strip()\n",
    "    #print(mydict)"
   ]
  },
  {
   "cell_type": "code",
   "execution_count": null,
   "metadata": {},
   "outputs": [],
   "source": [
    "keyLookup = ['Price', 'Building condition','Bedrooms', 'Living area', 'Kitchen type','Furnished','Garden','Garden surface','Terrace','Terrace surface','Surface of the plot','Energy class','Number of frontages','Swimming pool']\n",
    "\n",
    "mylist = []\n",
    "def getList(mydict):\n",
    "\n",
    "    for key in keyLookup:\n",
    "        mylist.append(mydict.get(key))\n",
    "          \n",
    "    return mylist\n",
    "\n",
    "print(getList(mydict))"
   ]
  }
 ],
 "metadata": {
  "interpreter": {
   "hash": "8d21f3b75a0e2120eb0e66e21d4adea905fc160c040159242535b1a26e9f956d"
  },
  "kernelspec": {
   "display_name": "Python 3.9.7 ('base')",
   "language": "python",
   "name": "python3"
  },
  "language_info": {
   "codemirror_mode": {
    "name": "ipython",
    "version": 3
   },
   "file_extension": ".py",
   "mimetype": "text/x-python",
   "name": "python",
   "nbconvert_exporter": "python",
   "pygments_lexer": "ipython3",
   "version": "3.9.7"
  },
  "orig_nbformat": 4
 },
 "nbformat": 4,
 "nbformat_minor": 2
}
