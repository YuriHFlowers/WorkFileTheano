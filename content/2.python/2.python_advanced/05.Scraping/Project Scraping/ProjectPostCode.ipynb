{
 "cells": [
  {
   "cell_type": "code",
   "execution_count": 1,
   "metadata": {},
   "outputs": [],
   "source": [
    "import csv\n",
    "import pandas as pd\n",
    "import pytest\n",
    "import time\n",
    "import json\n",
    "import sqlite3\n",
    "\n",
    "from selenium import webdriver\n",
    "from selenium.webdriver.support.ui import WebDriverWait\n",
    "from selenium.webdriver.support import expected_conditions as EC\n",
    "from selenium.common.exceptions import TimeoutException\n",
    "from selenium.webdriver.common.by import By\n",
    "from selenium.webdriver.chrome.service import Service\n",
    "from selenium.webdriver.chrome.options import Options\n",
    "from selenium.webdriver.common.action_chains import ActionChains\n",
    "\n",
    "options = Options()"
   ]
  },
  {
   "cell_type": "code",
   "execution_count": 2,
   "metadata": {},
   "outputs": [
    {
     "name": "stdout",
     "output_type": "stream",
     "text": [
      "Timeout and No Alert Appearing\n",
      "There's no description about this location\n"
     ]
    },
    {
     "ename": "ElementClickInterceptedException",
     "evalue": "Message: element click intercepted: Element <button type=\"button\" class=\"classified__information--address-map-button | button button--text button--size-small\">...</button> is not clickable at point (153, 147). Other element would receive the click: <div id=\"uc-btn-outside-click-banner-modal\" class=\"uc-overlay\" style=\"background-color: rgba(0,0,0,0.5)\"></div>\n  (Session info: chrome=102.0.5005.63)\nStacktrace:\nBacktrace:\n\tOrdinal0 [0x0049B8F3+2406643]\n\tOrdinal0 [0x0042AF31+1945393]\n\tOrdinal0 [0x0031C748+837448]\n\tOrdinal0 [0x0034FA1B+1047067]\n\tOrdinal0 [0x0034D9F8+1038840]\n\tOrdinal0 [0x0034B6DB+1029851]\n\tOrdinal0 [0x0034A439+1025081]\n\tOrdinal0 [0x00340083+983171]\n\tOrdinal0 [0x0036427C+1131132]\n\tOrdinal0 [0x0033FA64+981604]\n\tOrdinal0 [0x00364494+1131668]\n\tOrdinal0 [0x00374682+1197698]\n\tOrdinal0 [0x00364096+1130646]\n\tOrdinal0 [0x0033E636+976438]\n\tOrdinal0 [0x0033F546+980294]\n\tGetHandleVerifier [0x00709612+2498066]\n\tGetHandleVerifier [0x006FC920+2445600]\n\tGetHandleVerifier [0x00534F2A+579370]\n\tGetHandleVerifier [0x00533D36+574774]\n\tOrdinal0 [0x00431C0B+1973259]\n\tOrdinal0 [0x00436688+1992328]\n\tOrdinal0 [0x00436775+1992565]\n\tOrdinal0 [0x0043F8D1+2029777]\n\tBaseThreadInitThunk [0x761F6739+25]\n\tRtlGetFullPathName_UEx [0x77278FEF+1215]\n\tRtlGetFullPathName_UEx [0x77278FBD+1165]\n",
     "output_type": "error",
     "traceback": [
      "\u001b[1;31m---------------------------------------------------------------------------\u001b[0m",
      "\u001b[1;31mElementClickInterceptedException\u001b[0m          Traceback (most recent call last)",
      "\u001b[1;32mc:\\Users\\yurit\\Documents\\ANT-Theano-4\\content\\2.python\\2.python_advanced\\05.Scraping\\Project002 copy.ipynb Cell 2'\u001b[0m in \u001b[0;36m<cell line: 49>\u001b[1;34m()\u001b[0m\n\u001b[0;32m     <a href='vscode-notebook-cell:/c%3A/Users/yurit/Documents/ANT-Theano-4/content/2.python/2.python_advanced/05.Scraping/Project002%20copy.ipynb#ch0000001?line=47'>48</a>\u001b[0m \u001b[39m#if __name__==\"__main__\":\u001b[39;00m\n\u001b[0;32m     <a href='vscode-notebook-cell:/c%3A/Users/yurit/Documents/ANT-Theano-4/content/2.python/2.python_advanced/05.Scraping/Project002%20copy.ipynb#ch0000001?line=48'>49</a>\u001b[0m \u001b[39mwith\u001b[39;00m \u001b[39mopen\u001b[39m(\u001b[39m\"\u001b[39m\u001b[39mURL.csv\u001b[39m\u001b[39m\"\u001b[39m) \u001b[39mas\u001b[39;00m url_obj:\n\u001b[1;32m---> <a href='vscode-notebook-cell:/c%3A/Users/yurit/Documents/ANT-Theano-4/content/2.python/2.python_advanced/05.Scraping/Project002%20copy.ipynb#ch0000001?line=49'>50</a>\u001b[0m     csv_url_reader(url_obj)\n",
      "\u001b[1;32mc:\\Users\\yurit\\Documents\\ANT-Theano-4\\content\\2.python\\2.python_advanced\\05.Scraping\\Project002 copy.ipynb Cell 2'\u001b[0m in \u001b[0;36mcsv_url_reader\u001b[1;34m(url_obj)\u001b[0m\n\u001b[0;32m     <a href='vscode-notebook-cell:/c%3A/Users/yurit/Documents/ANT-Theano-4/content/2.python/2.python_advanced/05.Scraping/Project002%20copy.ipynb#ch0000001?line=34'>35</a>\u001b[0m     \u001b[39mprint\u001b[39m (\u001b[39m\"\u001b[39m\u001b[39mThere\u001b[39m\u001b[39m'\u001b[39m\u001b[39ms no description about this location\u001b[39m\u001b[39m\"\u001b[39m)\n\u001b[0;32m     <a href='vscode-notebook-cell:/c%3A/Users/yurit/Documents/ANT-Theano-4/content/2.python/2.python_advanced/05.Scraping/Project002%20copy.ipynb#ch0000001?line=36'>37</a>\u001b[0m mylist2\u001b[39m=\u001b[39m []\n\u001b[1;32m---> <a href='vscode-notebook-cell:/c%3A/Users/yurit/Documents/ANT-Theano-4/content/2.python/2.python_advanced/05.Scraping/Project002%20copy.ipynb#ch0000001?line=37'>38</a>\u001b[0m postcode \u001b[39m=\u001b[39m driver\u001b[39m.\u001b[39;49mfind_element(by\u001b[39m=\u001b[39;49mBy\u001b[39m.\u001b[39;49mXPATH, value\u001b[39m=\u001b[39;49m\u001b[39m\"\u001b[39;49m\u001b[39m//button[@class=\u001b[39;49m\u001b[39m'\u001b[39;49m\u001b[39mclassified__information--address-map-button | button button--text button--size-small\u001b[39;49m\u001b[39m'\u001b[39;49m\u001b[39m]\u001b[39;49m\u001b[39m\"\u001b[39;49m)\u001b[39m.\u001b[39;49mclick()\n\u001b[0;32m     <a href='vscode-notebook-cell:/c%3A/Users/yurit/Documents/ANT-Theano-4/content/2.python/2.python_advanced/05.Scraping/Project002%20copy.ipynb#ch0000001?line=38'>39</a>\u001b[0m mylist2\u001b[39m.\u001b[39mappend(postcode)\n\u001b[0;32m     <a href='vscode-notebook-cell:/c%3A/Users/yurit/Documents/ANT-Theano-4/content/2.python/2.python_advanced/05.Scraping/Project002%20copy.ipynb#ch0000001?line=40'>41</a>\u001b[0m finalList2\u001b[39m.\u001b[39mappend(mylist2)\n",
      "File \u001b[1;32mc:\\Users\\yurit\\anaconda3\\lib\\site-packages\\selenium\\webdriver\\remote\\webelement.py:81\u001b[0m, in \u001b[0;36mWebElement.click\u001b[1;34m(self)\u001b[0m\n\u001b[0;32m     <a href='file:///c%3A/Users/yurit/anaconda3/lib/site-packages/selenium/webdriver/remote/webelement.py?line=78'>79</a>\u001b[0m \u001b[39mdef\u001b[39;00m \u001b[39mclick\u001b[39m(\u001b[39mself\u001b[39m) \u001b[39m-\u001b[39m\u001b[39m>\u001b[39m \u001b[39mNone\u001b[39;00m:\n\u001b[0;32m     <a href='file:///c%3A/Users/yurit/anaconda3/lib/site-packages/selenium/webdriver/remote/webelement.py?line=79'>80</a>\u001b[0m     \u001b[39m\"\"\"Clicks the element.\"\"\"\u001b[39;00m\n\u001b[1;32m---> <a href='file:///c%3A/Users/yurit/anaconda3/lib/site-packages/selenium/webdriver/remote/webelement.py?line=80'>81</a>\u001b[0m     \u001b[39mself\u001b[39;49m\u001b[39m.\u001b[39;49m_execute(Command\u001b[39m.\u001b[39;49mCLICK_ELEMENT)\n",
      "File \u001b[1;32mc:\\Users\\yurit\\anaconda3\\lib\\site-packages\\selenium\\webdriver\\remote\\webelement.py:740\u001b[0m, in \u001b[0;36mWebElement._execute\u001b[1;34m(self, command, params)\u001b[0m\n\u001b[0;32m    <a href='file:///c%3A/Users/yurit/anaconda3/lib/site-packages/selenium/webdriver/remote/webelement.py?line=737'>738</a>\u001b[0m     params \u001b[39m=\u001b[39m {}\n\u001b[0;32m    <a href='file:///c%3A/Users/yurit/anaconda3/lib/site-packages/selenium/webdriver/remote/webelement.py?line=738'>739</a>\u001b[0m params[\u001b[39m'\u001b[39m\u001b[39mid\u001b[39m\u001b[39m'\u001b[39m] \u001b[39m=\u001b[39m \u001b[39mself\u001b[39m\u001b[39m.\u001b[39m_id\n\u001b[1;32m--> <a href='file:///c%3A/Users/yurit/anaconda3/lib/site-packages/selenium/webdriver/remote/webelement.py?line=739'>740</a>\u001b[0m \u001b[39mreturn\u001b[39;00m \u001b[39mself\u001b[39;49m\u001b[39m.\u001b[39;49m_parent\u001b[39m.\u001b[39;49mexecute(command, params)\n",
      "File \u001b[1;32mc:\\Users\\yurit\\anaconda3\\lib\\site-packages\\selenium\\webdriver\\remote\\webdriver.py:430\u001b[0m, in \u001b[0;36mWebDriver.execute\u001b[1;34m(self, driver_command, params)\u001b[0m\n\u001b[0;32m    <a href='file:///c%3A/Users/yurit/anaconda3/lib/site-packages/selenium/webdriver/remote/webdriver.py?line=427'>428</a>\u001b[0m response \u001b[39m=\u001b[39m \u001b[39mself\u001b[39m\u001b[39m.\u001b[39mcommand_executor\u001b[39m.\u001b[39mexecute(driver_command, params)\n\u001b[0;32m    <a href='file:///c%3A/Users/yurit/anaconda3/lib/site-packages/selenium/webdriver/remote/webdriver.py?line=428'>429</a>\u001b[0m \u001b[39mif\u001b[39;00m response:\n\u001b[1;32m--> <a href='file:///c%3A/Users/yurit/anaconda3/lib/site-packages/selenium/webdriver/remote/webdriver.py?line=429'>430</a>\u001b[0m     \u001b[39mself\u001b[39;49m\u001b[39m.\u001b[39;49merror_handler\u001b[39m.\u001b[39;49mcheck_response(response)\n\u001b[0;32m    <a href='file:///c%3A/Users/yurit/anaconda3/lib/site-packages/selenium/webdriver/remote/webdriver.py?line=430'>431</a>\u001b[0m     response[\u001b[39m'\u001b[39m\u001b[39mvalue\u001b[39m\u001b[39m'\u001b[39m] \u001b[39m=\u001b[39m \u001b[39mself\u001b[39m\u001b[39m.\u001b[39m_unwrap_value(\n\u001b[0;32m    <a href='file:///c%3A/Users/yurit/anaconda3/lib/site-packages/selenium/webdriver/remote/webdriver.py?line=431'>432</a>\u001b[0m         response\u001b[39m.\u001b[39mget(\u001b[39m'\u001b[39m\u001b[39mvalue\u001b[39m\u001b[39m'\u001b[39m, \u001b[39mNone\u001b[39;00m))\n\u001b[0;32m    <a href='file:///c%3A/Users/yurit/anaconda3/lib/site-packages/selenium/webdriver/remote/webdriver.py?line=432'>433</a>\u001b[0m     \u001b[39mreturn\u001b[39;00m response\n",
      "File \u001b[1;32mc:\\Users\\yurit\\anaconda3\\lib\\site-packages\\selenium\\webdriver\\remote\\errorhandler.py:247\u001b[0m, in \u001b[0;36mErrorHandler.check_response\u001b[1;34m(self, response)\u001b[0m\n\u001b[0;32m    <a href='file:///c%3A/Users/yurit/anaconda3/lib/site-packages/selenium/webdriver/remote/errorhandler.py?line=244'>245</a>\u001b[0m         alert_text \u001b[39m=\u001b[39m value[\u001b[39m'\u001b[39m\u001b[39malert\u001b[39m\u001b[39m'\u001b[39m]\u001b[39m.\u001b[39mget(\u001b[39m'\u001b[39m\u001b[39mtext\u001b[39m\u001b[39m'\u001b[39m)\n\u001b[0;32m    <a href='file:///c%3A/Users/yurit/anaconda3/lib/site-packages/selenium/webdriver/remote/errorhandler.py?line=245'>246</a>\u001b[0m     \u001b[39mraise\u001b[39;00m exception_class(message, screen, stacktrace, alert_text)  \u001b[39m# type: ignore[call-arg]  # mypy is not smart enough here\u001b[39;00m\n\u001b[1;32m--> <a href='file:///c%3A/Users/yurit/anaconda3/lib/site-packages/selenium/webdriver/remote/errorhandler.py?line=246'>247</a>\u001b[0m \u001b[39mraise\u001b[39;00m exception_class(message, screen, stacktrace)\n",
      "\u001b[1;31mElementClickInterceptedException\u001b[0m: Message: element click intercepted: Element <button type=\"button\" class=\"classified__information--address-map-button | button button--text button--size-small\">...</button> is not clickable at point (153, 147). Other element would receive the click: <div id=\"uc-btn-outside-click-banner-modal\" class=\"uc-overlay\" style=\"background-color: rgba(0,0,0,0.5)\"></div>\n  (Session info: chrome=102.0.5005.63)\nStacktrace:\nBacktrace:\n\tOrdinal0 [0x0049B8F3+2406643]\n\tOrdinal0 [0x0042AF31+1945393]\n\tOrdinal0 [0x0031C748+837448]\n\tOrdinal0 [0x0034FA1B+1047067]\n\tOrdinal0 [0x0034D9F8+1038840]\n\tOrdinal0 [0x0034B6DB+1029851]\n\tOrdinal0 [0x0034A439+1025081]\n\tOrdinal0 [0x00340083+983171]\n\tOrdinal0 [0x0036427C+1131132]\n\tOrdinal0 [0x0033FA64+981604]\n\tOrdinal0 [0x00364494+1131668]\n\tOrdinal0 [0x00374682+1197698]\n\tOrdinal0 [0x00364096+1130646]\n\tOrdinal0 [0x0033E636+976438]\n\tOrdinal0 [0x0033F546+980294]\n\tGetHandleVerifier [0x00709612+2498066]\n\tGetHandleVerifier [0x006FC920+2445600]\n\tGetHandleVerifier [0x00534F2A+579370]\n\tGetHandleVerifier [0x00533D36+574774]\n\tOrdinal0 [0x00431C0B+1973259]\n\tOrdinal0 [0x00436688+1992328]\n\tOrdinal0 [0x00436775+1992565]\n\tOrdinal0 [0x0043F8D1+2029777]\n\tBaseThreadInitThunk [0x761F6739+25]\n\tRtlGetFullPathName_UEx [0x77278FEF+1215]\n\tRtlGetFullPathName_UEx [0x77278FBD+1165]\n"
     ]
    }
   ],
   "source": [
    "def csv_url_reader(url_obj):\n",
    "    reader = csv.DictReader(url_obj, delimiter=',')\n",
    "    \n",
    "    options.add_argument('--start-maximized')\n",
    "    options.add_argument('--disable-infobars')\n",
    "    path = (\"C:/webdrivers/chromedriver.exe\")\n",
    "    s = Service(path)\n",
    "    driver = webdriver.Chrome(options=options,service=s)\n",
    "    driver.implicitly_wait(5)\n",
    "\n",
    "    finalList2 = []\n",
    "\n",
    "    for line in reader:\n",
    "        url = line[\"URL\"]\n",
    "        #print(url)\n",
    "        driver.get(url)\n",
    "\n",
    "\n",
    "        keep_browsing = driver.find_element(By.ID,'uc-btn-accept-banner').send_keys(\"test\")\n",
    "        #keep_browsing.click()\n",
    "        \n",
    "        try:\n",
    "            WebDriverWait(driver, 5).until(EC.alert_is_present(), 'Timed out waiting for alerts to appear')\n",
    "            alert = driver.switch_to.alert\n",
    "            alert.accept()\n",
    "        except TimeoutException:\n",
    "            print (\"Timeout and No Alert Appearing\")\n",
    "\n",
    "\n",
    "        try:\n",
    "            elem = postcode = driver.find_element(by=By.XPATH, value=\"//button[@class='classified__information--address-map-button | button button--text button--size-small']\") \n",
    "            alert = elem.text\n",
    "            alert.accept()\n",
    "        except:    \n",
    "            print (\"There's no description about this location\")\n",
    "\n",
    "        mylist2= []\n",
    "        postcode = driver.find_element(by=By.XPATH, value=\"//button[@class='classified__information--address-map-button | button button--text button--size-small']\").click()\n",
    "        mylist2.append(postcode)\n",
    "\n",
    "        finalList2.append(mylist2)\n",
    "\n",
    "    driver.quit() \n",
    "    columns=['Post_code']\n",
    "    df = pd.DataFrame(data=finalList2, columns=columns)\n",
    "    df.to_csv(\"FINAL3.csv\")\n",
    "\n",
    "#if __name__==\"__main__\":\n",
    "with open(\"URL.csv\") as url_obj:\n",
    "    csv_url_reader(url_obj)"
   ]
  },
  {
   "cell_type": "code",
   "execution_count": null,
   "metadata": {},
   "outputs": [],
   "source": [
    "        thread.sleep(2000)\n",
    "        WebElement searchbutton = driver.find_element(by=By.XPATH, value='//span[@class=\"classified__information--address-row\"]')\n",
    "        javascripExecuter executor\n",
    "\n",
    "        https://www.youtube.com/watch?v=o81fkOGrVJc&t=1s\n",
    "        "
   ]
  }
 ],
 "metadata": {
  "interpreter": {
   "hash": "8d21f3b75a0e2120eb0e66e21d4adea905fc160c040159242535b1a26e9f956d"
  },
  "kernelspec": {
   "display_name": "Python 3.9.7 ('base')",
   "language": "python",
   "name": "python3"
  },
  "language_info": {
   "codemirror_mode": {
    "name": "ipython",
    "version": 3
   },
   "file_extension": ".py",
   "mimetype": "text/x-python",
   "name": "python",
   "nbconvert_exporter": "python",
   "pygments_lexer": "ipython3",
   "version": "3.9.7"
  },
  "orig_nbformat": 4
 },
 "nbformat": 4,
 "nbformat_minor": 2
}
