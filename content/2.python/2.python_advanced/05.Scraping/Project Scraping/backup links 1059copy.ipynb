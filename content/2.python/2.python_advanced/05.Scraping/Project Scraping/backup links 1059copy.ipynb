{
 "cells": [
  {
   "cell_type": "code",
   "execution_count": 6,
   "metadata": {},
   "outputs": [
    {
     "name": "stdout",
     "output_type": "stream",
     "text": [
      "https://www.immoweb.be/en/search/house/for-sale?countries=BE&page=2&orderBy=relevance\n"
     ]
    }
   ],
   "source": [
    "from bs4 import BeautifulSoup\n",
    "import requests\n",
    "import pandas as pd\n",
    "import numpy as np\n",
    "from selenium import webdriver\n",
    "from selenium.webdriver.support.ui import WebDriverWait\n",
    "from selenium.webdriver.support import expected_conditions as EC\n",
    "from selenium.common.exceptions import TimeoutException\n",
    "from selenium.webdriver.common.by import By\n",
    "from selenium.webdriver.chrome.service import Service\n",
    "from selenium.webdriver.chrome.options import Options\n",
    "from selenium.webdriver.common.action_chains import ActionChains\n",
    "\n",
    "options = Options()\n",
    "\n",
    "url = 'https://www.immoweb.be/en/search/house/for-sale?countries=BE&page=2&orderBy=relevance'\n",
    "\n",
    "options.add_argument('--start-maximized')\n",
    "options.add_argument('--disable-infobars')\n",
    "path = (\"C:/webdrivers/chromedriver.exe\")\n",
    "s = Service(path)\n",
    "driver = webdriver.Chrome(options=options,service=s)\n",
    "driver.implicitly_wait(30)\n",
    "driver.get(url)\n",
    "\n",
    "print(driver.current_url)\n",
    "\n",
    "keep_browsing = driver.find_element(By.ID,'uc-btn-accept-banner')\n",
    "keep_browsing.click()\n",
    "\n",
    "#driver.close()"
   ]
  },
  {
   "cell_type": "code",
   "execution_count": 7,
   "metadata": {},
   "outputs": [
    {
     "name": "stdout",
     "output_type": "stream",
     "text": [
      "https://www.immoweb.be/en/classified/house/for-sale/liege/4020/9941464?searchId=629907e45fc69\n",
      "https://www.immoweb.be/en/classified/apartment-block/for-sale/libramont-chevigny/6800/9941435?searchId=629907e45fc69\n",
      "https://www.immoweb.be/en/classified/house/for-sale/ruisbroek-(-bij-brussel)/1601/9941373?searchId=629907e45fc69\n",
      "https://www.immoweb.be/en/classified/villa/for-sale/groot-bijgaarden/1702/9867538?searchId=629907e45fc69\n",
      "https://www.immoweb.be/en/classified/house/for-sale/libramont-chevigny/6800/9939016?searchId=629907e45fc69\n",
      "https://www.immoweb.be/en/classified/house/for-sale/chaumont-gistoux/1325/9939243?searchId=629907e45fc69\n",
      "https://www.immoweb.be/en/classified/villa/for-sale/herzele/9551/9938906?searchId=629907e45fc69\n",
      "https://www.immoweb.be/en/classified/new-real-estate-project-houses/for-sale/saint-sauveur/7912/9896009?searchId=629907e45fc69\n",
      "https://www.immoweb.be/en/classified/house/for-sale/couthuin/4218/9936766?searchId=629907e45fc69\n",
      "https://www.immoweb.be/en/classified/villa/for-sale/saint-gery-(chastre)/1450/9880789?searchId=629907e45fc69\n",
      "https://www.immoweb.be/en/classified/house/for-sale/marchin/4570/9944287?searchId=629907e45fc69\n",
      "https://www.immoweb.be/en/classified/villa/for-sale/gammerages/1570/9935270?searchId=629907e45fc69\n",
      "https://www.immoweb.be/en/classified/house/for-sale/bruxelles/1000/9935486?searchId=629907e45fc69\n",
      "https://www.immoweb.be/en/classified/town-house/for-sale/seraing/4100/9941095?searchId=629907e45fc69\n",
      "https://www.immoweb.be/en/classified/house/for-sale/amay/4540/9941765?searchId=629907e45fc69\n",
      "https://www.immoweb.be/en/classified/house/for-sale/oostrozebeke/8780/9942668?searchId=629907e45fc69\n",
      "https://www.immoweb.be/en/classified/house/for-sale/ronse/9600/9941998?searchId=629907e45fc69\n",
      "https://www.immoweb.be/en/classified/house/for-sale/ronse/9600/9941997?searchId=629907e45fc69\n",
      "https://www.immoweb.be/en/classified/exceptional-property/for-sale/liege/4000/9941078?searchId=629907e45fc69\n",
      "https://www.immoweb.be/en/classified/other-property/for-sale/avelgem/8580/9941359?searchId=629907e45fc69\n",
      "https://www.immoweb.be/en/classified/villa/for-sale/kerkhove/8581/9941957?searchId=629907e45fc69\n",
      "https://www.immoweb.be/en/classified/other-property/for-sale/kerkhove/8581/9941360?searchId=629907e45fc69\n",
      "https://www.immoweb.be/en/classified/villa/for-sale/wavre-limal/1300/9940892?searchId=629907e45fc69\n",
      "https://www.immoweb.be/en/classified/house/for-sale/rixensart/1330/9940287?searchId=629907e45fc69\n",
      "https://www.immoweb.be/en/classified/apartment-block/for-sale/bruxelles-ville/1000/9943136?searchId=629907e45fc69\n",
      "https://www.immoweb.be/en/classified/exceptional-property/for-sale/seraing/4100/9933807?searchId=629907e45fc69\n",
      "https://www.immoweb.be/en/classified/town-house/for-sale/forest/1190/9934005?searchId=629907e45fc69\n",
      "https://www.immoweb.be/en/classified/house/for-sale/wilsele/3012/9936522?searchId=629907e45fc69\n",
      "https://www.immoweb.be/en/classified/mixed-use-building/for-sale/kortrijk/8500/9936556?searchId=629907e45fc69\n",
      "https://www.immoweb.be/en/classified/house/for-sale/hoboken/2660/9938098?searchId=629907e45fc69\n",
      "https://www.immoweb.be/en/classified/villa/for-sale/rhode-saint-genese/1640/9887041\n",
      "https://www.immoweb.be/en/classified/villa/for-sale/sint-genesius-rode/1640/9945172\n",
      "https://www.immoweb.be/en/classified/house/for-sale/beersel/1650/9945170\n",
      "https://www.immoweb.be/en/classified/house/for-sale/linkebeek/1630/9945169\n",
      "https://www.immoweb.be/en/classified/house/for-sale/neeroeteren/3680/9945168\n",
      "https://www.immoweb.be/en/classified/house/for-sale/messancy/6780/9945160\n",
      "https://www.immoweb.be/en/classified/house/for-sale/messancy/6780/9945159\n",
      "https://www.immoweb.be/en/classified/house/for-sale/landen/3400/9945152\n",
      "https://www.immoweb.be/en/classified/house/for-sale/liege/4020/9941464?searchId=629907e767f33\n",
      "https://www.immoweb.be/en/classified/apartment-block/for-sale/libramont-chevigny/6800/9941435?searchId=629907e767f33\n",
      "https://www.immoweb.be/en/classified/house/for-sale/ruisbroek-(-bij-brussel)/1601/9941373?searchId=629907e767f33\n",
      "https://www.immoweb.be/en/classified/villa/for-sale/groot-bijgaarden/1702/9867538?searchId=629907e767f33\n",
      "https://www.immoweb.be/en/classified/house/for-sale/libramont-chevigny/6800/9939016?searchId=629907e767f33\n",
      "https://www.immoweb.be/en/classified/house/for-sale/chaumont-gistoux/1325/9939243?searchId=629907e767f33\n",
      "https://www.immoweb.be/en/classified/villa/for-sale/herzele/9551/9938906?searchId=629907e767f33\n",
      "https://www.immoweb.be/en/classified/new-real-estate-project-houses/for-sale/saint-sauveur/7912/9896009?searchId=629907e767f33\n",
      "https://www.immoweb.be/en/classified/house/for-sale/couthuin/4218/9936766?searchId=629907e767f33\n",
      "https://www.immoweb.be/en/classified/villa/for-sale/saint-gery-(chastre)/1450/9880789?searchId=629907e767f33\n",
      "https://www.immoweb.be/en/classified/house/for-sale/marchin/4570/9944287?searchId=629907e767f33\n",
      "https://www.immoweb.be/en/classified/villa/for-sale/gammerages/1570/9935270?searchId=629907e767f33\n",
      "https://www.immoweb.be/en/classified/house/for-sale/bruxelles/1000/9935486?searchId=629907e767f33\n",
      "https://www.immoweb.be/en/classified/town-house/for-sale/seraing/4100/9941095?searchId=629907e767f33\n",
      "https://www.immoweb.be/en/classified/house/for-sale/amay/4540/9941765?searchId=629907e767f33\n",
      "https://www.immoweb.be/en/classified/house/for-sale/oostrozebeke/8780/9942668?searchId=629907e767f33\n",
      "https://www.immoweb.be/en/classified/house/for-sale/ronse/9600/9941998?searchId=629907e767f33\n",
      "https://www.immoweb.be/en/classified/house/for-sale/ronse/9600/9941997?searchId=629907e767f33\n",
      "https://www.immoweb.be/en/classified/exceptional-property/for-sale/liege/4000/9941078?searchId=629907e767f33\n",
      "https://www.immoweb.be/en/classified/other-property/for-sale/avelgem/8580/9941359?searchId=629907e767f33\n",
      "https://www.immoweb.be/en/classified/villa/for-sale/kerkhove/8581/9941957?searchId=629907e767f33\n",
      "https://www.immoweb.be/en/classified/other-property/for-sale/kerkhove/8581/9941360?searchId=629907e767f33\n",
      "https://www.immoweb.be/en/classified/villa/for-sale/wavre-limal/1300/9940892?searchId=629907e767f33\n",
      "https://www.immoweb.be/en/classified/house/for-sale/rixensart/1330/9940287?searchId=629907e767f33\n",
      "https://www.immoweb.be/en/classified/apartment-block/for-sale/bruxelles-ville/1000/9943136?searchId=629907e767f33\n",
      "https://www.immoweb.be/en/classified/exceptional-property/for-sale/seraing/4100/9933807?searchId=629907e767f33\n",
      "https://www.immoweb.be/en/classified/town-house/for-sale/forest/1190/9934005?searchId=629907e767f33\n",
      "https://www.immoweb.be/en/classified/house/for-sale/wilsele/3012/9936522?searchId=629907e767f33\n",
      "https://www.immoweb.be/en/classified/mixed-use-building/for-sale/kortrijk/8500/9936556?searchId=629907e767f33\n",
      "https://www.immoweb.be/en/classified/house/for-sale/hoboken/2660/9938098?searchId=629907e767f33\n",
      "https://www.immoweb.be/en/classified/villa/for-sale/rhode-saint-genese/1640/9887041\n",
      "https://www.immoweb.be/en/classified/villa/for-sale/sint-genesius-rode/1640/9945172\n",
      "https://www.immoweb.be/en/classified/house/for-sale/beersel/1650/9945170\n",
      "https://www.immoweb.be/en/classified/house/for-sale/linkebeek/1630/9945169\n",
      "https://www.immoweb.be/en/classified/house/for-sale/neeroeteren/3680/9945168\n",
      "https://www.immoweb.be/en/classified/house/for-sale/messancy/6780/9945160\n",
      "https://www.immoweb.be/en/classified/house/for-sale/messancy/6780/9945159\n",
      "https://www.immoweb.be/en/classified/house/for-sale/landen/3400/9945152\n"
     ]
    }
   ],
   "source": [
    "for page in range(0,2):\n",
    "   driver.get(f'https://www.immoweb.be/en/search/house/for-sale?countries=BE&page={page}&orderBy=relevance')\n",
    "\n",
    "   links = driver.find_elements(by=By.XPATH, value=\"//a[@class='card__title-link']\")\n",
    "   links\n",
    "   \n",
    "   for link in links:\n",
    "      print(link.get_attribute('href'))\n"
   ]
  },
  {
   "cell_type": "code",
   "execution_count": 8,
   "metadata": {},
   "outputs": [
    {
     "name": "stdout",
     "output_type": "stream",
     "text": [
      "['https://www.immoweb.be/en/classified/house/for-sale/liege/4020/9941464?searchId=629907ec0d7bc', 'https://www.immoweb.be/en/classified/apartment-block/for-sale/libramont-chevigny/6800/9941435?searchId=629907ec0d7bc', 'https://www.immoweb.be/en/classified/house/for-sale/ruisbroek-(-bij-brussel)/1601/9941373?searchId=629907ec0d7bc', 'https://www.immoweb.be/en/classified/villa/for-sale/groot-bijgaarden/1702/9867538?searchId=629907ec0d7bc', 'https://www.immoweb.be/en/classified/house/for-sale/libramont-chevigny/6800/9939016?searchId=629907ec0d7bc', 'https://www.immoweb.be/en/classified/house/for-sale/chaumont-gistoux/1325/9939243?searchId=629907ec0d7bc', 'https://www.immoweb.be/en/classified/villa/for-sale/herzele/9551/9938906?searchId=629907ec0d7bc', 'https://www.immoweb.be/en/classified/new-real-estate-project-houses/for-sale/saint-sauveur/7912/9896009?searchId=629907ec0d7bc', 'https://www.immoweb.be/en/classified/house/for-sale/couthuin/4218/9936766?searchId=629907ec0d7bc', 'https://www.immoweb.be/en/classified/villa/for-sale/saint-gery-(chastre)/1450/9880789?searchId=629907ec0d7bc', 'https://www.immoweb.be/en/classified/house/for-sale/marchin/4570/9944287?searchId=629907ec0d7bc', 'https://www.immoweb.be/en/classified/villa/for-sale/gammerages/1570/9935270?searchId=629907ec0d7bc', 'https://www.immoweb.be/en/classified/house/for-sale/bruxelles/1000/9935486?searchId=629907ec0d7bc', 'https://www.immoweb.be/en/classified/town-house/for-sale/seraing/4100/9941095?searchId=629907ec0d7bc', 'https://www.immoweb.be/en/classified/house/for-sale/amay/4540/9941765?searchId=629907ec0d7bc', 'https://www.immoweb.be/en/classified/house/for-sale/oostrozebeke/8780/9942668?searchId=629907ec0d7bc', 'https://www.immoweb.be/en/classified/house/for-sale/ronse/9600/9941998?searchId=629907ec0d7bc', 'https://www.immoweb.be/en/classified/house/for-sale/ronse/9600/9941997?searchId=629907ec0d7bc', 'https://www.immoweb.be/en/classified/exceptional-property/for-sale/liege/4000/9941078?searchId=629907ec0d7bc', 'https://www.immoweb.be/en/classified/other-property/for-sale/avelgem/8580/9941359?searchId=629907ec0d7bc', 'https://www.immoweb.be/en/classified/villa/for-sale/kerkhove/8581/9941957?searchId=629907ec0d7bc', 'https://www.immoweb.be/en/classified/other-property/for-sale/kerkhove/8581/9941360?searchId=629907ec0d7bc', 'https://www.immoweb.be/en/classified/villa/for-sale/wavre-limal/1300/9940892?searchId=629907ec0d7bc', 'https://www.immoweb.be/en/classified/house/for-sale/rixensart/1330/9940287?searchId=629907ec0d7bc', 'https://www.immoweb.be/en/classified/apartment-block/for-sale/bruxelles-ville/1000/9943136?searchId=629907ec0d7bc', 'https://www.immoweb.be/en/classified/exceptional-property/for-sale/seraing/4100/9933807?searchId=629907ec0d7bc', 'https://www.immoweb.be/en/classified/town-house/for-sale/forest/1190/9934005?searchId=629907ec0d7bc', 'https://www.immoweb.be/en/classified/house/for-sale/wilsele/3012/9936522?searchId=629907ec0d7bc', 'https://www.immoweb.be/en/classified/mixed-use-building/for-sale/kortrijk/8500/9936556?searchId=629907ec0d7bc', 'https://www.immoweb.be/en/classified/house/for-sale/hoboken/2660/9938098?searchId=629907ec0d7bc', 'https://www.immoweb.be/en/classified/villa/for-sale/rhode-saint-genese/1640/9887041', 'https://www.immoweb.be/en/classified/villa/for-sale/sint-genesius-rode/1640/9945172', 'https://www.immoweb.be/en/classified/house/for-sale/beersel/1650/9945170', 'https://www.immoweb.be/en/classified/house/for-sale/linkebeek/1630/9945169', 'https://www.immoweb.be/en/classified/house/for-sale/neeroeteren/3680/9945168', 'https://www.immoweb.be/en/classified/house/for-sale/messancy/6780/9945160', 'https://www.immoweb.be/en/classified/house/for-sale/messancy/6780/9945159', 'https://www.immoweb.be/en/classified/house/for-sale/landen/3400/9945152', 'https://www.immoweb.be/en/classified/house/for-sale/liege/4020/9941464?searchId=629907ed8bb62', 'https://www.immoweb.be/en/classified/apartment-block/for-sale/libramont-chevigny/6800/9941435?searchId=629907ed8bb62', 'https://www.immoweb.be/en/classified/house/for-sale/ruisbroek-(-bij-brussel)/1601/9941373?searchId=629907ed8bb62', 'https://www.immoweb.be/en/classified/villa/for-sale/groot-bijgaarden/1702/9867538?searchId=629907ed8bb62', 'https://www.immoweb.be/en/classified/house/for-sale/libramont-chevigny/6800/9939016?searchId=629907ed8bb62', 'https://www.immoweb.be/en/classified/house/for-sale/chaumont-gistoux/1325/9939243?searchId=629907ed8bb62', 'https://www.immoweb.be/en/classified/villa/for-sale/herzele/9551/9938906?searchId=629907ed8bb62', 'https://www.immoweb.be/en/classified/new-real-estate-project-houses/for-sale/saint-sauveur/7912/9896009?searchId=629907ed8bb62', 'https://www.immoweb.be/en/classified/house/for-sale/couthuin/4218/9936766?searchId=629907ed8bb62', 'https://www.immoweb.be/en/classified/villa/for-sale/saint-gery-(chastre)/1450/9880789?searchId=629907ed8bb62', 'https://www.immoweb.be/en/classified/house/for-sale/marchin/4570/9944287?searchId=629907ed8bb62', 'https://www.immoweb.be/en/classified/villa/for-sale/gammerages/1570/9935270?searchId=629907ed8bb62', 'https://www.immoweb.be/en/classified/house/for-sale/bruxelles/1000/9935486?searchId=629907ed8bb62', 'https://www.immoweb.be/en/classified/town-house/for-sale/seraing/4100/9941095?searchId=629907ed8bb62', 'https://www.immoweb.be/en/classified/house/for-sale/amay/4540/9941765?searchId=629907ed8bb62', 'https://www.immoweb.be/en/classified/house/for-sale/oostrozebeke/8780/9942668?searchId=629907ed8bb62', 'https://www.immoweb.be/en/classified/house/for-sale/ronse/9600/9941998?searchId=629907ed8bb62', 'https://www.immoweb.be/en/classified/house/for-sale/ronse/9600/9941997?searchId=629907ed8bb62', 'https://www.immoweb.be/en/classified/exceptional-property/for-sale/liege/4000/9941078?searchId=629907ed8bb62', 'https://www.immoweb.be/en/classified/other-property/for-sale/avelgem/8580/9941359?searchId=629907ed8bb62', 'https://www.immoweb.be/en/classified/villa/for-sale/kerkhove/8581/9941957?searchId=629907ed8bb62', 'https://www.immoweb.be/en/classified/other-property/for-sale/kerkhove/8581/9941360?searchId=629907ed8bb62', 'https://www.immoweb.be/en/classified/villa/for-sale/wavre-limal/1300/9940892?searchId=629907ed8bb62', 'https://www.immoweb.be/en/classified/house/for-sale/rixensart/1330/9940287?searchId=629907ed8bb62', 'https://www.immoweb.be/en/classified/apartment-block/for-sale/bruxelles-ville/1000/9943136?searchId=629907ed8bb62', 'https://www.immoweb.be/en/classified/exceptional-property/for-sale/seraing/4100/9933807?searchId=629907ed8bb62', 'https://www.immoweb.be/en/classified/town-house/for-sale/forest/1190/9934005?searchId=629907ed8bb62', 'https://www.immoweb.be/en/classified/house/for-sale/wilsele/3012/9936522?searchId=629907ed8bb62', 'https://www.immoweb.be/en/classified/mixed-use-building/for-sale/kortrijk/8500/9936556?searchId=629907ed8bb62', 'https://www.immoweb.be/en/classified/house/for-sale/hoboken/2660/9938098?searchId=629907ed8bb62', 'https://www.immoweb.be/en/classified/villa/for-sale/rhode-saint-genese/1640/9887041', 'https://www.immoweb.be/en/classified/villa/for-sale/sint-genesius-rode/1640/9945172', 'https://www.immoweb.be/en/classified/house/for-sale/beersel/1650/9945170', 'https://www.immoweb.be/en/classified/house/for-sale/linkebeek/1630/9945169', 'https://www.immoweb.be/en/classified/house/for-sale/neeroeteren/3680/9945168', 'https://www.immoweb.be/en/classified/house/for-sale/messancy/6780/9945160', 'https://www.immoweb.be/en/classified/house/for-sale/messancy/6780/9945159', 'https://www.immoweb.be/en/classified/house/for-sale/landen/3400/9945152', 'https://www.immoweb.be/en/classified/house/for-sale/beveren/9120/9941375?searchId=629907ef2f8c7', 'https://www.immoweb.be/en/classified/house/for-sale/auderghem/1160/9941083?searchId=629907ef2f8c7', 'https://www.immoweb.be/en/classified/house/for-sale/waterloo/1410/9932946?searchId=629907ef2f8c7', 'https://www.immoweb.be/en/classified/villa/for-sale/rebecq-rognon/1430/9932598?searchId=629907ef2f8c7', 'https://www.immoweb.be/en/classified/house/for-sale/woluwe-saint-lambert/1200/9931261?searchId=629907ef2f8c7', 'https://www.immoweb.be/en/classified/house/for-sale/ixelles/1050/9931229?searchId=629907ef2f8c7', 'https://www.immoweb.be/en/classified/exceptional-property/for-sale/anderlecht/1070/9932060?searchId=629907ef2f8c7', 'https://www.immoweb.be/en/classified/house/for-sale/woluwe-saint-pierre/1150/9928809?searchId=629907ef2f8c7', 'https://www.immoweb.be/en/classified/house/for-sale/montignies-sur-sambre/6061/9935285?searchId=629907ef2f8c7', 'https://www.immoweb.be/en/classified/house/for-sale/liege/4000/9935921?searchId=629907ef2f8c7', 'https://www.immoweb.be/en/classified/house/for-sale/schaerbeek/1030/9935475?searchId=629907ef2f8c7', 'https://www.immoweb.be/en/classified/villa/for-sale/juprelle-wihogne/4452/9941079?searchId=629907ef2f8c7', 'https://www.immoweb.be/en/classified/other-property/for-sale/saint-gilles/1060/9942511?searchId=629907ef2f8c7', 'https://www.immoweb.be/en/classified/villa/for-sale/rixensart/1330/9941250?searchId=629907ef2f8c7', 'https://www.immoweb.be/en/classified/house/for-sale/engis/4480/9927404?searchId=629907ef2f8c7', 'https://www.immoweb.be/en/classified/villa/for-sale/genappe/1470/9926830?searchId=629907ef2f8c7', 'https://www.immoweb.be/en/classified/villa/for-sale/asse/1730/9935025?searchId=629907ef2f8c7', 'https://www.immoweb.be/en/classified/villa/for-sale/grez-doiceau-archennes/1390/9936298?searchId=629907ef2f8c7', 'https://www.immoweb.be/en/classified/apartment-block/for-sale/bruxelles/1000/9939855?searchId=629907ef2f8c7', 'https://www.immoweb.be/en/classified/apartment-block/for-sale/saint-gilles/1060/9940274?searchId=629907ef2f8c7', 'https://www.immoweb.be/en/classified/villa/for-sale/rhode-saint-genese/1640/9943710?searchId=629907ef2f8c7', 'https://www.immoweb.be/en/classified/new-real-estate-project-houses/for-sale/boom/2850/9911454?searchId=629907ef2f8c7', 'https://www.immoweb.be/en/classified/apartment-block/for-sale/jette/1090/9933781?searchId=629907ef2f8c7', 'https://www.immoweb.be/en/classified/house/for-sale/amay/4540/9942649?searchId=629907ef2f8c7', 'https://www.immoweb.be/en/classified/house/for-sale/gent-sint-denijs-westrem/9051/9941217?searchId=629907ef2f8c7', 'https://www.immoweb.be/en/classified/bungalow/for-sale/waregem/8790/9942672?searchId=629907ef2f8c7', 'https://www.immoweb.be/en/classified/villa/for-sale/oostrozebeke/8780/9942673?searchId=629907ef2f8c7', 'https://www.immoweb.be/en/classified/house/for-sale/vilvoorde/1800/9941022?searchId=629907ef2f8c7', 'https://www.immoweb.be/en/classified/villa/for-sale/marke/8510/9941955?searchId=629907ef2f8c7', 'https://www.immoweb.be/en/classified/villa/for-sale/marke/8510/9941954?searchId=629907ef2f8c7', 'https://www.immoweb.be/en/classified/villa/for-sale/rhode-saint-genese/1640/9887041', 'https://www.immoweb.be/en/classified/villa/for-sale/sint-genesius-rode/1640/9945172', 'https://www.immoweb.be/en/classified/house/for-sale/beersel/1650/9945170', 'https://www.immoweb.be/en/classified/house/for-sale/linkebeek/1630/9945169', 'https://www.immoweb.be/en/classified/house/for-sale/neeroeteren/3680/9945168', 'https://www.immoweb.be/en/classified/house/for-sale/messancy/6780/9945160', 'https://www.immoweb.be/en/classified/house/for-sale/messancy/6780/9945159', 'https://www.immoweb.be/en/classified/house/for-sale/landen/3400/9945152']\n"
     ]
    }
   ],
   "source": [
    "import pandas as pd\n",
    "import numpy as np\n",
    "\n",
    "linksTotal = []\n",
    "\n",
    "for page in range(0,3):\n",
    "   driver.get(f'https://www.immoweb.be/en/search/house/for-sale?countries=BE&page={page}&orderBy=relevance')\n",
    "\n",
    "   links = driver.find_elements(by=By.XPATH, value=\"//a[@class='card__title-link']\")\n",
    "   links\n",
    "   \n",
    "   for link in links:\n",
    "      #print(link.get_attribute('href'))\n",
    "      linksTotal.append(link.get_attribute('href'))\n",
    "\n",
    "print(linksTotal)\n"
   ]
  },
  {
   "cell_type": "code",
   "execution_count": 10,
   "metadata": {},
   "outputs": [],
   "source": [
    "lista = []\n",
    "for page in range(0,2):\n",
    "   driver.get(f'https://www.immoweb.be/en/search/house/for-sale?countries=BE&page={page}&orderBy=relevance')\n",
    "\n",
    "   links = driver.find_elements(by=By.XPATH, value=\"//a[@class='card__title-link']\")\n",
    "   \n",
    "   for link in links:\n",
    "      #print(link.get_attribute('href'))\n",
    "      lista.append(link.get_attribute('href'))\n",
    "\n",
    "df = pd.DataFrame({\"URL\": lista})\n",
    "df.to_csv(\"URL.csv\")\n"
   ]
  },
  {
   "cell_type": "markdown",
   "metadata": {},
   "source": [
    "Values"
   ]
  }
 ],
 "metadata": {
  "interpreter": {
   "hash": "8d21f3b75a0e2120eb0e66e21d4adea905fc160c040159242535b1a26e9f956d"
  },
  "kernelspec": {
   "display_name": "Python 3.9.7 ('base')",
   "language": "python",
   "name": "python3"
  },
  "language_info": {
   "codemirror_mode": {
    "name": "ipython",
    "version": 3
   },
   "file_extension": ".py",
   "mimetype": "text/x-python",
   "name": "python",
   "nbconvert_exporter": "python",
   "pygments_lexer": "ipython3",
   "version": "3.9.7"
  },
  "orig_nbformat": 4
 },
 "nbformat": 4,
 "nbformat_minor": 2
}
