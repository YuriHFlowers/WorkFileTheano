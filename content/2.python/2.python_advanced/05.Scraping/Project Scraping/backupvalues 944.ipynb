{
 "cells": [
  {
   "cell_type": "code",
   "execution_count": 1,
   "metadata": {},
   "outputs": [],
   "source": [
    "import bs4\n",
    "import requests\n",
    "from bs4 import BeautifulSoup\n",
    "import numpy as np\n",
    "import pandas as pd\n",
    "import json\n",
    "import re\n",
    "import lxml.html\n",
    "import time\n",
    "import random\n",
    "from random import randint\n",
    "import logging\n",
    "import collections\n",
    "from time import gmtime, strftime\n",
    "\n",
    "import re\n",
    "from tabulate import tabulate\n",
    "import os\n",
    "\n",
    "date = strftime(\"%Y-%m-%d\")"
   ]
  },
  {
   "cell_type": "code",
   "execution_count": 2,
   "metadata": {},
   "outputs": [
    {
     "name": "stdout",
     "output_type": "stream",
     "text": [
      "https://www.immoweb.be/en/classified/villa/for-sale/groot-bijgaarden/1702/9867538?searchId=62971ab3a333f\n"
     ]
    }
   ],
   "source": [
    "import pandas as pd\n",
    "\n",
    "from selenium import webdriver\n",
    "from selenium.webdriver.support.ui import WebDriverWait\n",
    "from selenium.webdriver.support import expected_conditions as EC\n",
    "from selenium.common.exceptions import TimeoutException\n",
    "from selenium.webdriver.common.by import By\n",
    "from selenium.webdriver.chrome.service import Service\n",
    "from selenium.webdriver.chrome.options import Options\n",
    "from selenium.webdriver.common.action_chains import ActionChains\n",
    "\n",
    "options = Options()\n",
    "\n",
    "url = \"https://www.immoweb.be/en/classified/villa/for-sale/groot-bijgaarden/1702/9867538?searchId=62971ab3a333f\"\n",
    "\n",
    "options.add_argument('--start-maximized')\n",
    "options.add_argument('--disable-infobars')\n",
    "path = (\"C:/webdrivers/chromedriver.exe\")\n",
    "s = Service(path)\n",
    "driver = webdriver.Chrome(options=options,service=s)\n",
    "driver.implicitly_wait(30)\n",
    "driver.get(url)\n",
    "\n",
    "print(driver.current_url)\n",
    "\n",
    "keep_browsing = driver.find_element(By.ID,'uc-btn-accept-banner')\n",
    "keep_browsing.click()\n",
    "\n",
    "element = driver.find_element(by=By.TAG_NAME, value='tr')\n",
    "\n",
    "actions = webdriver.ActionChains(driver)\n",
    "actions.move_to_element(element).perform()\n",
    "actions.click().perform()\n",
    "\n",
    "rows = WebDriverWait(driver, 30).until(EC.presence_of_all_elements_located((By.CSS_SELECTOR, 'tbody > tr')))\n",
    "\n",
    "\n"
   ]
  },
  {
   "cell_type": "code",
   "execution_count": 3,
   "metadata": {},
   "outputs": [
    {
     "name": "stdout",
     "output_type": "stream",
     "text": [
      "{'Available date': 'October 1 2022 - 12:00 AM', 'Construction year': '1956', 'Building condition': 'As new', 'Street frontage width': '8.15 m', 'Number of frontages': '4', 'Covered parking spaces': '1', 'Outdoor parking spaces': '2', 'Surroundings type': 'Isolated', 'Virtual visit': 'Link to the virtual visit', 'Living area': '197 m²\\nsquare meters', 'Living room surface': '30 m²\\nsquare meters', 'Kitchen type': 'Hyper equipped', 'Kitchen surface': '11 m²\\nsquare meters', 'Bedrooms': '3', 'Bedroom 1 surface': '24 m²\\nsquare meters', 'Bedroom 2 surface': '9 m²\\nsquare meters', 'Bedroom 3 surface': '6 m²\\nsquare meters', 'Bathrooms': '1', 'Toilets': '2', 'TV cable': 'Yes', 'Surface of the plot': '525 m²\\nsquare meters', 'Connection to sewer network': 'Connected', 'Gas, water & electricity': 'Yes', 'Terrace': 'Yes', 'Elevator': 'No', 'Accessible for disabled people': 'No', 'Swimming pool': 'No', 'Primary energy consumption': '434 kWh/m²\\nkilowatt hour per square meters', 'Energy class': 'E', 'Reference number of the EPC report': '2586246', 'CO₂ emission': 'Not specified', 'Yearly theoretical total energy consumption': 'Not specified', 'Heating type': 'Gas', 'Double glazing': 'Yes', 'Planning permission obtained': 'Yes', 'Subdivision permit': 'No', 'Possible priority purchase right': 'No', 'Proceedings for breach of planning regulations': 'No', 'Flood zone type': 'Non flood zone', 'Price': '€ 524,500\\n524500 €', 'Cadastral income': '€ 1,576\\n1576 €', 'Tenement building': 'No', 'Address': 'Astridlaan 1\\n1700 - Dilbeek', 'Website': 'http://www.living-stone.be', 'External reference': '4733283'}\n"
     ]
    }
   ],
   "source": [
    "mydict = {} \n",
    "for row in rows: \n",
    "    for th in row.find_elements(By.TAG_NAME, 'th'):\n",
    "        for td in row.find_elements(By.TAG_NAME, 'td'):\n",
    "            #if len(td) > 0 and len(th) > 0:\n",
    "            #print(f'{th.text.strip()}', '=', f'{td.text.strip()}'\n",
    "            mydict[th.text.strip()] = td.text.strip()\n",
    "print(mydict)"
   ]
  },
  {
   "cell_type": "code",
   "execution_count": 4,
   "metadata": {},
   "outputs": [
    {
     "name": "stdout",
     "output_type": "stream",
     "text": [
      "['€ 524,500\\n524500 €', 'As new', '3', '197 m²\\nsquare meters', 'Hyper equipped', None, None, None, 'Yes', None, '525 m²\\nsquare meters', 'E', '4', 'No']\n"
     ]
    }
   ],
   "source": [
    "# Python program to get \n",
    "# dictionary keys as list\n",
    "\n",
    "keyLookup = ['Price', 'Building condition','Bedrooms', 'Living area', 'Kitchen type','Furnished','Garden','Garden surface','Terrace','Terrace surface','Surface of the plot','Energy class','Number of frontages','Swimming pool']\n",
    "\n",
    "mylist = []\n",
    "def getList(mydict):\n",
    "\n",
    "    for key in keyLookup:\n",
    "        mylist.append(mydict.get(key))\n",
    "          \n",
    "    return mylist\n",
    "\n",
    "print(getList(mydict))\n",
    "\n",
    "#https://www.geeksforgeeks.org/python-get-dictionary-keys-as-a-list/\n"
   ]
  },
  {
   "cell_type": "code",
   "execution_count": 5,
   "metadata": {},
   "outputs": [
    {
     "name": "stdout",
     "output_type": "stream",
     "text": [
      "Bremstraat 1,a 1702 — Groot-Bijgaarden\n"
     ]
    }
   ],
   "source": [
    "info = driver.find_element(by=By.XPATH, value='//button[@class=\"classified__information--address-map-button | button button--text button--size-small\"]')\n",
    "print(info.text)"
   ]
  },
  {
   "cell_type": "code",
   "execution_count": 5,
   "metadata": {},
   "outputs": [
    {
     "name": "stdout",
     "output_type": "stream",
     "text": [
      "['€ 524,500\\n524500 €', 'As new', '3', '197 m²\\nsquare meters', 'Hyper equipped', None, None, None, 'Yes', None, '525 m²\\nsquare meters', 'E', '4', 'No', 'Bremstraat 1,a 1702 — Groot-Bijgaarden']\n"
     ]
    }
   ],
   "source": [
    "\n",
    "address= driver.find_element(by=By.XPATH, value='//button[@class=\"classified__information--address-map-button | button button--text button--size-small\"]').text\n",
    "mylist.append(address)\n",
    "print(mylist)\n"
   ]
  },
  {
   "cell_type": "code",
   "execution_count": 6,
   "metadata": {},
   "outputs": [
    {
     "name": "stdout",
     "output_type": "stream",
     "text": [
      "['€ 524,500\\n524500 €', 'As new', '3', '197 m²\\nsquare meters', 'Hyper equipped', None, None, None, 'Yes', None, '525 m²\\nsquare meters', 'E', '4', 'No', 'Bremstraat 1,a 1702 — Groot-Bijgaarden', 'Bremstraat 1,a']\n"
     ]
    }
   ],
   "source": [
    "street= driver.find_element(by=By.XPATH, value='//span[@class=\"classified__information--address-row\"][1]').text\n",
    "mylist.append(street)\n",
    "print(mylist)"
   ]
  },
  {
   "cell_type": "code",
   "execution_count": 7,
   "metadata": {},
   "outputs": [
    {
     "name": "stdout",
     "output_type": "stream",
     "text": [
      "['€ 524,500\\n524500 €', 'As new', '3', '197 m²\\nsquare meters', 'Hyper equipped', None, None, None, 'Yes', None, '525 m²\\nsquare meters', 'E', '4', 'No', 'Bremstraat 1,a 1702 — Groot-Bijgaarden', 'Bremstraat 1,a', '1702', 'Groot-Bijgaarden']\n"
     ]
    }
   ],
   "source": [
    "postcode = driver.find_element(by=By.XPATH, value='//span[@class=\"classified__information--address-row\"][2]').text\n",
    "mylist.append(postcode.split(' ')[0])\n",
    "mylist.append(postcode.split(' ')[-1])\n",
    "print(mylist)"
   ]
  },
  {
   "cell_type": "code",
   "execution_count": 8,
   "metadata": {},
   "outputs": [
    {
     "name": "stdout",
     "output_type": "stream",
     "text": [
      "['€ 524,500\\n524500 €', 'As new', '3', '197 m²\\nsquare meters', 'Hyper equipped', None, None, None, 'Yes', None, '525 m²\\nsquare meters', 'E', '4', 'No', 'Bremstraat 1,a 1702 — Groot-Bijgaarden', 'Bremstraat 1,a', '1702', 'Groot-Bijgaarden', '9867538']\n"
     ]
    }
   ],
   "source": [
    "immocode = driver.find_element(by=By.CSS_SELECTOR, value = \"div[class='classified__header--tools'] div[class='classified__header--immoweb-code']\").text\n",
    "mylist.append(immocode.split(' ')[-1])\n",
    "print(mylist)"
   ]
  },
  {
   "cell_type": "code",
   "execution_count": null,
   "metadata": {},
   "outputs": [],
   "source": [
    "        thread.sleep(2000)\n",
    "        WebElement searchbutton = driver.find_element(by=By.XPATH, value='//span[@class=\"classified__information--address-row\"]')\n",
    "        javascripExecuter executor\n",
    "\n",
    "        https://www.youtube.com/watch?v=o81fkOGrVJc&t=1s"
   ]
  }
 ],
 "metadata": {
  "interpreter": {
   "hash": "8d21f3b75a0e2120eb0e66e21d4adea905fc160c040159242535b1a26e9f956d"
  },
  "kernelspec": {
   "display_name": "Python 3.9.7 ('base')",
   "language": "python",
   "name": "python3"
  },
  "language_info": {
   "codemirror_mode": {
    "name": "ipython",
    "version": 3
   },
   "file_extension": ".py",
   "mimetype": "text/x-python",
   "name": "python",
   "nbconvert_exporter": "python",
   "pygments_lexer": "ipython3",
   "version": "3.9.7"
  },
  "orig_nbformat": 4
 },
 "nbformat": 4,
 "nbformat_minor": 2
}
