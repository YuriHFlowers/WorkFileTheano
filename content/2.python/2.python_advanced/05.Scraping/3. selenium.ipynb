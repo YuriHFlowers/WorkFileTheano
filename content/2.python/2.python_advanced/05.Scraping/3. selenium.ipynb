{
 "cells": [
  {
   "cell_type": "markdown",
   "metadata": {},
   "source": [
    "# Scraping with Selenium\n",
    "\n",
    "Selenium is a tool initially created to automate tests on websites. It is therefore very useful when information is accessible by clicking on links. A button for example is an element from which it is very difficult to obtain the link. BeautifulSoup then becomes limited.\n",
    "In this case, use Selenium."
   ]
  },
  {
   "cell_type": "markdown",
   "metadata": {},
   "source": [
    "### Load libraries\n",
    "\n",
    "If you are missing any libraries in the next cell, you'll need to install them before continuing."
   ]
  },
  {
   "cell_type": "code",
   "execution_count": 2,
   "metadata": {},
   "outputs": [],
   "source": [
    "import bs4\n",
    "import requests\n",
    "from bs4 import BeautifulSoup\n",
    "import numpy as np\n",
    "import pandas as pd\n",
    "import json\n",
    "import re\n",
    "import lxml.html\n",
    "import time\n",
    "import random\n",
    "from random import randint\n",
    "import logging\n",
    "import collections\n",
    "from time import gmtime, strftime\n",
    "\n",
    "import re\n",
    "from tabulate import tabulate\n",
    "import os\n",
    "\n",
    "date = strftime(\"%Y-%m-%d\")"
   ]
  },
  {
   "cell_type": "markdown",
   "metadata": {},
   "source": [
    "### Install Selenium according to this manual\n",
    "\n",
    "https://selenium-python.readthedocs.io/installation.html#downloading-python-bindings-for-selenium/bin\n",
    "\n",
    "*NB: On Linux, put your `geckodriver` (the downloaded extension) in the equivalent path on your machine into `/home/<YOUR_NAME>/.local/bin/`*"
   ]
  },
  {
   "cell_type": "markdown",
   "metadata": {},
   "source": [
    "We will simulate a search on the official Python website."
   ]
  },
  {
   "cell_type": "code",
   "execution_count": 3,
   "metadata": {},
   "outputs": [],
   "source": [
    "import selenium\n",
    "\n",
    "# The selenium.webdriver module provides all the implementations of WebDriver\n",
    "# Currently supported are Firefox, Chrome, IE and Remote. The `Keys` class provides keys on\n",
    "# the keyboard such as RETURN, F1, ALT etc.\n",
    "from selenium import webdriver\n",
    "from selenium.webdriver.common.keys import Keys\n",
    "from selenium.webdriver.chrome.service import Service # # I imported Service for resolving a error. DeprecationWarning: executable_path has been deprecated\n",
    "from selenium.webdriver.common.by import By  # I imported By for resolving a error.\n",
    "from selenium.webdriver.chrome.options import Options\n",
    "\n",
    "options = Options()\n",
    "\n",
    "url = 'http://www.python.org'\n",
    "\n",
    "# Here, we create instance of Firefox WebDriver.\n",
    "# driver = webdriver.Firefox(executable_path=r\"C:/webdrivers/geckodriver.exe\")\n",
    "\n",
    "# Here, we create instance of Chrome WebDriver.\n",
    "# driver = webdriver.Chrome(executable_path=r\"C:/webdrivers/chromedriver.exe\")\n",
    "\n",
    "## Instead of the above, I inserted thE following lines to eliminate the error: \n",
    "## \"DeprecationWarning: executable_path has been deprecated, please pass in a Service object\":\n",
    "\n",
    "#path = (\"C:/webdrivers/chromedriver.exe\")\n",
    "#s = Service(path)\n",
    "#driver = webdriver.Chrome(service=s)\n",
    "\n",
    "options.add_argument('--start-maximized')\n",
    "options.add_argument('--disable-infobars')\n",
    "path = (\"C:/webdrivers/chromedriver.exe\")\n",
    "s = Service(path)\n",
    "driver = webdriver.Chrome(options=options,service=s)\n",
    "driver.implicitly_wait(30)\n",
    "driver.get(url)\n",
    "\n",
    "# The driver.get method will lead to a page given by the URL. WebDriver will wait until the page is fully\n",
    "# loaded (i.e. the \"onload\" event has been triggered) before returning the control to your script.\n",
    "# It should be noted that if your page uses a lot of AJAX calls when loading, WebDriver may not know\n",
    "# when it was fully loaded.\n",
    "driver.get(\"http://www.python.org\")\n",
    "\n",
    "# The following line is a statement confirming that the title contains the word \"Python\".\n",
    "assert \"Python\" in driver.title\n",
    "\n",
    "# WebDriver offers several methods to search for items using one of the methods\n",
    "# `find_element_by_...` .\n",
    "# For example, the input text element can be located by its name attribute by\n",
    "# using the `find_element_by_name` method.\n",
    "\n",
    "#elem = driver.find_element_by_name(\"q\")\n",
    "elem = driver.find_element(By.NAME, \"q\")\n",
    "\n",
    "# Then we send keys. This is similar to entering keys using your keyboard.\n",
    "# Special keys can be sent using the `Keys` class imported in line 7 (from selenium.webdriver.common.keys import Keys).\n",
    "# For security reasons, we will delete any pre-filled text in the input field\n",
    "# (for example, \"Search\") so that it does not affect our search results:\n",
    "elem.clear()\n",
    "elem.send_keys(\"pycon\")\n",
    "elem.send_keys(Keys.RETURN)\n",
    "\n",
    "# After submitting the page, you should get the result if there is one. To ensure that certain results\n",
    "# are found, make an assertion:\n",
    "assert \"No results found.\" not in driver.page_source\n",
    "driver.close()"
   ]
  },
  {
   "cell_type": "markdown",
   "metadata": {},
   "source": [
    "#### Open the source code of the webpage and check that the search area (field) is called \"q\".\n",
    "\n",
    "Note_yuri: search directly on the website: search area (field) is called \"q\" (name=\"q\")"
   ]
  },
  {
   "cell_type": "code",
   "execution_count": 3,
   "metadata": {},
   "outputs": [
    {
     "ename": "SyntaxError",
     "evalue": "invalid syntax (192146405.py, line 1)",
     "output_type": "error",
     "traceback": [
      "\u001b[1;36m  Input \u001b[1;32mIn [3]\u001b[1;36m\u001b[0m\n\u001b[1;33m    <input id=\"id-search-field\" name=\"q\" type=\"search\" role=\"textbox\" class=\"search-field\" placeholder=\"Search\" value=\"\" tabindex=\"1\">\u001b[0m\n\u001b[1;37m    ^\u001b[0m\n\u001b[1;31mSyntaxError\u001b[0m\u001b[1;31m:\u001b[0m invalid syntax\n"
     ]
    }
   ],
   "source": [
    "<input id=\"id-search-field\" name=\"q\" type=\"search\" role=\"textbox\" class=\"search-field\" placeholder=\"Search\" value=\"\" tabindex=\"1\">"
   ]
  },
  {
   "cell_type": "markdown",
   "metadata": {},
   "source": [
    "### Getting a phone number from *leboncoin*"
   ]
  },
  {
   "cell_type": "code",
   "execution_count": null,
   "metadata": {},
   "outputs": [
    {
     "name": "stdout",
     "output_type": "stream",
     "text": [
      "https://www.leboncoin.fr/sports_hobbies/1536839557.htm/\n"
     ]
    },
    {
     "ename": "IndexError",
     "evalue": "list index out of range",
     "output_type": "error",
     "traceback": [
      "\u001b[1;31m---------------------------------------------------------------------------\u001b[0m",
      "\u001b[1;31mIndexError\u001b[0m                                Traceback (most recent call last)",
      "\u001b[1;32mc:\\Users\\yurit\\Documents\\ANT-Theano-4\\content\\2.python\\2.python_advanced\\05.Scraping\\3.selenium.ipynb Cell 10'\u001b[0m in \u001b[0;36m<cell line: 35>\u001b[1;34m()\u001b[0m\n\u001b[0;32m     <a href='vscode-notebook-cell:/c%3A/Users/yurit/Documents/ANT-Theano-4/content/2.python/2.python_advanced/05.Scraping/3.selenium.ipynb#ch0000009?line=26'>27</a>\u001b[0m \u001b[39mprint\u001b[39m(driver\u001b[39m.\u001b[39mcurrent_url)\n\u001b[0;32m     <a href='vscode-notebook-cell:/c%3A/Users/yurit/Documents/ANT-Theano-4/content/2.python/2.python_advanced/05.Scraping/3.selenium.ipynb#ch0000009?line=30'>31</a>\u001b[0m \u001b[39m#python_button = driver.find_elements_by_xpath('//div[@data-reactid=\"269\"]')[0]\u001b[39;00m\n\u001b[0;32m     <a href='vscode-notebook-cell:/c%3A/Users/yurit/Documents/ANT-Theano-4/content/2.python/2.python_advanced/05.Scraping/3.selenium.ipynb#ch0000009?line=31'>32</a>\u001b[0m \u001b[39m#python_button.click()\u001b[39;00m\n\u001b[0;32m     <a href='vscode-notebook-cell:/c%3A/Users/yurit/Documents/ANT-Theano-4/content/2.python/2.python_advanced/05.Scraping/3.selenium.ipynb#ch0000009?line=32'>33</a>\u001b[0m \n\u001b[0;32m     <a href='vscode-notebook-cell:/c%3A/Users/yurit/Documents/ANT-Theano-4/content/2.python/2.python_advanced/05.Scraping/3.selenium.ipynb#ch0000009?line=33'>34</a>\u001b[0m \u001b[39m## I update the previous code (because an error):\u001b[39;00m\n\u001b[1;32m---> <a href='vscode-notebook-cell:/c%3A/Users/yurit/Documents/ANT-Theano-4/content/2.python/2.python_advanced/05.Scraping/3.selenium.ipynb#ch0000009?line=34'>35</a>\u001b[0m python_button \u001b[39m=\u001b[39m driver\u001b[39m.\u001b[39;49mfind_elements(by\u001b[39m=\u001b[39;49mBy\u001b[39m.\u001b[39;49mXPATH, value\u001b[39m=\u001b[39;49m\u001b[39m'\u001b[39;49m\u001b[39m//div[@data-reactid=\u001b[39;49m\u001b[39m\"\u001b[39;49m\u001b[39m269\u001b[39;49m\u001b[39m\"\u001b[39;49m\u001b[39m]\u001b[39;49m\u001b[39m'\u001b[39;49m)[\u001b[39m0\u001b[39;49m]    \u001b[39m#269\u001b[39;00m\n\u001b[0;32m     <a href='vscode-notebook-cell:/c%3A/Users/yurit/Documents/ANT-Theano-4/content/2.python/2.python_advanced/05.Scraping/3.selenium.ipynb#ch0000009?line=35'>36</a>\u001b[0m python_button\u001b[39m.\u001b[39mclick()\n\u001b[0;32m     <a href='vscode-notebook-cell:/c%3A/Users/yurit/Documents/ANT-Theano-4/content/2.python/2.python_advanced/05.Scraping/3.selenium.ipynb#ch0000009?line=37'>38</a>\u001b[0m \u001b[39m# And then we use Beautiful soup\u001b[39;00m\n",
      "\u001b[1;31mIndexError\u001b[0m: list index out of range"
     ]
    }
   ],
   "source": [
    "from selenium import webdriver\n",
    "from selenium.webdriver.support.ui import WebDriverWait\n",
    "from selenium.webdriver.support import expected_conditions as EC\n",
    "from selenium.common.exceptions import TimeoutException\n",
    "from selenium.webdriver.common.by import By\n",
    "from selenium.webdriver.chrome.service import Service\n",
    "from selenium.webdriver.chrome.options import Options\n",
    "\n",
    "options = Options()\n",
    "\n",
    "url = \"https://www.leboncoin.fr/sports_hobbies/1536839557.htm/\"\n",
    "\n",
    "# Here, we create instance of Firefox WebDriver.\n",
    "# driver = webdriver.Firefox(executable_path=r\"C:/webdrivers/geckodriver.exe\")\n",
    "\n",
    "\n",
    "# Here, we create instance of Chrome WebDriver.\n",
    "\n",
    "options.add_argument('--start-maximized')\n",
    "options.add_argument('--disable-infobars')\n",
    "path = (\"C:/webdrivers/chromedriver.exe\")\n",
    "s = Service(path)\n",
    "driver = webdriver.Chrome(options=options,service=s)\n",
    "driver.implicitly_wait(30)\n",
    "driver.get(url)\n",
    "\n",
    "print(driver.current_url)\n",
    "\n",
    "python_button = driver.find_elements_by_xpath('//div[@data-reactid=\"269\"]')[0]\n",
    "python_button.click()\n",
    "\n",
    "## I update the previous code (because an error):\n",
    "python_button = driver.find_elements(by=By.XPATH, value='//div[@data-reactid=\"269\"]')[0]    #269\n",
    "python_button.click()\n",
    "\n",
    "# And then we use Beautiful soup\n",
    "soup = BeautifulSoup(driver.page_source)\n",
    "\n",
    "driver.close()\n",
    "\n",
    "for elem in soup.find_all(\"a\", attrs={\"data-qa-id\": \"adview_number_phone_contact\"}):\n",
    "    print(elem.text)\n",
    "\n",
    "# an unestable website, I will try with another:"
   ]
  },
  {
   "cell_type": "code",
   "execution_count": 6,
   "metadata": {},
   "outputs": [
    {
     "name": "stdout",
     "output_type": "stream",
     "text": [
      "https://www.immoweb.be/en/classified/farmhouse/for-sale/clavier/4560/9601088?searchId=627a3d9037a5e\n",
      "149000€\n"
     ]
    }
   ],
   "source": [
    "# Other website Inmoweb: Precio\n",
    "\n",
    "from selenium import webdriver\n",
    "from selenium.webdriver.support.ui import WebDriverWait\n",
    "from selenium.webdriver.support import expected_conditions as EC\n",
    "from selenium.common.exceptions import TimeoutException\n",
    "from selenium.webdriver.common.by import By\n",
    "from selenium.webdriver.chrome.service import Service\n",
    "from selenium.webdriver.chrome.options import Options\n",
    "\n",
    "options = Options()\n",
    "\n",
    "# De original website was \"https://www.leboncoin.fr/sports_hobbies/1536839557.htm/\" \n",
    "# I changed it because it is an unstable website. Couch recommendation\n",
    "# Extract the sale price of the house.\n",
    "\n",
    "url = \"https://www.immoweb.be/en/classified/farmhouse/for-sale/clavier/4560/9601088?searchId=627a3d9037a5e\"\n",
    "\n",
    "options.add_argument('--start-maximized')\n",
    "options.add_argument('--disable-infobars')\n",
    "path = (\"C:/webdrivers/chromedriver.exe\")\n",
    "s = Service(path)\n",
    "driver = webdriver.Chrome(options=options,service=s)\n",
    "driver.implicitly_wait(30)\n",
    "driver.get(url)\n",
    "\n",
    "print(driver.current_url)\n",
    "\n",
    "# Using selenium  # previous code # only as reference # I need check it\n",
    "#python_button = driver.find_elements_by_xpath('//div[@data-reactid=\"269\"]')[0]\n",
    "#python_button.click()\n",
    "\n",
    "# And then we use Beautiful soup\n",
    "soup = BeautifulSoup(driver.page_source)\n",
    "    \n",
    "driver.close()\n",
    "\n",
    "for elem in soup.find_all(\"span\", attrs={\"sr-only\"})[0]:\n",
    "    print(elem.text)"
   ]
  },
  {
   "cell_type": "markdown",
   "metadata": {},
   "source": [
    "### Starting from *leboncoin*, collect all the information available to define the product being sold. Use `selenium` for the telephone number."
   ]
  },
  {
   "cell_type": "code",
   "execution_count": null,
   "metadata": {},
   "outputs": [],
   "source": []
  },
  {
   "cell_type": "markdown",
   "metadata": {},
   "source": [
    "### API (Application Program Interface)"
   ]
  },
  {
   "cell_type": "markdown",
   "metadata": {},
   "source": [
    "A set of tools and methods that allow different applications to interact with each other. In the case of a web service, we can retrieve data dynamically. By using an API correctly, we can thus obtain in real time, the modifications made on a \"parent\" site.\n",
    "\n",
    "For example, we will retrieve online news, for example from the \"L'équipe\" website."
   ]
  },
  {
   "cell_type": "markdown",
   "metadata": {},
   "source": [
    "Follow the instructions at https://newsapi.org/s/lequipe-api to retrieve an \"API key\" connection key"
   ]
  },
  {
   "cell_type": "markdown",
   "metadata": {},
   "source": [
    "Your API key is: `73bbb95f8ecb49b499113a46481b4af1`\n",
    "\n",
    "\n",
    "It is frequent that a key does not work after a while (e.g. `5 min`n `30 min`, a day, ...)\n",
    "So don't jump up if you get an error message back.\n",
    "\n",
    "\n",
    "Yuri Key: `cfe80559939a4e39a4adf795e64e32fd`"
   ]
  },
  {
   "cell_type": "code",
   "execution_count": 6,
   "metadata": {},
   "outputs": [
    {
     "name": "stdout",
     "output_type": "stream",
     "text": [
      "{'status': 'ok', 'totalResults': 10, 'articles': [{'source': {'id': 'lequipe', 'name': \"L'equipe\"}, 'author': \"L'EQUIPE\", 'title': 'La FFF défend le dispositif mis en place pour la finale de la Ligue des champions', 'description': \"Dans un communiqué publié ce mardi soir, la Fédération française de football a défendu mardi le dispositif renforcé d'accueil mis en oeuvre samedi pour la finale de la Ligue des Champions au Stade de France, reprenant l'évaluation contestée du gouvernement de…\", 'url': 'https://www.lequipe.fr/Football/Actualites/La-fff-defend-le-dispositif-mis-en-place-pour-la-finale-de-la-ligue-des-champions/1336242', 'urlToImage': 'https://medias.lequipe.fr/img-photo-jpg/certains-supporters-de-liverpool-n-avaient-pu-acceder-a-la-rencontre-face-au-real-madrid-c-wilson-pr/1500000001649484/0:0,1998:1332-640-427-75/ffb1d.jpg', 'publishedAt': '2022-05-31T18:42:00+00:00', 'content': 'Dans un communiqué publié ce mardi soir, la FFF affirme que 110\\xa0000 personnes ont été dénombrées aux abords du Stade de France alors que 75\\xa0000 places ont été «\\xa0éditées\\xa0» pour la finale de Ligue des … [+1344 chars]'}, {'source': {'id': 'lequipe', 'name': \"L'equipe\"}, 'author': \"L'EQUIPE\", 'title': \"Lamecha Girma sous la barre des huit minutes sur 3000\\xa0m steeple au meeting d'Ostrava\", 'description': \"L'Éthiopien Lamecha Girma, vice-champion du monde et vice-champion olympique du 3\\xa0000\\xa0m steeple, a gagné en 7'58''68 mardi à Ostrava (République tchèque), meilleure performance mondiale de la saison. Gabriel Tual n'est pas parvenu à descendre sous les minima …\", 'url': 'https://www.lequipe.fr/Athletisme/Actualites/Lamecha-girma-sous-la-barre-des-huit-minutes-sur-3000-m-steeple-au-meeting-d-ostrava/1336237', 'urlToImage': 'https://medias.lequipe.fr/img-photo-jpg/lamecha-girma-yutaka-aflo-presse-sports/1500000001649476/0:0,1332:1332-640-640-75/3c8c1.jpg', 'publishedAt': '2022-05-31T18:19:00+00:00', 'content': \"HOMMES100\\xa0m\\r\\n (-1,2\\xa0m/s)\\xa0: 1. Prescod (GBR), 9''93 ; 2. Blake (JAM), 10''05200\\xa0m (-0,2\\xa0m/s)\\xa0: 1. Blake (CAN), 20''14\\xa0; 2. Hall (USA), 20''14800\\xa0m\\xa0: 1. Wanyonyl (KEN), 1'44''15\\xa0; 2. Moula (ALG), 1'44'… [+624 chars]\"}, {'source': {'id': 'lequipe', 'name': \"L'equipe\"}, 'author': \"L'EQUIPE\", 'title': 'Alexander Zverev se défait de Carlos Alcaraz en quatre sets et file en demi-finales', 'description': \"Alexander Zverev s'impose au terme d'un match exceptionnel, ce mardi en quarts de finale de Roland-Garros, face à l'Espagnol Carlos Alcaraz (6-4, 6-4, 4-6, 7-6 [7]). En demi-finale, il affrontera le vainqueur du choc Novak Djokovic-Rafael Nadal.\", 'url': 'https://www.lequipe.fr/Tennis/Actualites/Alexander-zverev-se-defait-de-carlos-alcaraz-en-quatre-sets-et-file-en-demi-finales/1336236', 'urlToImage': 'https://medias.lequipe.fr/img-photo-jpg/alexander-zverev-se-qualifie-pour-les-demies-finale-de-roland-garros-f-seguin-l-equipe/1500000001649486/170:363,1564:1293-640-427-75/b597d.jpg', 'publishedAt': '2022-05-31T18:06:00+00:00', 'content': \"Le 8 mai dernier, en finale de Madrid, Carlos Alcaraz avait collé une rouste à Alexander Zverev (6-3, 6-1), il est vrai épuisé par une nocturne bien tardive. L'Allemand a bien choisi son moment pour … [+2703 chars]\"}, {'source': {'id': 'lequipe', 'name': \"L'equipe\"}, 'author': \"L'EQUIPE\", 'title': \"Claire Bové et Laura Tarantola font l'impasse sur la Coupe du monde de Poznan\", 'description': 'Claire Bové et Laura Tarantola ne disputeront pas la manche de Coupe du monde organisée en Pologne du\\xa017 au 19\\xa0juin. Matthieu Androdias et Hugo Boucheron seront eux alignés en skiff.', 'url': 'https://www.lequipe.fr/Aviron/Actualites/Claire-bove-et-laura-tarantola-font-l-impasse-sur-la-coupe-du-monde-de-poznan/1336235', 'urlToImage': 'https://medias.lequipe.fr/img-photo-jpg/laura-tarantola-et-claire-bove-ont-decide-de-privilegier-l-entrainement-a-la-competition-agence-kmsp/1500000001649471/29:19,1966:1311-640-427-75/0fe4a.jpg', 'publishedAt': '2022-05-31T17:45:00+00:00', 'content': 'Laura Tarantola et Claire Bové ne disputeront pas les régates de Coupe du monde de Poznan (Pologne, 17-19 juin). Les vice-championnes olympiques du deux de couple poids légers seront à la place en st… [+913 chars]'}, {'source': {'id': 'lequipe', 'name': \"L'equipe\"}, 'author': \"L'EQUIPE\", 'title': '«La petite lucarne» du mardi 31 mai 2022', 'description': \"Retrouvez en vidéo la chronique humoristique de Pierre-Antoine Damecour, diffusée dans « L'Équipe de Greg ».\", 'url': 'https://www.lequipe.fr/Tous-sports/Actualites/La-petite-lucarne-du-mardi-31-mai-2022/1336234', 'urlToImage': 'https://medias.lequipe.fr/img-video-cover/1500000001649463/640/0', 'publishedAt': '2022-05-31T17:40:00+00:00', 'content': \"Besoin de retrouver le sourire ? Découvrez en vidéo la séquence humoristique de Pierre-Antoine Damecour, « La petite lucarne », diffusée ce mardi dans « L'Équipe de Greg », sur la chaîne L'Équipe.\"}, {'source': {'id': 'lequipe', 'name': \"L'equipe\"}, 'author': \"L'EQUIPE\", 'title': \"Eden Hazard, de retour avec la Belgique\\xa0: «\\xa0J'ai encore de belles années\\xa0»\", 'description': \"Après trois saisons compliquées au Real Madrid, Eden Hazard, de retour en sélection après avoir manqué le rassemblement de mars, espère rebondir s'il est débarrassé de ses soucis physiques.\", 'url': 'https://www.lequipe.fr/Football/Actualites/Eden-hazard-de-retour-avec-la-belgique-j-ai-encore-de-belles-annees/1336233', 'urlToImage': 'https://medias.lequipe.fr/img-photo-jpg/eden-hazard-lors-de-son-dernier-match-avec-la-belgique-en-novembre-face-a-l-estonie-3-1-vincent-van-/1500000001649466/0:0,1958:1305-640-427-75/eb87d.jpg', 'publishedAt': '2022-05-31T17:38:00+00:00', 'content': 'À peine quarante-huit heures après les festivités madrilènes liées au quatorzième succès en Ligue des champions, Eden Hazard, 31 ans, a participé ce mardi soir à son premier entraînement collectif av… [+4245 chars]'}, {'source': {'id': 'lequipe', 'name': \"L'equipe\"}, 'author': \"L'EQUIPE\", 'title': \"Crunch, le podcast rugby de L'Équipe\\xa0: avec La\\xa0Rochelle et Lyon, un week-end cocorico\\xa0!\", 'description': 'La\\xa0Rochelle et Lyon, vainqueurs de la Champions Cup et du Challenge Européen, poursuivent la très belle année du rugby français. Deux consécrations pour les deux clubs\\xa0: quelles embûches ont-ils dû esquiver pour en arriver là\\xa0? Et comment bien finir la saison…', 'url': 'https://www.lequipe.fr/Rugby/Actualites/Crunch-le-podcast-rugby-de-l-equipe-avec-la-rochelle-et-lyon-un-week-end-cocorico/1336230', 'urlToImage': 'https://medias.lequipe.fr/img-photo-jpg/-/1500000001649461/0:0,1998:1332-640-427-75/5c777.jpg', 'publishedAt': '2022-05-31T17:24:00+00:00', 'content': 'Depuis vendredi pour les uns, samedi pour les autres, le combat et la rudesse ont laissé place aux festivités, peu mesurées mais heureuses, respectivement à Lyon et à La\\xa0Rochelle. Les deux clubs, qui… [+955 chars]'}, {'source': {'id': 'lequipe', 'name': \"L'equipe\"}, 'author': \"L'EQUIPE\", 'title': \"Eden Hazard à propos du Ballon d'Or\\xa0: «\\xa0Karim Benzema l'a gagné à 99\\xa0%\\xa0»\", 'description': \"Eden Hazard, coéquipier de Karim Benzema au Real Madrid, estime que l'avant-centre français sera le prochain Ballon d'Or.\", 'url': 'https://www.lequipe.fr/Football/Actualites/Eden-hazard-a-propos-du-ballon-d-or-karim-benzema-l-a-gagne-a-99/1336229', 'urlToImage': 'https://medias.lequipe.fr/img-photo-jpg/eden-hazard-et-karim-benzema-f-faugere-l-equipe/1500000001649460/0:0,1998:1332-640-427-75/fd82d.jpg', 'publishedAt': '2022-05-31T17:24:00+00:00', 'content': \"Interrogé sur la concurrence de Karim Benzema avec ses partenaires en sélection, Thibaut Courtois ou Kevin De\\xa0Bruyne, dans la course au prochain Ballon d'Or, Eden Hazard a tranché sans nuance en fave… [+1244 chars]\"}, {'source': {'id': 'lequipe', 'name': \"L'equipe\"}, 'author': \"L'EQUIPE\", 'title': 'Isabelle Demongeot accompagne la FFT dans la prévention contre les violences sexuelles', 'description': \"Le président de la FFT Gilles Moretton et Isabelle Demongeot ont signé un accord de trois ans engageant l'ancienne joueuse de tennis dans une mission de lutte contre les violences sexuelles.\", 'url': 'https://www.lequipe.fr/Tennis/Actualites/Isabelle-demongeot-accompagne-la-fft/1336228', 'urlToImage': 'https://medias.lequipe.fr/img-photo-jpg/isabelle-demongeot-le-combat-d-une-vie-rondeau-l-equipe/1500000001649459/0:0,1985:1323-640-427-75/fbfbe.jpg', 'publishedAt': '2022-05-31T17:21:00+00:00', 'content': \"Dans le cadre de la lutte contre les violences sexuelles, l'ancienne n°\\xa02 française, qui avait témoigné durant le procès de Régis de Camaret sur les neuf années durant lesquelles elle avait été violé… [+244 chars]\"}, {'source': {'id': 'lequipe', 'name': \"L'equipe\"}, 'author': \"L'EQUIPE\", 'title': 'Lille et Marseille mis en sursis par la DNCG', 'description': \"Suite à l'examen de la situation des clubs avant la saison 2022-2023, la DNCG a prononcé, dans l'attente d'éléments complémentaires, un sursis à l'encontre du LOSC et de l'OM. Montpellier, Lens et Ajaccio ont eux reçu le feu vert.\", 'url': 'https://www.lequipe.fr/Football/Actualites/Lille-et-marseille-mis-en-sursis-par-la-dncg-feu-vert-pour-montpellier-lens-et-ajaccio/1336227', 'urlToImage': 'https://medias.lequipe.fr/img-photo-jpg/guendouzi-om-et-onana-losc-au-duel-f-porcu-l-equipe/1500000001649456/181:212,1624:1174-640-427-75/b72a3.jpg', 'publishedAt': '2022-05-31T17:10:00+00:00', 'content': 'Lille et Marseille vont devoir apporter des éléments complémentaires pour recevoir le feu vert de la DNCG. La Commission de Contrôle des Clubs Professionnels, qui étudie les dossiers de chaque club à… [+649 chars]'}]}\n"
     ]
    }
   ],
   "source": [
    "import requests\n",
    "\n",
    "key = \"cfe80559939a4e39a4adf795e64e32fd\"\n",
    "url = \"https://newsapi.org/v2/top-headlines?sources=lequipe&apiKey=\" + key\n",
    "response = requests.get(url)\n",
    "\n",
    "# Here the response format is a json file, it is used as a dictionary\n",
    "print(response.json())"
   ]
  },
  {
   "cell_type": "code",
   "execution_count": 7,
   "metadata": {},
   "outputs": [
    {
     "name": "stdout",
     "output_type": "stream",
     "text": [
      "dict_keys(['status', 'totalResults', 'articles'])\n"
     ]
    }
   ],
   "source": [
    "dictionnary = response.json()\n",
    "print(dictionnary.keys())"
   ]
  },
  {
   "cell_type": "code",
   "execution_count": 20,
   "metadata": {},
   "outputs": [
    {
     "name": "stdout",
     "output_type": "stream",
     "text": [
      "==============================================\n",
      "Key:  status // Values:  ok\n",
      "++++++++++++++++++++++++++++++++++++++++++++++\n",
      "==============================================\n",
      "Key:  totalResults // Values:  10\n",
      "++++++++++++++++++++++++++++++++++++++++++++++\n",
      "==============================================\n",
      "Key:  articles // Values:  [{'source': {'id': 'lequipe', 'name': \"L'equipe\"}, 'author': \"L'EQUIPE\", 'title': 'La FFF défend le dispositif mis en place pour la finale de la Ligue des champions', 'description': \"Dans un communiqué publié ce mardi soir, la Fédération française de football a défendu mardi le dispositif renforcé d'accueil mis en oeuvre samedi pour la finale de la Ligue des Champions au Stade de France, reprenant l'évaluation contestée du gouvernement de…\", 'url': 'https://www.lequipe.fr/Football/Actualites/La-fff-defend-le-dispositif-mis-en-place-pour-la-finale-de-la-ligue-des-champions/1336242', 'urlToImage': 'https://medias.lequipe.fr/img-photo-jpg/certains-supporters-de-liverpool-n-avaient-pu-acceder-a-la-rencontre-face-au-real-madrid-c-wilson-pr/1500000001649484/0:0,1998:1332-640-427-75/ffb1d.jpg', 'publishedAt': '2022-05-31T18:42:00+00:00', 'content': 'Dans un communiqué publié ce mardi soir, la FFF affirme que 110\\xa0000 personnes ont été dénombrées aux abords du Stade de France alors que 75\\xa0000 places ont été «\\xa0éditées\\xa0» pour la finale de Ligue des … [+1344 chars]'}, {'source': {'id': 'lequipe', 'name': \"L'equipe\"}, 'author': \"L'EQUIPE\", 'title': \"Lamecha Girma sous la barre des huit minutes sur 3000\\xa0m steeple au meeting d'Ostrava\", 'description': \"L'Éthiopien Lamecha Girma, vice-champion du monde et vice-champion olympique du 3\\xa0000\\xa0m steeple, a gagné en 7'58''68 mardi à Ostrava (République tchèque), meilleure performance mondiale de la saison. Gabriel Tual n'est pas parvenu à descendre sous les minima …\", 'url': 'https://www.lequipe.fr/Athletisme/Actualites/Lamecha-girma-sous-la-barre-des-huit-minutes-sur-3000-m-steeple-au-meeting-d-ostrava/1336237', 'urlToImage': 'https://medias.lequipe.fr/img-photo-jpg/lamecha-girma-yutaka-aflo-presse-sports/1500000001649476/0:0,1332:1332-640-640-75/3c8c1.jpg', 'publishedAt': '2022-05-31T18:19:00+00:00', 'content': \"HOMMES100\\xa0m\\r\\n (-1,2\\xa0m/s)\\xa0: 1. Prescod (GBR), 9''93 ; 2. Blake (JAM), 10''05200\\xa0m (-0,2\\xa0m/s)\\xa0: 1. Blake (CAN), 20''14\\xa0; 2. Hall (USA), 20''14800\\xa0m\\xa0: 1. Wanyonyl (KEN), 1'44''15\\xa0; 2. Moula (ALG), 1'44'… [+624 chars]\"}, {'source': {'id': 'lequipe', 'name': \"L'equipe\"}, 'author': \"L'EQUIPE\", 'title': 'Alexander Zverev se défait de Carlos Alcaraz en quatre sets et file en demi-finales', 'description': \"Alexander Zverev s'impose au terme d'un match exceptionnel, ce mardi en quarts de finale de Roland-Garros, face à l'Espagnol Carlos Alcaraz (6-4, 6-4, 4-6, 7-6 [7]). En demi-finale, il affrontera le vainqueur du choc Novak Djokovic-Rafael Nadal.\", 'url': 'https://www.lequipe.fr/Tennis/Actualites/Alexander-zverev-se-defait-de-carlos-alcaraz-en-quatre-sets-et-file-en-demi-finales/1336236', 'urlToImage': 'https://medias.lequipe.fr/img-photo-jpg/alexander-zverev-se-qualifie-pour-les-demies-finale-de-roland-garros-f-seguin-l-equipe/1500000001649486/170:363,1564:1293-640-427-75/b597d.jpg', 'publishedAt': '2022-05-31T18:06:00+00:00', 'content': \"Le 8 mai dernier, en finale de Madrid, Carlos Alcaraz avait collé une rouste à Alexander Zverev (6-3, 6-1), il est vrai épuisé par une nocturne bien tardive. L'Allemand a bien choisi son moment pour … [+2703 chars]\"}, {'source': {'id': 'lequipe', 'name': \"L'equipe\"}, 'author': \"L'EQUIPE\", 'title': \"Claire Bové et Laura Tarantola font l'impasse sur la Coupe du monde de Poznan\", 'description': 'Claire Bové et Laura Tarantola ne disputeront pas la manche de Coupe du monde organisée en Pologne du\\xa017 au 19\\xa0juin. Matthieu Androdias et Hugo Boucheron seront eux alignés en skiff.', 'url': 'https://www.lequipe.fr/Aviron/Actualites/Claire-bove-et-laura-tarantola-font-l-impasse-sur-la-coupe-du-monde-de-poznan/1336235', 'urlToImage': 'https://medias.lequipe.fr/img-photo-jpg/laura-tarantola-et-claire-bove-ont-decide-de-privilegier-l-entrainement-a-la-competition-agence-kmsp/1500000001649471/29:19,1966:1311-640-427-75/0fe4a.jpg', 'publishedAt': '2022-05-31T17:45:00+00:00', 'content': 'Laura Tarantola et Claire Bové ne disputeront pas les régates de Coupe du monde de Poznan (Pologne, 17-19 juin). Les vice-championnes olympiques du deux de couple poids légers seront à la place en st… [+913 chars]'}, {'source': {'id': 'lequipe', 'name': \"L'equipe\"}, 'author': \"L'EQUIPE\", 'title': '«La petite lucarne» du mardi 31 mai 2022', 'description': \"Retrouvez en vidéo la chronique humoristique de Pierre-Antoine Damecour, diffusée dans « L'Équipe de Greg ».\", 'url': 'https://www.lequipe.fr/Tous-sports/Actualites/La-petite-lucarne-du-mardi-31-mai-2022/1336234', 'urlToImage': 'https://medias.lequipe.fr/img-video-cover/1500000001649463/640/0', 'publishedAt': '2022-05-31T17:40:00+00:00', 'content': \"Besoin de retrouver le sourire ? Découvrez en vidéo la séquence humoristique de Pierre-Antoine Damecour, « La petite lucarne », diffusée ce mardi dans « L'Équipe de Greg », sur la chaîne L'Équipe.\"}, {'source': {'id': 'lequipe', 'name': \"L'equipe\"}, 'author': \"L'EQUIPE\", 'title': \"Eden Hazard, de retour avec la Belgique\\xa0: «\\xa0J'ai encore de belles années\\xa0»\", 'description': \"Après trois saisons compliquées au Real Madrid, Eden Hazard, de retour en sélection après avoir manqué le rassemblement de mars, espère rebondir s'il est débarrassé de ses soucis physiques.\", 'url': 'https://www.lequipe.fr/Football/Actualites/Eden-hazard-de-retour-avec-la-belgique-j-ai-encore-de-belles-annees/1336233', 'urlToImage': 'https://medias.lequipe.fr/img-photo-jpg/eden-hazard-lors-de-son-dernier-match-avec-la-belgique-en-novembre-face-a-l-estonie-3-1-vincent-van-/1500000001649466/0:0,1958:1305-640-427-75/eb87d.jpg', 'publishedAt': '2022-05-31T17:38:00+00:00', 'content': 'À peine quarante-huit heures après les festivités madrilènes liées au quatorzième succès en Ligue des champions, Eden Hazard, 31 ans, a participé ce mardi soir à son premier entraînement collectif av… [+4245 chars]'}, {'source': {'id': 'lequipe', 'name': \"L'equipe\"}, 'author': \"L'EQUIPE\", 'title': \"Crunch, le podcast rugby de L'Équipe\\xa0: avec La\\xa0Rochelle et Lyon, un week-end cocorico\\xa0!\", 'description': 'La\\xa0Rochelle et Lyon, vainqueurs de la Champions Cup et du Challenge Européen, poursuivent la très belle année du rugby français. Deux consécrations pour les deux clubs\\xa0: quelles embûches ont-ils dû esquiver pour en arriver là\\xa0? Et comment bien finir la saison…', 'url': 'https://www.lequipe.fr/Rugby/Actualites/Crunch-le-podcast-rugby-de-l-equipe-avec-la-rochelle-et-lyon-un-week-end-cocorico/1336230', 'urlToImage': 'https://medias.lequipe.fr/img-photo-jpg/-/1500000001649461/0:0,1998:1332-640-427-75/5c777.jpg', 'publishedAt': '2022-05-31T17:24:00+00:00', 'content': 'Depuis vendredi pour les uns, samedi pour les autres, le combat et la rudesse ont laissé place aux festivités, peu mesurées mais heureuses, respectivement à Lyon et à La\\xa0Rochelle. Les deux clubs, qui… [+955 chars]'}, {'source': {'id': 'lequipe', 'name': \"L'equipe\"}, 'author': \"L'EQUIPE\", 'title': \"Eden Hazard à propos du Ballon d'Or\\xa0: «\\xa0Karim Benzema l'a gagné à 99\\xa0%\\xa0»\", 'description': \"Eden Hazard, coéquipier de Karim Benzema au Real Madrid, estime que l'avant-centre français sera le prochain Ballon d'Or.\", 'url': 'https://www.lequipe.fr/Football/Actualites/Eden-hazard-a-propos-du-ballon-d-or-karim-benzema-l-a-gagne-a-99/1336229', 'urlToImage': 'https://medias.lequipe.fr/img-photo-jpg/eden-hazard-et-karim-benzema-f-faugere-l-equipe/1500000001649460/0:0,1998:1332-640-427-75/fd82d.jpg', 'publishedAt': '2022-05-31T17:24:00+00:00', 'content': \"Interrogé sur la concurrence de Karim Benzema avec ses partenaires en sélection, Thibaut Courtois ou Kevin De\\xa0Bruyne, dans la course au prochain Ballon d'Or, Eden Hazard a tranché sans nuance en fave… [+1244 chars]\"}, {'source': {'id': 'lequipe', 'name': \"L'equipe\"}, 'author': \"L'EQUIPE\", 'title': 'Isabelle Demongeot accompagne la FFT dans la prévention contre les violences sexuelles', 'description': \"Le président de la FFT Gilles Moretton et Isabelle Demongeot ont signé un accord de trois ans engageant l'ancienne joueuse de tennis dans une mission de lutte contre les violences sexuelles.\", 'url': 'https://www.lequipe.fr/Tennis/Actualites/Isabelle-demongeot-accompagne-la-fft/1336228', 'urlToImage': 'https://medias.lequipe.fr/img-photo-jpg/isabelle-demongeot-le-combat-d-une-vie-rondeau-l-equipe/1500000001649459/0:0,1985:1323-640-427-75/fbfbe.jpg', 'publishedAt': '2022-05-31T17:21:00+00:00', 'content': \"Dans le cadre de la lutte contre les violences sexuelles, l'ancienne n°\\xa02 française, qui avait témoigné durant le procès de Régis de Camaret sur les neuf années durant lesquelles elle avait été violé… [+244 chars]\"}, {'source': {'id': 'lequipe', 'name': \"L'equipe\"}, 'author': \"L'EQUIPE\", 'title': 'Lille et Marseille mis en sursis par la DNCG', 'description': \"Suite à l'examen de la situation des clubs avant la saison 2022-2023, la DNCG a prononcé, dans l'attente d'éléments complémentaires, un sursis à l'encontre du LOSC et de l'OM. Montpellier, Lens et Ajaccio ont eux reçu le feu vert.\", 'url': 'https://www.lequipe.fr/Football/Actualites/Lille-et-marseille-mis-en-sursis-par-la-dncg-feu-vert-pour-montpellier-lens-et-ajaccio/1336227', 'urlToImage': 'https://medias.lequipe.fr/img-photo-jpg/guendouzi-om-et-onana-losc-au-duel-f-porcu-l-equipe/1500000001649456/181:212,1624:1174-640-427-75/b72a3.jpg', 'publishedAt': '2022-05-31T17:10:00+00:00', 'content': 'Lille et Marseille vont devoir apporter des éléments complémentaires pour recevoir le feu vert de la DNCG. La Commission de Contrôle des Clubs Professionnels, qui étudie les dossiers de chaque club à… [+649 chars]'}]\n",
      "++++++++++++++++++++++++++++++++++++++++++++++\n"
     ]
    }
   ],
   "source": [
    "for element in list(dictionnary.keys()):\n",
    "    print(\"==============================================\")\n",
    "    print(\"Key: \", element, \"// Values: \", dictionnary[element])\n",
    "    print(\"++++++++++++++++++++++++++++++++++++++++++++++\")"
   ]
  },
  {
   "cell_type": "code",
   "execution_count": 10,
   "metadata": {},
   "outputs": [
    {
     "name": "stdout",
     "output_type": "stream",
     "text": [
      "=================================\n",
      "(0, {'source': {'id': 'lequipe', 'name': \"L'equipe\"}, 'author': \"L'EQUIPE\", 'title': 'La FFF défend le dispositif mis en place pour la finale de la Ligue des champions', 'description': \"Dans un communiqué publié ce mardi soir, la Fédération française de football a défendu mardi le dispositif renforcé d'accueil mis en oeuvre samedi pour la finale de la Ligue des Champions au Stade de France, reprenant l'évaluation contestée du gouvernement de…\", 'url': 'https://www.lequipe.fr/Football/Actualites/La-fff-defend-le-dispositif-mis-en-place-pour-la-finale-de-la-ligue-des-champions/1336242', 'urlToImage': 'https://medias.lequipe.fr/img-photo-jpg/certains-supporters-de-liverpool-n-avaient-pu-acceder-a-la-rencontre-face-au-real-madrid-c-wilson-pr/1500000001649484/0:0,1998:1332-640-427-75/ffb1d.jpg', 'publishedAt': '2022-05-31T18:42:00+00:00', 'content': 'Dans un communiqué publié ce mardi soir, la FFF affirme que 110\\xa0000 personnes ont été dénombrées aux abords du Stade de France alors que 75\\xa0000 places ont été «\\xa0éditées\\xa0» pour la finale de Ligue des … [+1344 chars]'})\n",
      "=================================\n",
      "(1, {'source': {'id': 'lequipe', 'name': \"L'equipe\"}, 'author': \"L'EQUIPE\", 'title': \"Lamecha Girma sous la barre des huit minutes sur 3000\\xa0m steeple au meeting d'Ostrava\", 'description': \"L'Éthiopien Lamecha Girma, vice-champion du monde et vice-champion olympique du 3\\xa0000\\xa0m steeple, a gagné en 7'58''68 mardi à Ostrava (République tchèque), meilleure performance mondiale de la saison. Gabriel Tual n'est pas parvenu à descendre sous les minima …\", 'url': 'https://www.lequipe.fr/Athletisme/Actualites/Lamecha-girma-sous-la-barre-des-huit-minutes-sur-3000-m-steeple-au-meeting-d-ostrava/1336237', 'urlToImage': 'https://medias.lequipe.fr/img-photo-jpg/lamecha-girma-yutaka-aflo-presse-sports/1500000001649476/0:0,1332:1332-640-640-75/3c8c1.jpg', 'publishedAt': '2022-05-31T18:19:00+00:00', 'content': \"HOMMES100\\xa0m\\r\\n (-1,2\\xa0m/s)\\xa0: 1. Prescod (GBR), 9''93 ; 2. Blake (JAM), 10''05200\\xa0m (-0,2\\xa0m/s)\\xa0: 1. Blake (CAN), 20''14\\xa0; 2. Hall (USA), 20''14800\\xa0m\\xa0: 1. Wanyonyl (KEN), 1'44''15\\xa0; 2. Moula (ALG), 1'44'… [+624 chars]\"})\n",
      "=================================\n",
      "(2, {'source': {'id': 'lequipe', 'name': \"L'equipe\"}, 'author': \"L'EQUIPE\", 'title': 'Alexander Zverev se défait de Carlos Alcaraz en quatre sets et file en demi-finales', 'description': \"Alexander Zverev s'impose au terme d'un match exceptionnel, ce mardi en quarts de finale de Roland-Garros, face à l'Espagnol Carlos Alcaraz (6-4, 6-4, 4-6, 7-6 [7]). En demi-finale, il affrontera le vainqueur du choc Novak Djokovic-Rafael Nadal.\", 'url': 'https://www.lequipe.fr/Tennis/Actualites/Alexander-zverev-se-defait-de-carlos-alcaraz-en-quatre-sets-et-file-en-demi-finales/1336236', 'urlToImage': 'https://medias.lequipe.fr/img-photo-jpg/alexander-zverev-se-qualifie-pour-les-demies-finale-de-roland-garros-f-seguin-l-equipe/1500000001649486/170:363,1564:1293-640-427-75/b597d.jpg', 'publishedAt': '2022-05-31T18:06:00+00:00', 'content': \"Le 8 mai dernier, en finale de Madrid, Carlos Alcaraz avait collé une rouste à Alexander Zverev (6-3, 6-1), il est vrai épuisé par une nocturne bien tardive. L'Allemand a bien choisi son moment pour … [+2703 chars]\"})\n",
      "=================================\n",
      "(3, {'source': {'id': 'lequipe', 'name': \"L'equipe\"}, 'author': \"L'EQUIPE\", 'title': \"Claire Bové et Laura Tarantola font l'impasse sur la Coupe du monde de Poznan\", 'description': 'Claire Bové et Laura Tarantola ne disputeront pas la manche de Coupe du monde organisée en Pologne du\\xa017 au 19\\xa0juin. Matthieu Androdias et Hugo Boucheron seront eux alignés en skiff.', 'url': 'https://www.lequipe.fr/Aviron/Actualites/Claire-bove-et-laura-tarantola-font-l-impasse-sur-la-coupe-du-monde-de-poznan/1336235', 'urlToImage': 'https://medias.lequipe.fr/img-photo-jpg/laura-tarantola-et-claire-bove-ont-decide-de-privilegier-l-entrainement-a-la-competition-agence-kmsp/1500000001649471/29:19,1966:1311-640-427-75/0fe4a.jpg', 'publishedAt': '2022-05-31T17:45:00+00:00', 'content': 'Laura Tarantola et Claire Bové ne disputeront pas les régates de Coupe du monde de Poznan (Pologne, 17-19 juin). Les vice-championnes olympiques du deux de couple poids légers seront à la place en st… [+913 chars]'})\n",
      "=================================\n",
      "(4, {'source': {'id': 'lequipe', 'name': \"L'equipe\"}, 'author': \"L'EQUIPE\", 'title': '«La petite lucarne» du mardi 31 mai 2022', 'description': \"Retrouvez en vidéo la chronique humoristique de Pierre-Antoine Damecour, diffusée dans « L'Équipe de Greg ».\", 'url': 'https://www.lequipe.fr/Tous-sports/Actualites/La-petite-lucarne-du-mardi-31-mai-2022/1336234', 'urlToImage': 'https://medias.lequipe.fr/img-video-cover/1500000001649463/640/0', 'publishedAt': '2022-05-31T17:40:00+00:00', 'content': \"Besoin de retrouver le sourire ? Découvrez en vidéo la séquence humoristique de Pierre-Antoine Damecour, « La petite lucarne », diffusée ce mardi dans « L'Équipe de Greg », sur la chaîne L'Équipe.\"})\n",
      "=================================\n",
      "(5, {'source': {'id': 'lequipe', 'name': \"L'equipe\"}, 'author': \"L'EQUIPE\", 'title': \"Eden Hazard, de retour avec la Belgique\\xa0: «\\xa0J'ai encore de belles années\\xa0»\", 'description': \"Après trois saisons compliquées au Real Madrid, Eden Hazard, de retour en sélection après avoir manqué le rassemblement de mars, espère rebondir s'il est débarrassé de ses soucis physiques.\", 'url': 'https://www.lequipe.fr/Football/Actualites/Eden-hazard-de-retour-avec-la-belgique-j-ai-encore-de-belles-annees/1336233', 'urlToImage': 'https://medias.lequipe.fr/img-photo-jpg/eden-hazard-lors-de-son-dernier-match-avec-la-belgique-en-novembre-face-a-l-estonie-3-1-vincent-van-/1500000001649466/0:0,1958:1305-640-427-75/eb87d.jpg', 'publishedAt': '2022-05-31T17:38:00+00:00', 'content': 'À peine quarante-huit heures après les festivités madrilènes liées au quatorzième succès en Ligue des champions, Eden Hazard, 31 ans, a participé ce mardi soir à son premier entraînement collectif av… [+4245 chars]'})\n",
      "=================================\n",
      "(6, {'source': {'id': 'lequipe', 'name': \"L'equipe\"}, 'author': \"L'EQUIPE\", 'title': \"Crunch, le podcast rugby de L'Équipe\\xa0: avec La\\xa0Rochelle et Lyon, un week-end cocorico\\xa0!\", 'description': 'La\\xa0Rochelle et Lyon, vainqueurs de la Champions Cup et du Challenge Européen, poursuivent la très belle année du rugby français. Deux consécrations pour les deux clubs\\xa0: quelles embûches ont-ils dû esquiver pour en arriver là\\xa0? Et comment bien finir la saison…', 'url': 'https://www.lequipe.fr/Rugby/Actualites/Crunch-le-podcast-rugby-de-l-equipe-avec-la-rochelle-et-lyon-un-week-end-cocorico/1336230', 'urlToImage': 'https://medias.lequipe.fr/img-photo-jpg/-/1500000001649461/0:0,1998:1332-640-427-75/5c777.jpg', 'publishedAt': '2022-05-31T17:24:00+00:00', 'content': 'Depuis vendredi pour les uns, samedi pour les autres, le combat et la rudesse ont laissé place aux festivités, peu mesurées mais heureuses, respectivement à Lyon et à La\\xa0Rochelle. Les deux clubs, qui… [+955 chars]'})\n",
      "=================================\n",
      "(7, {'source': {'id': 'lequipe', 'name': \"L'equipe\"}, 'author': \"L'EQUIPE\", 'title': \"Eden Hazard à propos du Ballon d'Or\\xa0: «\\xa0Karim Benzema l'a gagné à 99\\xa0%\\xa0»\", 'description': \"Eden Hazard, coéquipier de Karim Benzema au Real Madrid, estime que l'avant-centre français sera le prochain Ballon d'Or.\", 'url': 'https://www.lequipe.fr/Football/Actualites/Eden-hazard-a-propos-du-ballon-d-or-karim-benzema-l-a-gagne-a-99/1336229', 'urlToImage': 'https://medias.lequipe.fr/img-photo-jpg/eden-hazard-et-karim-benzema-f-faugere-l-equipe/1500000001649460/0:0,1998:1332-640-427-75/fd82d.jpg', 'publishedAt': '2022-05-31T17:24:00+00:00', 'content': \"Interrogé sur la concurrence de Karim Benzema avec ses partenaires en sélection, Thibaut Courtois ou Kevin De\\xa0Bruyne, dans la course au prochain Ballon d'Or, Eden Hazard a tranché sans nuance en fave… [+1244 chars]\"})\n",
      "=================================\n",
      "(8, {'source': {'id': 'lequipe', 'name': \"L'equipe\"}, 'author': \"L'EQUIPE\", 'title': 'Isabelle Demongeot accompagne la FFT dans la prévention contre les violences sexuelles', 'description': \"Le président de la FFT Gilles Moretton et Isabelle Demongeot ont signé un accord de trois ans engageant l'ancienne joueuse de tennis dans une mission de lutte contre les violences sexuelles.\", 'url': 'https://www.lequipe.fr/Tennis/Actualites/Isabelle-demongeot-accompagne-la-fft/1336228', 'urlToImage': 'https://medias.lequipe.fr/img-photo-jpg/isabelle-demongeot-le-combat-d-une-vie-rondeau-l-equipe/1500000001649459/0:0,1985:1323-640-427-75/fbfbe.jpg', 'publishedAt': '2022-05-31T17:21:00+00:00', 'content': \"Dans le cadre de la lutte contre les violences sexuelles, l'ancienne n°\\xa02 française, qui avait témoigné durant le procès de Régis de Camaret sur les neuf années durant lesquelles elle avait été violé… [+244 chars]\"})\n",
      "=================================\n",
      "(9, {'source': {'id': 'lequipe', 'name': \"L'equipe\"}, 'author': \"L'EQUIPE\", 'title': 'Lille et Marseille mis en sursis par la DNCG', 'description': \"Suite à l'examen de la situation des clubs avant la saison 2022-2023, la DNCG a prononcé, dans l'attente d'éléments complémentaires, un sursis à l'encontre du LOSC et de l'OM. Montpellier, Lens et Ajaccio ont eux reçu le feu vert.\", 'url': 'https://www.lequipe.fr/Football/Actualites/Lille-et-marseille-mis-en-sursis-par-la-dncg-feu-vert-pour-montpellier-lens-et-ajaccio/1336227', 'urlToImage': 'https://medias.lequipe.fr/img-photo-jpg/guendouzi-om-et-onana-losc-au-duel-f-porcu-l-equipe/1500000001649456/181:212,1624:1174-640-427-75/b72a3.jpg', 'publishedAt': '2022-05-31T17:10:00+00:00', 'content': 'Lille et Marseille vont devoir apporter des éléments complémentaires pour recevoir le feu vert de la DNCG. La Commission de Contrôle des Clubs Professionnels, qui étudie les dossiers de chaque club à… [+649 chars]'})\n"
     ]
    }
   ],
   "source": [
    "# And now we have lists in dictionaries(it's a JSON file actually but it's very similar)\n",
    "# We will discover the information of the article key.\n",
    "\n",
    "for element in enumerate(dictionnary[\"articles\"]):\n",
    "    print(\"=================================\")\n",
    "    print(element)"
   ]
  },
  {
   "cell_type": "code",
   "execution_count": 17,
   "metadata": {},
   "outputs": [
    {
     "name": "stdout",
     "output_type": "stream",
     "text": [
      "=================================\n",
      "Key: source Values: {'id': 'lequipe', 'name': \"L'equipe\"}\n",
      "=================================\n",
      "Key: author Values: L'EQUIPE\n",
      "=================================\n",
      "Key: title Values: La FFF défend le dispositif mis en place pour la finale de la Ligue des champions\n",
      "=================================\n",
      "Key: description Values: Dans un communiqué publié ce mardi soir, la Fédération française de football a défendu mardi le dispositif renforcé d'accueil mis en oeuvre samedi pour la finale de la Ligue des Champions au Stade de France, reprenant l'évaluation contestée du gouvernement de…\n",
      "=================================\n",
      "Key: url Values: https://www.lequipe.fr/Football/Actualites/La-fff-defend-le-dispositif-mis-en-place-pour-la-finale-de-la-ligue-des-champions/1336242\n",
      "=================================\n",
      "Key: urlToImage Values: https://medias.lequipe.fr/img-photo-jpg/certains-supporters-de-liverpool-n-avaient-pu-acceder-a-la-rencontre-face-au-real-madrid-c-wilson-pr/1500000001649484/0:0,1998:1332-640-427-75/ffb1d.jpg\n",
      "=================================\n",
      "Key: publishedAt Values: 2022-05-31T18:42:00+00:00\n",
      "=================================\n",
      "Key: content Values: Dans un communiqué publié ce mardi soir, la FFF affirme que 110 000 personnes ont été dénombrées aux abords du Stade de France alors que 75 000 places ont été « éditées » pour la finale de Ligue des … [+1344 chars]\n"
     ]
    }
   ],
   "source": [
    "# So if we keep going, it gives us another dictionary!\n",
    "for element in dictionnary[\"articles\"][0].keys():\n",
    "    print(\"=================================\")\n",
    "    print(\"Key:\", element , \"Values:\", dictionnary[\"articles\"][0][element])"
   ]
  },
  {
   "cell_type": "markdown",
   "metadata": {},
   "source": [
    "### Make a script that allows you to take details of the last ten news from the team or another site. Store them in a nice CSV or excel file."
   ]
  },
  {
   "cell_type": "code",
   "execution_count": null,
   "metadata": {},
   "outputs": [],
   "source": [
    "# I need to modify the code \n",
    "# it is an idea\n",
    "\n",
    "import time\n",
    "import random\n",
    "from random import randint\n",
    "\n",
    "# Here are the things you will have to do for all links:\n",
    "# - Slow down the frequency of requests to avoid being identified and therefore banned from the website.\n",
    "# Use `time.sleep(random.uniform(1.0, 2.0))`\n",
    "# - Get request object from URL\n",
    "# - Extract the content into a variable using BeautifulSoup\n",
    "# - Get title\n",
    "# - Get synopsis\n",
    "\n",
    "title = []\n",
    "synopsis = []\n",
    "\n",
    "\n",
    "for movie_url in movie_links:\n",
    "    r = requests.get(movie_url)\n",
    "    print(movie_url, r.status_code)\n",
    "    soup = BeautifulSoup(r.content, \"lxml\")\n",
    "\n",
    "    for elem in soup.findAll(\"div\", attrs={\"class\": \"titlebar-title titlebar-title-lg\"}):\n",
    "        title.append(elem.text)\n",
    "        print(elem.text)\n",
    "        \n",
    "    for elem in soup.findAll(\"div\", attrs={\"class\": \"content-txt\"}):\n",
    "        synopsis.append(elem.text)\n",
    "        print(elem.text)\n",
    "        \n",
    "        break\n",
    "\n",
    "time.sleep(random.uniform(1.0, 2.0))\n",
    "\n",
    "\n",
    "# Check the length of the lists before creating the dataframe\n",
    "len(title), len(synopsis), len(movie_links)"
   ]
  }
 ],
 "metadata": {
  "interpreter": {
   "hash": "8d21f3b75a0e2120eb0e66e21d4adea905fc160c040159242535b1a26e9f956d"
  },
  "kernelspec": {
   "display_name": "Python 3 (ipykernel)",
   "language": "python",
   "name": "python3"
  },
  "language_info": {
   "codemirror_mode": {
    "name": "ipython",
    "version": 3
   },
   "file_extension": ".py",
   "mimetype": "text/x-python",
   "name": "python",
   "nbconvert_exporter": "python",
   "pygments_lexer": "ipython3",
   "version": "3.9.7"
  }
 },
 "nbformat": 4,
 "nbformat_minor": 2
}
