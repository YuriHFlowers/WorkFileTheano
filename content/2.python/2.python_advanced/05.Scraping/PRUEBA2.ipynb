{
 "cells": [
  {
   "cell_type": "code",
   "execution_count": 1,
   "metadata": {},
   "outputs": [],
   "source": [
    "import csv\n",
    "import pandas as pd\n",
    "import numpy as ny\n",
    "import pytest\n",
    "import time\n",
    "import json\n",
    "import sqlite3\n",
    "\n",
    "from selenium import webdriver\n",
    "from selenium.webdriver.support.ui import WebDriverWait\n",
    "from selenium.webdriver.support import expected_conditions as EC\n",
    "from selenium.common.exceptions import TimeoutException\n",
    "from selenium.webdriver.common.by import By\n",
    "from selenium.webdriver.chrome.service import Service\n",
    "from selenium.webdriver.chrome.options import Options\n",
    "from selenium.webdriver.common.action_chains import ActionChains\n",
    "\n",
    "options = Options()\n"
   ]
  },
  {
   "cell_type": "code",
   "execution_count": 2,
   "metadata": {},
   "outputs": [],
   "source": [
    "def csv_url_reader(url_obj):\n",
    "    reader = csv.DictReader(url_obj, delimiter=',')\n",
    "    for line in reader:\n",
    "        url = line[\"URL\"]\n",
    "        #print(url)\n",
    "        options.add_argument('--start-maximized')\n",
    "        options.add_argument('--disable-infobars')\n",
    "        path = (\"C:/webdrivers/chromedriver.exe\")\n",
    "        s = Service(path)\n",
    "        driver = webdriver.Chrome(options=options,service=s)\n",
    "        driver.implicitly_wait(30)\n",
    "        driver.get(url)\n",
    "        \n",
    "        keep_browsing = driver.find_element(By.ID,'uc-btn-accept-banner')\n",
    "        keep_browsing.click()\n",
    "        sleep=.1\n",
    "        \n",
    "        mylist2= []\n",
    "        precio = driver.find_element(by=By.CSS_SELECTOR, value = \"p[class='classified__price'] span[aria-hidden='true']\").text\n",
    "        subtype= driver.find_element(by=By.XPATH, value='//h1[@class=\"classified__title\"]').text\n",
    "        street= driver.find_element(by=By.XPATH, value='//span[@class=\"classified__information--address-row\"][1]').text\n",
    "        postcode = driver.find_element(by=By.XPATH, value='//span[@class=\"classified__information--address-row\"][2]').text\n",
    "        immocode = driver.find_element(by=By.CSS_SELECTOR, value = \"div[class='classified__header--tools'] div[class='classified__header--immoweb-code']\").text\n",
    "        mylist2.append(precio)\n",
    "        mylist2.append(subtype.split(' ')[0])\n",
    "        mylist2.append(street)\n",
    "        mylist2.append(postcode.split(' ')[0])\n",
    "        mylist2.append(postcode.split(' ')[-1])\n",
    "        mylist2.append(immocode.split(' ')[-1])\n",
    "\n",
    "        #print(mylist2)\n",
    "\n",
    "        for list in mylist2:\n",
    "            with open(\"FINAL.csv\", \"a\", encoding=\"utf-8\") as file:\n",
    "                for i in range(0,1):   \n",
    "                    i += 1\n",
    "                    file.write(str(mylist2)+'\\n')\n",
    "\n",
    "        driver.quit()    \n",
    "\n",
    "if __name__==\"__main__\":\n",
    "    with open(\"URL.csv\") as url_obj:\n",
    "        csv_url_reader(url_obj)\n"
   ]
  },
  {
   "cell_type": "code",
   "execution_count": null,
   "metadata": {},
   "outputs": [],
   "source": [
    "print(final)"
   ]
  },
  {
   "cell_type": "code",
   "execution_count": null,
   "metadata": {},
   "outputs": [],
   "source": [
    "        listFinal =[]        \n",
    "        def getList2(mylist2):\n",
    "            for i in range(1):\n",
    "                listFinal.append(mylist2[i])  \n",
    "                listFinal.append(mylist2)[i+1] \n",
    "            return listFinal\n",
    "\n",
    "        print(getList2(mylist2))\n",
    "        print(type(getList2(mylist2)))"
   ]
  },
  {
   "cell_type": "code",
   "execution_count": null,
   "metadata": {},
   "outputs": [],
   "source": [
    "        dict2={}\n",
    "        dict2['Precio_final']=mylist2[0]\n",
    "        dict2['subtipe']=mylist2[1]\n",
    "        dict2['street']=mylist2[2]\n",
    "        dict2['postcode']=mylist2[3]\n",
    "        dict2['location']=mylist2[4]\n",
    "        dict2['immocode']=mylist2[5]\n",
    "\n",
    "        listFinal =[]\n",
    "        def getList2(dict2):\n",
    "            for key in dict2:\n",
    "                listFinal = listFinal.append(dict2.get(key))       \n",
    "            return listFinal\n",
    "\n",
    "        print(getList2(dict2))\n",
    "        print(type(getList2(dict2)))"
   ]
  },
  {
   "cell_type": "code",
   "execution_count": 3,
   "metadata": {},
   "outputs": [
    {
     "ename": "NameError",
     "evalue": "name 'listFinal2' is not defined",
     "output_type": "error",
     "traceback": [
      "\u001b[1;31m---------------------------------------------------------------------------\u001b[0m",
      "\u001b[1;31mNameError\u001b[0m                                 Traceback (most recent call last)",
      "\u001b[1;32mc:\\Users\\yurit\\Documents\\ANT-Theano-4\\content\\2.python\\2.python_advanced\\05.Scraping\\PRUEBA2.ipynb Cell 3'\u001b[0m in \u001b[0;36m<cell line: 1>\u001b[1;34m()\u001b[0m\n\u001b[1;32m----> <a href='vscode-notebook-cell:/c%3A/Users/yurit/Documents/ANT-Theano-4/content/2.python/2.python_advanced/05.Scraping/PRUEBA2.ipynb#ch0000009?line=0'>1</a>\u001b[0m \u001b[39mprint\u001b[39m(listFinal2)\n",
      "\u001b[1;31mNameError\u001b[0m: name 'listFinal2' is not defined"
     ]
    }
   ],
   "source": [
    "print(listFinal2)"
   ]
  },
  {
   "cell_type": "code",
   "execution_count": null,
   "metadata": {},
   "outputs": [],
   "source": [
    "columns=['Price', 'Building_condition','Bedrooms', 'Living_area', 'Kitchen_type','Furnished','Garden','Garden_surface','Terrace','Terrace_surface','Surface_plot','Energy_class','Number_frontages','Swimming_pool']\n",
    "df = pd.DataFrame(data=mylist2, columns=columns)\n",
    "df.to_csv(\"FINAL.csv\")"
   ]
  },
  {
   "cell_type": "code",
   "execution_count": null,
   "metadata": {},
   "outputs": [],
   "source": [
    "        with open(\"FINAL.csv\", \"w\", encoding=\"utf-8\") as file:\n",
    "            for i in range(len(mylist)):\n",
    "                file.write(mylist+'\\n')"
   ]
  },
  {
   "cell_type": "code",
   "execution_count": null,
   "metadata": {},
   "outputs": [],
   "source": [
    "        df = pd.DataFrame(data=mylist)\n",
    "        df.to_csv(\"FINAL.csv\")"
   ]
  },
  {
   "cell_type": "code",
   "execution_count": null,
   "metadata": {},
   "outputs": [],
   "source": [
    "archivo=\"FINAL.csv\"\n",
    "csv = open(archivo, \"w\")\n",
    "csv.write(mylist)\n",
    "csv.close()\n",
    "time.sleep(1)\n",
    "#driver.quit()\n",
    "#quit()"
   ]
  },
  {
   "cell_type": "code",
   "execution_count": null,
   "metadata": {},
   "outputs": [],
   "source": [
    "columns=['Price', 'Building_condition','Bedrooms', 'Living_area', 'Kitchen_type','Furnished','Garden','Garden_surface','Terrace','Terrace_surface','Surface_plot','Energy_class','Number_frontages','Swimming_pool']"
   ]
  },
  {
   "cell_type": "code",
   "execution_count": null,
   "metadata": {},
   "outputs": [],
   "source": [
    "        import sqlite3\n",
    "        lista = mylist\n",
    "        con = sqlite3.connect(\"data.db\")\n",
    "        con.execute(\"DROP TABLE IF EXISTS lista\")\n",
    "        con.execute(\"create table lista (Price, Building_condition,Bedrooms,Living_area,Kitchen_type,Furnished,Garden,Garden_surface,Terrace,Terrace_surface,Surface_plot,Energy_class,Number_frontages,Swimming_pool)\")\n",
    "        with con:\n",
    "            con.executemany(\"insert into lista values (?, ?, ?, ?, ?, ?, ?, ?, ?, ?, ?, ?, ?, ?)\", lista)\n",
    "            con.close()\n",
    "        \n"
   ]
  },
  {
   "cell_type": "code",
   "execution_count": null,
   "metadata": {},
   "outputs": [],
   "source": [
    "def csv_url_reader(url_obj):\n",
    "    reader = csv.DictReader(url_obj, delimiter=',')\n",
    "    for line in reader:\n",
    "        url = line[\"URL\"]\n",
    "        #print(url)\n",
    "        options.add_argument('--start-maximized')\n",
    "        options.add_argument('--disable-infobars')\n",
    "        path = (\"C:/webdrivers/chromedriver.exe\")\n",
    "        s = Service(path)\n",
    "        driver = webdriver.Chrome(options=options,service=s)\n",
    "        driver.implicitly_wait(30)\n",
    "        driver.get(url)\n",
    "\n",
    "        keep_browsing = driver.find_element(By.ID,'uc-btn-accept-banner')\n",
    "        keep_browsing.click()\n",
    "\n",
    "        \n",
    "        mylist2= []\n",
    "        precio = driver.find_element(by=By.CSS_SELECTOR, value = \"p[class='classified__price'] span[aria-hidden='true']\").text\n",
    "        subtype= driver.find_element(by=By.XPATH, value='//h1[@class=\"classified__title\"]').text\n",
    "        street= driver.find_element(by=By.XPATH, value='//span[@class=\"classified__information--address-row\"][1]').text\n",
    "        postcode = driver.find_element(by=By.XPATH, value='//span[@class=\"classified__information--address-row\"][2]').text\n",
    "        immocode = driver.find_element(by=By.CSS_SELECTOR, value = \"div[class='classified__header--tools'] div[class='classified__header--immoweb-code']\").text\n",
    "        mylist2.append(precio)\n",
    "        mylist2.append(subtype.split(' ')[0])\n",
    "        mylist2.append(street)\n",
    "        mylist2.append(postcode.split(' ')[0])\n",
    "        mylist2.append(postcode.split(' ')[-1])\n",
    "        mylist2.append(immocode.split(' ')[-1])\n",
    "        \n",
    "        dict2={}\n",
    "        dict2['Precio_final']=mylist2[0]\n",
    "        dict2['subtipe']=mylist2[1]\n",
    "        dict2['street']=mylist2[2]\n",
    "        dict2['postcode']=mylist2[3]\n",
    "        dict2['location']=mylist2[4]\n",
    "        dict2['immocode']=mylist2[5]\n",
    "\n",
    "        listFinal =[]\n",
    "        def getList2(dict2):\n",
    "            for key in dict2:\n",
    "                listFinal.append(dict2.get(key))       \n",
    "            return listFinal\n",
    "\n",
    "        print(getList2(dict2))\n",
    "        print(type(getList2(dict2)))\n",
    "\n",
    "\n",
    "        driver.quit() \n",
    "\n",
    "if __name__==\"__main__\":\n",
    "    with open(\"URL.csv\") as url_obj:\n",
    "        csv_url_reader(url_obj)"
   ]
  }
 ],
 "metadata": {
  "interpreter": {
   "hash": "8d21f3b75a0e2120eb0e66e21d4adea905fc160c040159242535b1a26e9f956d"
  },
  "kernelspec": {
   "display_name": "Python 3.9.7 ('base')",
   "language": "python",
   "name": "python3"
  },
  "language_info": {
   "codemirror_mode": {
    "name": "ipython",
    "version": 3
   },
   "file_extension": ".py",
   "mimetype": "text/x-python",
   "name": "python",
   "nbconvert_exporter": "python",
   "pygments_lexer": "ipython3",
   "version": "3.9.7"
  },
  "orig_nbformat": 4
 },
 "nbformat": 4,
 "nbformat_minor": 2
}
