{
 "cells": [
  {
   "cell_type": "markdown",
   "metadata": {},
   "source": [
    "# Decorators \n",
    "\n",
    "You've probably already heard of **decorators**. This is a feature that is widely used in the Python world. They allow you to write concise, readable and non-repetitive code.\n",
    "\n",
    "Concretely, a decorator is a callable that takes another callable as an argument and returns a copy of the same callable by \"decorating\" it, i.e. pre-processing and/or post-processing it. In the jargon, this is often referred to as wrapping (wrapping, sprinkling, adding something extra, decorating)."
   ]
  },
  {
   "cell_type": "code",
   "execution_count": 1,
   "metadata": {},
   "outputs": [],
   "source": [
    "def my_decorator(my_function):\n",
    "    print(my_function.__name__)\n",
    "    return my_function"
   ]
  },
  {
   "cell_type": "markdown",
   "metadata": {},
   "source": [
    "To apply a decorator, we precede the definition line of the function to be decorated with a line containing an `@` character, then the name of the decorator to be applied, for example :"
   ]
  },
  {
   "cell_type": "code",
   "execution_count": 2,
   "metadata": {},
   "outputs": [
    {
     "name": "stdout",
     "output_type": "stream",
     "text": [
      "addition\n"
     ]
    }
   ],
   "source": [
    "@my_decorator\n",
    "def addition(a, b):\n",
    "    return a + b"
   ]
  },
  {
   "cell_type": "code",
   "execution_count": 3,
   "metadata": {},
   "outputs": [
    {
     "data": {
      "text/plain": [
       "11"
      ]
     },
     "execution_count": 3,
     "metadata": {},
     "output_type": "execute_result"
    }
   ],
   "source": [
    "addition(5, 6)"
   ]
  },
  {
   "cell_type": "markdown",
   "metadata": {},
   "source": [
    "It is therefore clear that the decorator is applied when the function is defined, and not when it is called. Here we use a very simple decorator that returns the same function that it got as argument (`my_function`), but it could very well be that it returns another one, which would for example be created on the fly.\n",
    "\n",
    "This has the effect of replacing `addition` by the return of the decorator function called with `addition` as argument, which is strictly equivalent to the following.\n",
    "\n"
   ]
  },
  {
   "cell_type": "code",
   "execution_count": 6,
   "metadata": {},
   "outputs": [
    {
     "name": "stdout",
     "output_type": "stream",
     "text": [
      "addition\n"
     ]
    }
   ],
   "source": [
    "def addition(a, b):\n",
    "    return a + b\n",
    "\n",
    "\n",
    "addition = my_decorator(addition)"
   ]
  },
  {
   "cell_type": "markdown",
   "metadata": {},
   "source": [
    "Let's say we would like to change our `addition` function to display the operands and then the result, without touching the body of our function. We can make a decorator that will return a new function that will display the arguments, call our original function, then display the return and return it (to keep the original behavior).\n",
    "\n",
    "Thus, our decorator becomes :"
   ]
  },
  {
   "cell_type": "code",
   "execution_count": 7,
   "metadata": {},
   "outputs": [],
   "source": [
    "def print_decorator(function):\n",
    "    def new_function(a, b):  # New function behaving as the `function` to be decorated\n",
    "        print(f\"Addition of numbers {a} and {b}\")\n",
    "        return_value = function(a, b)  # Call to `function`\n",
    "        print(f\"Result: {return_value}\")\n",
    "        return return_value\n",
    "\n",
    "    return new_function  # don't forget to return `new_function`"
   ]
  },
  {
   "cell_type": "markdown",
   "metadata": {},
   "source": [
    "If we now apply this decorator to our addition function:"
   ]
  },
  {
   "cell_type": "code",
   "execution_count": 9,
   "metadata": {},
   "outputs": [],
   "source": [
    "@print_decorator\n",
    "def addition(a, b):\n",
    "    return a + b"
   ]
  },
  {
   "cell_type": "code",
   "execution_count": 10,
   "metadata": {},
   "outputs": [
    {
     "name": "stdout",
     "output_type": "stream",
     "text": [
      "Addition of numbers 1 and 2\n",
      "Result: 3\n"
     ]
    },
    {
     "data": {
      "text/plain": [
       "3"
      ]
     },
     "execution_count": 10,
     "metadata": {},
     "output_type": "execute_result"
    }
   ],
   "source": [
    "addition(1, 2)"
   ]
  },
  {
   "cell_type": "markdown",
   "metadata": {},
   "source": [
    "But our decorator is very specialized here, it only works with functions taking two parameters, and will display `\"Addition\"` in all cases. We can modify it to make it more generic (remember `*args` and `**kwargs`)."
   ]
  },
  {
   "cell_type": "code",
   "execution_count": 11,
   "metadata": {},
   "outputs": [],
   "source": [
    "def print_decorator(function):\n",
    "    def new_function(*args, **kwargs):\n",
    "        print(f\"call {function.__name__} with args={args} and kwargs={kwargs}\")\n",
    "        return_value = function(*args, **kwargs)\n",
    "        print(f\"Result: {return_value}\")\n",
    "        return return_value\n",
    "\n",
    "    return new_function"
   ]
  },
  {
   "cell_type": "markdown",
   "metadata": {},
   "source": [
    "I'll let you try it out on different functions to see how generic it is.\n",
    "\n",
    "Function definitions are not limited to one decorator: you can specify as many as you want, by placing them one after the other.\n"
   ]
  },
  {
   "cell_type": "code",
   "execution_count": 13,
   "metadata": {},
   "outputs": [
    {
     "name": "stdout",
     "output_type": "stream",
     "text": [
      "new_function\n"
     ]
    }
   ],
   "source": [
    "@my_decorator\n",
    "@print_decorator\n",
    "def useless():\n",
    "    pass"
   ]
  },
  {
   "cell_type": "markdown",
   "metadata": {},
   "source": [
    "The order in which they are specified is important, the previous code is equivalent to :"
   ]
  },
  {
   "cell_type": "code",
   "execution_count": 17,
   "metadata": {},
   "outputs": [
    {
     "name": "stdout",
     "output_type": "stream",
     "text": [
      "new_function\n"
     ]
    }
   ],
   "source": [
    "def useless():\n",
    "    pass\n",
    "\n",
    "\n",
    "useless = my_decorator(print_decorator(useless))"
   ]
  },
  {
   "cell_type": "markdown",
   "metadata": {},
   "source": [
    "So we can see that the decorators specified first are those that will be applied last.\n",
    "\n",
    "I said earlier that the decorators apply to functions. This is also true for functions defined within classes (i.e. methods). But you should also know that decorators extend to class declarations."
   ]
  },
  {
   "cell_type": "code",
   "execution_count": 16,
   "metadata": {},
   "outputs": [
    {
     "name": "stdout",
     "output_type": "stream",
     "text": [
      "method\n"
     ]
    }
   ],
   "source": [
    "@print_decorator\n",
    "class MyClass:\n",
    "    @my_decorator\n",
    "    def method(self):\n",
    "        pass"
   ]
  },
  {
   "cell_type": "markdown",
   "metadata": {},
   "source": [
    "Although the definition is broader than that. The decorator is a callable taking a callable as a parameter, and can return any type of object.\n",
    "\n",
    "We have seen how to apply a decorator to a function, however we may want to parameterize the behavior of this decorator. In our previous example (`print_decorator`), we display text before and after the function call. But what do we do if we want to change this text (to change the language, or use a term other than \"function\")?\n",
    "\n",
    "We don't want to have to create a different decorator for every possible and imaginable sentence. We'd like to be able to pass our strings to our decorator so that it can display them at the right time.\n",
    "\n",
    "In fact, `@` doesn't have to be followed by an object name, arguments can also be added to it using parentheses (as we would do for a call). But the behavior may seem strange to you at first glance.\n",
    "\n",
    "For example, to use such a parameterized decorator :"
   ]
  },
  {
   "cell_type": "code",
   "execution_count": 24,
   "metadata": {},
   "outputs": [
    {
     "ename": "NameError",
     "evalue": "name 'param_print_decorator' is not defined",
     "output_type": "error",
     "traceback": [
      "\u001b[1;31m---------------------------------------------------------------------------\u001b[0m",
      "\u001b[1;31mNameError\u001b[0m                                 Traceback (most recent call last)",
      "\u001b[1;32mc:\\Users\\yurit\\Documents\\ANT-Theano-4\\content\\2.python\\2.python_advanced\\07.Decorator\\decorators.ipynb Cell 22'\u001b[0m in \u001b[0;36m<cell line: 1>\u001b[1;34m()\u001b[0m\n\u001b[1;32m----> <a href='vscode-notebook-cell:/c%3A/Users/yurit/Documents/ANT-Theano-4/content/2.python/2.python_advanced/07.Decorator/decorators.ipynb#ch0000021?line=0'>1</a>\u001b[0m \u001b[39m@param_print_decorator\u001b[39m(\u001b[39m\"\u001b[39m\u001b[39mcall \u001b[39m\u001b[39m{}\u001b[39;00m\u001b[39m with args(\u001b[39m\u001b[39m{}\u001b[39;00m\u001b[39m) and kwargs(\u001b[39m\u001b[39m{}\u001b[39;00m\u001b[39m)\u001b[39m\u001b[39m\"\u001b[39m, \u001b[39m\"\u001b[39m\u001b[39mReturn value = \u001b[39m\u001b[39m{}\u001b[39;00m\u001b[39m\"\u001b[39m)\n\u001b[0;32m      <a href='vscode-notebook-cell:/c%3A/Users/yurit/Documents/ANT-Theano-4/content/2.python/2.python_advanced/07.Decorator/decorators.ipynb#ch0000021?line=1'>2</a>\u001b[0m \u001b[39mdef\u001b[39;00m \u001b[39mtest_func\u001b[39m(x):\n\u001b[0;32m      <a href='vscode-notebook-cell:/c%3A/Users/yurit/Documents/ANT-Theano-4/content/2.python/2.python_advanced/07.Decorator/decorators.ipynb#ch0000021?line=2'>3</a>\u001b[0m     \u001b[39mreturn\u001b[39;00m x\n",
      "\u001b[1;31mNameError\u001b[0m: name 'param_print_decorator' is not defined"
     ]
    }
   ],
   "source": [
    "@param_print_decorator(\"call {} with args({}) and kwargs({})\", \"Return value = {}\")\n",
    "def test_func(x):\n",
    "    return x\n",
    "        "
   ]
  },
  {
   "cell_type": "markdown",
   "metadata": {},
   "source": [
    "We will need to have a callable `param_print_decorator` which, when called, will return a decorator that can then be applied to our function. **So a parametrized decorator is just a callable that returns a simple decorator.**\n",
    "\n",
    "The `param_print_decorator` code would thus look like :"
   ]
  },
  {
   "cell_type": "code",
   "execution_count": 26,
   "metadata": {},
   "outputs": [],
   "source": [
    "def param_print_decorator(string_before_execution, string_after_execution):\n",
    "    def simple_decorator(function):\n",
    "        def new_function(*args, **kwargs):\n",
    "            print(string_before_execution.format(function.__name__, args, kwargs))\n",
    "            return_value = function(*args, **kwargs)\n",
    "            print(string_after_execution.format(return_value))\n",
    "            return return_value\n",
    "\n",
    "        return new_function\n",
    "\n",
    "    return simple_decorator"
   ]
  },
  {
   "cell_type": "markdown",
   "metadata": {},
   "source": [
    "A function is not just a piece of code with parameters. It also has a name, names of the parameters, documentation (docstring), annotations, etc. When we decorate a function, and where we return a new one function like in the previous example, we lose all this related information.\n",
    "\n",
    "Here is an example to illustrate this:"
   ]
  },
  {
   "cell_type": "code",
   "execution_count": 27,
   "metadata": {},
   "outputs": [
    {
     "name": "stdout",
     "output_type": "stream",
     "text": [
      "Help on function decorated in module __main__:\n",
      "\n",
      "decorated(*args, **kwargs)\n",
      "\n"
     ]
    }
   ],
   "source": [
    "def my_decorator(function):\n",
    "    def decorated(*args, **kwargs):\n",
    "        return function(*args, **kwargs)\n",
    "\n",
    "    return decorated\n",
    "\n",
    "\n",
    "@my_decorator\n",
    "def addition(a, b):\n",
    "    \"This function makes an addition.\"\n",
    "    return a + b\n",
    "\n",
    "\n",
    "help(addition)"
   ]
  },
  {
   "cell_type": "markdown",
   "metadata": {},
   "source": [
    "For more information of decorators, please read https://realpython.com/primer-on-python-decorators/"
   ]
  },
  {
   "cell_type": "markdown",
   "metadata": {},
   "source": [
    "Note_yuri: help to understand:"
   ]
  },
  {
   "cell_type": "code",
   "execution_count": 42,
   "metadata": {},
   "outputs": [],
   "source": [
    "def parent(num):\n",
    "    def first_child():\n",
    "        return \"Hi, I am Emma\"\n",
    "\n",
    "    def second_child():\n",
    "        return \"Call me Liam\"\n",
    "\n",
    "    if num == 1:\n",
    "        return first_child\n",
    "    else:\n",
    "        return second_child"
   ]
  },
  {
   "cell_type": "code",
   "execution_count": 46,
   "metadata": {},
   "outputs": [
    {
     "data": {
      "text/plain": [
       "<function __main__.parent.<locals>.first_child()>"
      ]
     },
     "execution_count": 46,
     "metadata": {},
     "output_type": "execute_result"
    }
   ],
   "source": [
    "num = 1\n",
    "parent(num)  # return a funtion without parenthesis, return first_child, is only a reference "
   ]
  },
  {
   "cell_type": "markdown",
   "metadata": {},
   "source": [
    "Note_yuri: Otro ejemplo: "
   ]
  },
  {
   "cell_type": "code",
   "execution_count": 45,
   "metadata": {},
   "outputs": [],
   "source": [
    "def my_decorator(func):\n",
    "    def wrapper():\n",
    "        print(\"Something is happening before the function is called.\")\n",
    "        func()\n",
    "        print(\"Something is happening after the function is called.\")\n",
    "    return wrapper\n",
    "\n",
    "def say_whee():\n",
    "    print(\"Whee!\")\n",
    "\n",
    "say_whee = my_decorator(say_whee)"
   ]
  },
  {
   "cell_type": "code",
   "execution_count": 47,
   "metadata": {},
   "outputs": [
    {
     "name": "stdout",
     "output_type": "stream",
     "text": [
      "Something is happening before the function is called.\n",
      "Whee!\n",
      "Something is happening after the function is called.\n"
     ]
    }
   ],
   "source": [
    "say_whee()"
   ]
  }
 ],
 "metadata": {
  "interpreter": {
   "hash": "8d21f3b75a0e2120eb0e66e21d4adea905fc160c040159242535b1a26e9f956d"
  },
  "kernelspec": {
   "display_name": "Python 3 (ipykernel)",
   "language": "python",
   "name": "python3"
  },
  "language_info": {
   "codemirror_mode": {
    "name": "ipython",
    "version": 3
   },
   "file_extension": ".py",
   "mimetype": "text/x-python",
   "name": "python",
   "nbconvert_exporter": "python",
   "pygments_lexer": "ipython3",
   "version": "3.9.7"
  }
 },
 "nbformat": 4,
 "nbformat_minor": 2
}
