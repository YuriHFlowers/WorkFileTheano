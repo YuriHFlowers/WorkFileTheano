{
 "cells": [
  {
   "cell_type": "code",
   "execution_count": 1,
   "id": "a9f3f989",
   "metadata": {},
   "outputs": [],
   "source": [
    "import re"
   ]
  },
  {
   "cell_type": "code",
   "execution_count": null,
   "id": "7dcbb30f",
   "metadata": {},
   "outputs": [],
   "source": []
  },
  {
   "cell_type": "code",
   "execution_count": 30,
   "id": "72ff2e94",
   "metadata": {},
   "outputs": [],
   "source": [
    "list_mail = open(\"./data/mail.txt\", \"r\")\n",
    "\n",
    "firstName = []\n",
    "name = []\n",
    "ope = []\n",
    "zone = []\n",
    "\n",
    "for line in list_mail:\n",
    "    content_list = line.replace('.', ' ').replace('-', ' ').replace('_', ' ').split(\"@\").copy()\n",
    "    #print(content_list)\n",
    "\n",
    "    #for string in line:\n",
    "\n",
    " #   firstName.append(splitMail[0].split()[0])\n",
    " #   name.append(splitMail[0].split()[1])\n",
    "  #  ope.append(splitMail[1].split()[-2])\n",
    "   # zone.append(splitMail[1].split()[-1])\n",
    "\n",
    "#firstName, name, ope, zone\n",
    "#list_mail.close()\n",
    "#print(firstName)\n",
    "\n",
    "\n",
    "#'vogal-roger@mail.adlp.tech\\n', 'aikin.joe@odul.xyz\\n',\n",
    "#'jack.sweeney@hotmoille.o"
   ]
  },
  {
   "cell_type": "code",
   "execution_count": 31,
   "id": "4764853b",
   "metadata": {},
   "outputs": [
    {
     "name": "stdout",
     "output_type": "stream",
     "text": [
      "0\n"
     ]
    }
   ],
   "source": [
    "def print_nums(x):\n",
    "    for i in range(x):\n",
    "        print(i)\n",
    "        return\n",
    "print_nums(10)"
   ]
  },
  {
   "cell_type": "code",
   "execution_count": 32,
   "id": "62eb0ff2",
   "metadata": {},
   "outputs": [
    {
     "name": "stdout",
     "output_type": "stream",
     "text": [
      "8\n"
     ]
    }
   ],
   "source": [
    "list = [1, 1, 2, 3, 5, 8, 13]\n",
    "print(list[list[4]])"
   ]
  },
  {
   "cell_type": "code",
   "execution_count": 33,
   "id": "a58e695b",
   "metadata": {},
   "outputs": [
    {
     "name": "stdout",
     "output_type": "stream",
     "text": [
      "0\n",
      "1\n"
     ]
    },
    {
     "ename": "AssertionError",
     "evalue": "",
     "output_type": "error",
     "traceback": [
      "\u001b[1;31m---------------------------------------------------------------------------\u001b[0m",
      "\u001b[1;31mAssertionError\u001b[0m                            Traceback (most recent call last)",
      "\u001b[1;32m~\\AppData\\Local\\Temp/ipykernel_39304/2486895017.py\u001b[0m in \u001b[0;36m<module>\u001b[1;34m\u001b[0m\n\u001b[0;32m      2\u001b[0m \u001b[1;32massert\u001b[0m \u001b[1;34m\"h\"\u001b[0m \u001b[1;33m!=\u001b[0m \u001b[1;34m\"w\"\u001b[0m\u001b[1;33m\u001b[0m\u001b[1;33m\u001b[0m\u001b[0m\n\u001b[0;32m      3\u001b[0m \u001b[0mprint\u001b[0m \u001b[1;33m(\u001b[0m\u001b[1;36m1\u001b[0m\u001b[1;33m)\u001b[0m\u001b[1;33m\u001b[0m\u001b[1;33m\u001b[0m\u001b[0m\n\u001b[1;32m----> 4\u001b[1;33m \u001b[1;32massert\u001b[0m \u001b[1;32mFalse\u001b[0m\u001b[1;33m\u001b[0m\u001b[1;33m\u001b[0m\u001b[0m\n\u001b[0m\u001b[0;32m      5\u001b[0m \u001b[0mprint\u001b[0m\u001b[1;33m(\u001b[0m\u001b[1;36m2\u001b[0m\u001b[1;33m)\u001b[0m\u001b[1;33m\u001b[0m\u001b[1;33m\u001b[0m\u001b[0m\n\u001b[0;32m      6\u001b[0m \u001b[1;32massert\u001b[0m \u001b[1;32mTrue\u001b[0m\u001b[1;33m\u001b[0m\u001b[1;33m\u001b[0m\u001b[0m\n",
      "\u001b[1;31mAssertionError\u001b[0m: "
     ]
    }
   ],
   "source": [
    "print(0)\n",
    "assert \"h\" != \"w\"\n",
    "print (1)\n",
    "assert False\n",
    "print(2)\n",
    "assert True\n",
    "print(3)"
   ]
  },
  {
   "cell_type": "code",
   "execution_count": null,
   "id": "1479b3ed",
   "metadata": {},
   "outputs": [],
   "source": []
  }
 ],
 "metadata": {
  "kernelspec": {
   "display_name": "Python 3 (ipykernel)",
   "language": "python",
   "name": "python3"
  },
  "language_info": {
   "codemirror_mode": {
    "name": "ipython",
    "version": 3
   },
   "file_extension": ".py",
   "mimetype": "text/x-python",
   "name": "python",
   "nbconvert_exporter": "python",
   "pygments_lexer": "ipython3",
   "version": "3.9.7"
  }
 },
 "nbformat": 4,
 "nbformat_minor": 5
}
