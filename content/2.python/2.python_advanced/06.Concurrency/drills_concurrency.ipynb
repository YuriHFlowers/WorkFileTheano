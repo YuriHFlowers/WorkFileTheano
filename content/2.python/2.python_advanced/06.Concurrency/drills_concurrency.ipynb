{
 "cells": [
  {
   "cell_type": "markdown",
   "metadata": {},
   "source": [
    "# Drill - Threading\n",
    "\n"
   ]
  },
  {
   "cell_type": "markdown",
   "metadata": {},
   "source": [
    "### Exercise 1\n",
    "In the `data/` folder, you have 10 files that contain Shakespears sonnets. You have to gather all these files into one file `data_all.txt` using threads. Be careful, the sonnets must appear in order."
   ]
  },
  {
   "cell_type": "code",
   "execution_count": 18,
   "metadata": {},
   "outputs": [],
   "source": [
    "'''import glob\n",
    "from threading import Thread\n",
    "\n",
    "\n",
    "threads = list()\n",
    "\n",
    "filenames = glob.glob('./data/*.txt')\n",
    "with open('final_all.txt', 'w') as outputfile:\n",
    "    for fname in filenames:\n",
    "        with open(fname) as infile:\n",
    "            for line in infile:\n",
    "                outputfile.write(line)\n",
    "            outputfile.write('\\n')'''\n",
    "\n",
    "\n",
    "import threading\n",
    "\n",
    "use_thread = False\n",
    "\n",
    "def read_and_write_file(file_name):\n",
    "    if use_thread:\n",
    "        print(thread.name)\n",
    "\n",
    "    with threading.Lock() as lock:\n",
    "        with open('data_all.txt', 'a') as out, open(file_name) as in_:\n",
    "            out.writelines(in_)\n",
    "\n",
    "if __name__ == '__main__':\n",
    "    file_names = ['./data/data_part_1.txt', './data/data_part_2.txt', './data/data_part_3.txt', './data/data_part_4.txt', './data/data_part_5.txt', './data/data_part_6.txt', './data/data_part_7.txt', './data/data_part_8.txt', './data/data_part_9.txt', './data/data_part_10.txt']\n",
    "    if use_thread:\n",
    "        for file_name in file_names:\n",
    "            thread = threading.Thread(target = read_and_write_file, args = (file_name,), name = file_name)\n",
    "            thread.start()\n",
    "    else:\n",
    "        for file_name in file_names:\n",
    "            read_and_write_file(file_name)"
   ]
  },
  {
   "cell_type": "markdown",
   "metadata": {},
   "source": [
    "### Exercise 2\n",
    "Scrap all the web pages in the `urls` list and display the links. 1 thread per link. "
   ]
  },
  {
   "cell_type": "code",
   "execution_count": null,
   "metadata": {},
   "outputs": [],
   "source": [
    "urls = [\n",
    "    \"http://www.python.org\",\n",
    "    \"http://www.python.org/about/\",\n",
    "    \"http://www.onlamp.com/pub/a/python/2003/04/17/metaclasses.html\",\n",
    "    \"http://www.python.org/doc/\",\n",
    "    \"http://www.python.org/download/\",\n",
    "    \"http://www.python.org/getit/\",\n",
    "    \"http://www.python.org/community/\",\n",
    "    \"https://wiki.python.org/moin/\",\n",
    "]"
   ]
  },
  {
   "cell_type": "code",
   "execution_count": null,
   "metadata": {},
   "outputs": [],
   "source": []
  }
 ],
 "metadata": {
  "file_extension": ".py",
  "interpreter": {
   "hash": "8d21f3b75a0e2120eb0e66e21d4adea905fc160c040159242535b1a26e9f956d"
  },
  "kernelspec": {
   "display_name": "Python 3.9.7 ('base')",
   "language": "python",
   "name": "python3"
  },
  "language_info": {
   "codemirror_mode": {
    "name": "ipython",
    "version": 3
   },
   "file_extension": ".py",
   "mimetype": "text/x-python",
   "name": "python",
   "nbconvert_exporter": "python",
   "pygments_lexer": "ipython3",
   "version": "3.9.7"
  },
  "mimetype": "text/x-python",
  "name": "python",
  "npconvert_exporter": "python",
  "pygments_lexer": "ipython3",
  "version": 3
 },
 "nbformat": 4,
 "nbformat_minor": 2
}
