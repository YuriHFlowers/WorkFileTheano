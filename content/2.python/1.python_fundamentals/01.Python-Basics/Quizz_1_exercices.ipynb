{
 "cells": [
  {
   "cell_type": "markdown",
   "metadata": {},
   "source": [
    "# Quizz 1 - Python basics"
   ]
  },
  {
   "cell_type": "markdown",
   "metadata": {},
   "source": [
    "## a) type"
   ]
  },
  {
   "cell_type": "markdown",
   "metadata": {},
   "source": [
    "### Create a variable `string` containing `\"toto\"` and a variable `number` containing the number 10."
   ]
  },
  {
   "cell_type": "code",
   "execution_count": 4,
   "metadata": {},
   "outputs": [],
   "source": [
    "string = \"toto\"\n",
    "number = 10"
   ]
  },
  {
   "cell_type": "markdown",
   "metadata": {},
   "source": [
    "### Convert `string` to unicode and `number` to float."
   ]
  },
  {
   "cell_type": "code",
   "execution_count": 6,
   "metadata": {},
   "outputs": [
    {
     "name": "stdout",
     "output_type": "stream",
     "text": [
      "<class 'str'>\n",
      "<class 'str'>\n",
      "<class 'float'>\n"
     ]
    }
   ],
   "source": [
    "string = \"toto\"\n",
    "unicode_string = u\"toto\"\n",
    "print(type(string))\n",
    "print(type(unicode_string))\n",
    "\n",
    "number = float(number)\n",
    "print(type(number))"
   ]
  },
  {
   "cell_type": "markdown",
   "metadata": {},
   "source": [
    "### Reverse the contents of the variables `string` and `number` (from line 1)."
   ]
  },
  {
   "cell_type": "code",
   "execution_count": 14,
   "metadata": {},
   "outputs": [
    {
     "name": "stdout",
     "output_type": "stream",
     "text": [
      "otot\n",
      "456\n",
      "654\n"
     ]
    }
   ],
   "source": [
    "reverse = string[::-1]\n",
    "print(reverse)\n",
    "\n",
    "number = int(input())\n",
    "revs_number = 0\n",
    "while number > 0:\n",
    "    remainder = number % 10\n",
    "    revs_number = revs_number*10 + remainder\n",
    "    number = number // 10\n",
    "\n",
    "print(revs_number)"
   ]
  },
  {
   "cell_type": "markdown",
   "metadata": {},
   "source": [
    "## b) List"
   ]
  },
  {
   "cell_type": "markdown",
   "metadata": {},
   "source": [
    "### Create a list `first_list`  containing the following integers: 1, 3, 2, 7, 4, 10, 46."
   ]
  },
  {
   "cell_type": "code",
   "execution_count": 5,
   "metadata": {},
   "outputs": [],
   "source": [
    "first_list = [1, 3, 2, 7, 4, 10, 46]"
   ]
  },
  {
   "cell_type": "markdown",
   "metadata": {},
   "source": [
    "\n",
    "### Display the first 3 items in `first_list` - in one line of code."
   ]
  },
  {
   "cell_type": "code",
   "execution_count": 17,
   "metadata": {},
   "outputs": [
    {
     "data": {
      "text/plain": [
       "[1, 3, 2]"
      ]
     },
     "execution_count": 17,
     "metadata": {},
     "output_type": "execute_result"
    }
   ],
   "source": [
    "first_list[:3]"
   ]
  },
  {
   "cell_type": "markdown",
   "metadata": {},
   "source": [
    "### Create a `second_list` that contains only the 3rd, 4th and 5th elements of `first_list` . Your list indexing should use 3 characters at most (not including spaces) - Check your result carefully!"
   ]
  },
  {
   "cell_type": "code",
   "execution_count": 7,
   "metadata": {},
   "outputs": [
    {
     "name": "stdout",
     "output_type": "stream",
     "text": [
      "[2, 7, 4]\n"
     ]
    }
   ],
   "source": [
    "second_list = first_list[2:5]\n",
    "print(second_list)"
   ]
  },
  {
   "cell_type": "markdown",
   "metadata": {},
   "source": [
    "### Concatenate `first_list` and `second_list` to form `third_list`."
   ]
  },
  {
   "cell_type": "code",
   "execution_count": 8,
   "metadata": {},
   "outputs": [
    {
     "name": "stdout",
     "output_type": "stream",
     "text": [
      "[1, 3, 2, 7, 4, 10, 46, 5, 2, 7, 4]\n"
     ]
    }
   ],
   "source": [
    "third_list = first_list + second_list\n",
    "print(third_list)"
   ]
  },
  {
   "cell_type": "markdown",
   "metadata": {},
   "source": [
    "### Using the zip function, associate the values of `first_list` and `second_list` in the variable `tuple_of_lists`."
   ]
  },
  {
   "cell_type": "code",
   "execution_count": 25,
   "metadata": {},
   "outputs": [
    {
     "name": "stdout",
     "output_type": "stream",
     "text": [
      "[(1, 2), (3, 7), (2, 4)]\n"
     ]
    }
   ],
   "source": [
    "tuple_of_lists = zip(first_list, second_list)\n",
    "tuple_of_lists = list(tuple_of_lists)\n",
    "print(tuple_of_lists)"
   ]
  },
  {
   "cell_type": "markdown",
   "metadata": {},
   "source": [
    "### Add the number 5 to `first_list`."
   ]
  },
  {
   "cell_type": "code",
   "execution_count": 6,
   "metadata": {},
   "outputs": [
    {
     "name": "stdout",
     "output_type": "stream",
     "text": [
      "[1, 3, 2, 7, 4, 10, 46, 5]\n"
     ]
    }
   ],
   "source": [
    "first_list.append(5)\n",
    "print(first_list)"
   ]
  },
  {
   "cell_type": "markdown",
   "metadata": {},
   "source": [
    "### Add a null element to `third_list`."
   ]
  },
  {
   "cell_type": "code",
   "execution_count": 10,
   "metadata": {},
   "outputs": [
    {
     "name": "stdout",
     "output_type": "stream",
     "text": [
      "[1, 3, 2, 7, 4, 10, 46, 5, 2, 7, 4, None]\n"
     ]
    }
   ],
   "source": [
    "third_list.append(None)\n",
    "print(third_list)"
   ]
  },
  {
   "cell_type": "markdown",
   "metadata": {},
   "source": [
    "Write a function that takes as arguments a list `my_list` and an integer `n` and returns the result of `n` concatenations of `my_list` with itself."
   ]
  },
  {
   "cell_type": "code",
   "execution_count": 13,
   "metadata": {},
   "outputs": [
    {
     "name": "stdout",
     "output_type": "stream",
     "text": [
      "Please, give a number: 4\n"
     ]
    },
    {
     "data": {
      "text/plain": [
       "[1, 2, 3, 1, 2, 3, 1, 2, 3, 1, 2, 3]"
      ]
     },
     "execution_count": 13,
     "metadata": {},
     "output_type": "execute_result"
    }
   ],
   "source": [
    "# Example : my_list=[1,2,3], n=2 --> [1,2,3,1,2,3]\n",
    "\n",
    "def nconcatenations(my_list,n):\n",
    "    new_list = my_list * int(n)\n",
    "    return new_list\n",
    "    \n",
    "my_list = [1,2,3]\n",
    "n = int(input(\"Please, give a number: \"))\n",
    "nconcatenations(my_list,n)"
   ]
  },
  {
   "cell_type": "markdown",
   "metadata": {},
   "source": [
    "### You want to make parameter `n` optional and set its value to 2 by default. How do you do it?"
   ]
  },
  {
   "cell_type": "code",
   "execution_count": 15,
   "metadata": {},
   "outputs": [
    {
     "data": {
      "text/plain": [
       "'Hello 2'"
      ]
     },
     "execution_count": 15,
     "metadata": {},
     "output_type": "execute_result"
    }
   ],
   "source": [
    "def hello(optional = \"2\"): \n",
    "    message = \"Hello \" + optional\n",
    "    return message\n",
    "\n",
    "hello()"
   ]
  },
  {
   "cell_type": "markdown",
   "metadata": {},
   "source": [
    "###  With a `while` loop, print each element of `third_list` up to the `null` element."
   ]
  },
  {
   "cell_type": "code",
   "execution_count": 16,
   "metadata": {},
   "outputs": [
    {
     "name": "stdout",
     "output_type": "stream",
     "text": [
      "1\n",
      "3\n",
      "2\n",
      "7\n",
      "4\n",
      "10\n",
      "46\n",
      "5\n",
      "2\n",
      "7\n",
      "4\n",
      "None\n"
     ]
    }
   ],
   "source": [
    "i=0 \n",
    "while (i<len(third_list)): \n",
    "     print(third_list[i]) \n",
    "     i+=1"
   ]
  },
  {
   "cell_type": "markdown",
   "metadata": {},
   "source": [
    "### Calculate, with a `for` loop, the number of even integers present in the list `first_list`."
   ]
  },
  {
   "cell_type": "code",
   "execution_count": 23,
   "metadata": {},
   "outputs": [
    {
     "name": "stdout",
     "output_type": "stream",
     "text": [
      "[1, 3, 2, 7, 4, 10, 46, 5]\n",
      "4\n"
     ]
    }
   ],
   "source": [
    "even_count = 0\n",
    "for num in first_list:\n",
    "    if num % 2 == 0:    #even remainder = 0\n",
    "        even_count += 1\n",
    "        \n",
    "print(first_list)      \n",
    "print(even_count)"
   ]
  },
  {
   "cell_type": "markdown",
   "metadata": {},
   "source": [
    "### Rewrite the following expression with a multi-line `for` loop."
   ]
  },
  {
   "cell_type": "code",
   "execution_count": 25,
   "metadata": {},
   "outputs": [
    {
     "name": "stdout",
     "output_type": "stream",
     "text": [
      "[2, 4, 10, 46]\n"
     ]
    }
   ],
   "source": [
    "even_numbers = [element for element in first_list if element % 2 == 0]\n",
    "print(even_numbers)"
   ]
  },
  {
   "cell_type": "code",
   "execution_count": 26,
   "metadata": {},
   "outputs": [
    {
     "name": "stdout",
     "output_type": "stream",
     "text": [
      "[2, 4, 10, 46]\n"
     ]
    }
   ],
   "source": [
    "even_numbers = \\\n",
    "[element \\\n",
    " for element \\\n",
    " in first_list \\\n",
    " if element % 2 == 0]\n",
    "print(even_numbers)"
   ]
  },
  {
   "cell_type": "markdown",
   "metadata": {},
   "source": [
    "### Create a function that takes a string as input and returns the first single letter of the string"
   ]
  },
  {
   "cell_type": "code",
   "execution_count": 32,
   "metadata": {},
   "outputs": [
    {
     "name": "stdout",
     "output_type": "stream",
     "text": [
      "Please, give a string: yuri\n",
      "y\n"
     ]
    }
   ],
   "source": [
    "def first_letter(string):\n",
    "    #complete_string = (string)\n",
    "    #string_list = complete_string.split()  \n",
    "    #firstletter = string_list[0][0]\n",
    "    \n",
    "    firstletter = string[0][0]\n",
    "    return firstletter\n",
    "    \n",
    "string = str(input(\"Please, give a string: \"))\n",
    "print(first_letter(string))\n"
   ]
  },
  {
   "cell_type": "markdown",
   "metadata": {},
   "source": [
    "## c) Dictionaries"
   ]
  },
  {
   "cell_type": "markdown",
   "metadata": {},
   "source": [
    "### Create a `car` dictionary with the following keys and values:\n",
    "| key  | value |\n",
    "|---|---|\n",
    "| brand  | Ford  |\n",
    "| model  | Mustang |\n",
    "| year  | 1964 |"
   ]
  },
  {
   "cell_type": "code",
   "execution_count": 81,
   "metadata": {},
   "outputs": [
    {
     "name": "stdout",
     "output_type": "stream",
     "text": [
      "{'brand': 'Ford', 'model': 'Mustang', 'year': '1964'}\n"
     ]
    }
   ],
   "source": [
    "car = {}\n",
    "car[\"brand\"] = \"Ford\"\n",
    "car[\"model\"] = \"Mustang\"\n",
    "car[\"year\"] = \"1964\"\n",
    "print(car)"
   ]
  },
  {
   "cell_type": "markdown",
   "metadata": {},
   "source": [
    "### Access the `year` value."
   ]
  },
  {
   "cell_type": "code",
   "execution_count": 41,
   "metadata": {},
   "outputs": [
    {
     "name": "stdout",
     "output_type": "stream",
     "text": [
      "1964\n"
     ]
    }
   ],
   "source": [
    "print(car[\"year\"])"
   ]
  },
  {
   "cell_type": "markdown",
   "metadata": {},
   "source": [
    "###  Use a loop to display all the dictionary keys."
   ]
  },
  {
   "cell_type": "code",
   "execution_count": 57,
   "metadata": {},
   "outputs": [
    {
     "name": "stdout",
     "output_type": "stream",
     "text": [
      "brand\n",
      "model\n",
      "year\n"
     ]
    }
   ],
   "source": [
    "for key in car:\n",
    "    print(key)"
   ]
  },
  {
   "cell_type": "markdown",
   "metadata": {},
   "source": [
    "###  Use a loop to display all the dictionary values."
   ]
  },
  {
   "cell_type": "code",
   "execution_count": 55,
   "metadata": {},
   "outputs": [
    {
     "name": "stdout",
     "output_type": "stream",
     "text": [
      "Ford\n",
      "Mustang\n",
      "1964\n"
     ]
    }
   ],
   "source": [
    "for value in car:\n",
    "    print(car[value])"
   ]
  },
  {
   "cell_type": "markdown",
   "metadata": {},
   "source": [
    "### Use a loop to display all the items in the dictionary. Display also the index of each loop iteration (`enumerate` function)."
   ]
  },
  {
   "cell_type": "code",
   "execution_count": 65,
   "metadata": {},
   "outputs": [
    {
     "name": "stdout",
     "output_type": "stream",
     "text": [
      "0 brand\n",
      "1 model\n",
      "2 year\n",
      "0 brand Ford\n",
      "1 model Mustang\n",
      "2 year 1964\n"
     ]
    }
   ],
   "source": [
    "for ind, key in enumerate(car):\n",
    "    print(ind, key)\n",
    "    \n",
    "#we can use items() method with the enumerate() function and access to the key and its value:\n",
    "for ind, (key,value) in enumerate(car.items()):  \n",
    "    print(ind,key,value)"
   ]
  },
  {
   "cell_type": "markdown",
   "metadata": {},
   "source": [
    "### With the help of a dictionary comprehension, create a dictionary with the following keys and values :\n",
    "| key  | value |\n",
    "|---|---|\n",
    "| cle_1  | dictionary 'car' |\n",
    "| cle_2  | dictionary 'car' |\n",
    "| cle_3  | dictionary 'car'|\n",
    "\n",
    "#### Example of a dictionary comprehension (similar to list comprehension):\n",
    "```\n",
    "dict = {key:value for key, value in zip(list_1, list_2)}\n",
    "```"
   ]
  },
  {
   "cell_type": "code",
   "execution_count": 91,
   "metadata": {},
   "outputs": [
    {
     "name": "stdout",
     "output_type": "stream",
     "text": [
      "{'cle_1': 'Ford', 'cle_2': 'Mustang', 'cle3': '1964'}\n"
     ]
    }
   ],
   "source": [
    "list_key = [\"cle_1\", \"cle_2\", \"cle3\"]\n",
    "list_value = [\"Ford\", \"Mustang\", \"1964\"]\n",
    "dict = {key:value for key, value in zip(list_key, list_value)}\n",
    "print(dict)"
   ]
  },
  {
   "cell_type": "markdown",
   "metadata": {},
   "source": [
    "## d) Functions"
   ]
  },
  {
   "cell_type": "markdown",
   "metadata": {},
   "source": [
    "### Create a Fibonacci function called `fibonacci`  (Fibonacci sequence: 0 1 1 2 3 5 8 13 ...)\n",
    "\n",
    "It should return the list of all Fibonacci numbers leading up to the Fibonacci number that is bigger (or equal) than the number passed in as argument.\n",
    "Ex : `fibonacci(10) return [0,1,1,2,3,5,8,13]`\n",
    "Ex : `fibonacci(5) return [0,1,1,2,3,5]`"
   ]
  },
  {
   "cell_type": "code",
   "execution_count": 74,
   "metadata": {},
   "outputs": [
    {
     "name": "stdout",
     "output_type": "stream",
     "text": [
      "[0, 1, 1, 2, 3, 5]\n"
     ]
    }
   ],
   "source": [
    "def fibonacci(n):\n",
    "    sequence = [0,1]\n",
    "    for i in range(2,n+1):     \n",
    "        next_num = sequence[-1] + sequence[-2]\n",
    "        sequence.append(next_num)\n",
    "    return sequence\n",
    "\n",
    "sequence = fibonacci(5)\n",
    "print(sequence)"
   ]
  },
  {
   "cell_type": "markdown",
   "metadata": {},
   "source": [
    "### Execute your function. `fibonacci(100)` must be executed in less than 1 second."
   ]
  },
  {
   "cell_type": "code",
   "execution_count": 75,
   "metadata": {},
   "outputs": [
    {
     "name": "stdout",
     "output_type": "stream",
     "text": [
      "[0, 1, 1, 2, 3, 5, 8, 13, 21, 34, 55, 89, 144, 233, 377, 610, 987, 1597, 2584, 4181, 6765, 10946, 17711, 28657, 46368, 75025, 121393, 196418, 317811, 514229, 832040, 1346269, 2178309, 3524578, 5702887, 9227465, 14930352, 24157817, 39088169, 63245986, 102334155, 165580141, 267914296, 433494437, 701408733, 1134903170, 1836311903, 2971215073, 4807526976, 7778742049, 12586269025, 20365011074, 32951280099, 53316291173, 86267571272, 139583862445, 225851433717, 365435296162, 591286729879, 956722026041, 1548008755920, 2504730781961, 4052739537881, 6557470319842, 10610209857723, 17167680177565, 27777890035288, 44945570212853, 72723460248141, 117669030460994, 190392490709135, 308061521170129, 498454011879264, 806515533049393, 1304969544928657, 2111485077978050, 3416454622906707, 5527939700884757, 8944394323791464, 14472334024676221, 23416728348467685, 37889062373143906, 61305790721611591, 99194853094755497, 160500643816367088, 259695496911122585, 420196140727489673, 679891637638612258, 1100087778366101931, 1779979416004714189, 2880067194370816120, 4660046610375530309, 7540113804746346429, 12200160415121876738, 19740274219868223167, 31940434634990099905, 51680708854858323072, 83621143489848422977, 135301852344706746049, 218922995834555169026, 354224848179261915075]\n"
     ]
    }
   ],
   "source": [
    "def fibonacci(n):\n",
    "    sequence = [0,1]\n",
    "    for i in range(2,n+1):     \n",
    "        next_num = sequence[-1] + sequence[-2]\n",
    "        sequence.append(next_num)\n",
    "    return sequence\n",
    "\n",
    "sequence = fibonacci(100)\n",
    "print(sequence)"
   ]
  },
  {
   "cell_type": "markdown",
   "metadata": {},
   "source": [
    "### Create the same function using a generator\n",
    "Ex : `generate_fibonacci(10) `"
   ]
  },
  {
   "cell_type": "code",
   "execution_count": 77,
   "metadata": {},
   "outputs": [
    {
     "name": "stdout",
     "output_type": "stream",
     "text": [
      "[0, 1, 1, 2]\n"
     ]
    }
   ],
   "source": [
    "def fib(n):\n",
    "    a, b = 0, 1\n",
    "    for i in range(n):\n",
    "        yield a\n",
    "        a, b = b, a + b\n",
    "\n",
    "print(list(fib(a)))"
   ]
  },
  {
   "cell_type": "code",
   "execution_count": null,
   "metadata": {},
   "outputs": [],
   "source": []
  }
 ],
 "metadata": {
  "kernelspec": {
   "display_name": "Python 3 (ipykernel)",
   "language": "python",
   "name": "python3"
  },
  "language_info": {
   "codemirror_mode": {
    "name": "ipython",
    "version": 3
   },
   "file_extension": ".py",
   "mimetype": "text/x-python",
   "name": "python",
   "nbconvert_exporter": "python",
   "pygments_lexer": "ipython3",
   "version": "3.9.7"
  }
 },
 "nbformat": 4,
 "nbformat_minor": 2
}
