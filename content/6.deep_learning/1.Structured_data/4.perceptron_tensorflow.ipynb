{
 "cells": [
  {
   "cell_type": "markdown",
   "metadata": {},
   "source": [
    "# Applying the perceptron theory\n",
    "Although we're going to use the `tensorflow` library, we're going to mainly use the high level library [`keras`](https://keras.io/), that was previously standalone but got integrated into the newer version of tensorflow when it's author, [Francois Chollet](!https://twitter.com/fchollet), went to work for Google.\n",
    "\n",
    "We'll be coding the same neural network as we did in for `pytorch`. Make sure to review it before diving into this chapter, as I will not re-explain everything."
   ]
  },
  {
   "cell_type": "code",
   "execution_count": 1,
   "metadata": {},
   "outputs": [],
   "source": [
    "import pandas as pd\n",
    "import numpy as np\n",
    "import tensorflow as tf\n",
    "from tensorflow import keras\n",
    "from matplotlib import pyplot as plt\n",
    "%matplotlib inline"
   ]
  },
  {
   "cell_type": "markdown",
   "metadata": {},
   "source": [
    "Just like the previous chapter, load the same dataset using the same method. However, no need to convert them to tensors, as we are not using `pytorch` anymore."
   ]
  },
  {
   "cell_type": "code",
   "execution_count": 2,
   "metadata": {},
   "outputs": [
    {
     "name": "stdout",
     "output_type": "stream",
     "text": [
      "(150, 5)\n",
      "Iris-versicolor    50\n",
      "Iris-setosa        50\n",
      "Iris-virginica     50\n",
      "Name: species, dtype: int64\n"
     ]
    }
   ],
   "source": [
    "# TO COMPLETE:  Load dataset\n",
    "# Load dataset\n",
    "filename = \"./data/iris.csv\"\n",
    "df = pd.read_csv(filename)\n",
    "df = df.sample(frac=1).reset_index(drop=True) # Shuffle dataframe\n",
    "df.head()\n",
    "print(df.shape)\n",
    "print(df[\"species\"].value_counts())\n",
    "\n",
    "# Creating a test/train split\n",
    "train_test_split_fraction = 0.80\n",
    "split_index = int(df.shape[0] * train_test_split_fraction)\n",
    "df_train = df[:split_index]\n",
    "df_test = df[split_index:]\n",
    "\n",
    "target = pd.get_dummies(df['species']).values # One hot encode\n",
    "\n",
    "# Selecting the features and the target\n",
    "X_train = df_train.drop('species', axis = 1).values\n",
    "X_test = df_test.drop('species', axis = 1).values\n",
    "\n",
    "y_train = target[:split_index]\n",
    "y_test = target[split_index:]"
   ]
  },
  {
   "cell_type": "code",
   "execution_count": 3,
   "metadata": {},
   "outputs": [],
   "source": [
    "# Setting some constants\n",
    "nb_hidden_neurons = 10\n",
    "nb_classes = len(pd.unique(df['species']))\n",
    "nb_features= X_train.shape[1]\n",
    "batch_size = 1"
   ]
  },
  {
   "cell_type": "markdown",
   "metadata": {},
   "source": [
    "In `keras`, there are [three ways](https://www.pyimagesearch.com/2019/10/28/3-ways-to-create-a-keras-model-with-tensorflow-2-0-sequential-functional-and-model-subclassing/) to build a neural network. We are going to focus on the `Sequential` mode, so that you can see different ways of building one. In `pytorch`, we mostly did something similar to the model subclassing and functional approach of keras.\n",
    "\n",
    "Here below, we want you to construct the model architecture; the same one that was used in the previous chapter. You see a recap below.\n",
    "\n",
    "*Hint: a linear layer in keras is `keras.layers.Dense`*"
   ]
  },
  {
   "cell_type": "code",
   "execution_count": 4,
   "metadata": {},
   "outputs": [],
   "source": [
    "# TO COMPLETE: Construct the architecture\n",
    "from tensorflow.keras import Sequential\n",
    "from tensorflow.keras.layers import Dense\n",
    "\n",
    "\n",
    "model = Sequential()\n",
    "model.add(Dense(nb_hidden_neurons, activation='relu'))\n",
    "model.add(Dense(nb_hidden_neurons, activation='relu'))\n",
    "model.add(Dense(nb_classes, activation='softmax'))"
   ]
  },
  {
   "cell_type": "code",
   "execution_count": 5,
   "metadata": {},
   "outputs": [],
   "source": [
    "#TO COMPLETE: Build the model with `model.build()`. You might need to specify the `input_shape`.\n",
    "model.build(input_shape= (None,nb_features))"
   ]
  },
  {
   "cell_type": "code",
   "execution_count": 6,
   "metadata": {},
   "outputs": [
    {
     "name": "stdout",
     "output_type": "stream",
     "text": [
      "Model: \"sequential\"\n",
      "_________________________________________________________________\n",
      "Layer (type)                 Output Shape              Param #   \n",
      "=================================================================\n",
      "dense (Dense)                (None, 10)                50        \n",
      "_________________________________________________________________\n",
      "dense_1 (Dense)              (None, 10)                110       \n",
      "_________________________________________________________________\n",
      "dense_2 (Dense)              (None, 3)                 33        \n",
      "=================================================================\n",
      "Total params: 193\n",
      "Trainable params: 193\n",
      "Non-trainable params: 0\n",
      "_________________________________________________________________\n"
     ]
    }
   ],
   "source": [
    "model.summary()"
   ]
  },
  {
   "cell_type": "markdown",
   "metadata": {},
   "source": [
    "`model.summary()` should return the following if you've done everything right\n",
    "\n",
    "```\n",
    "Model: \"sequential_2\"\n",
    "_________________________________________________________________\n",
    "Layer (type)                 Output Shape              Param #   \n",
    "=================================================================\n",
    "dense_6 (Dense)              (None, 10)                50        \n",
    "_________________________________________________________________\n",
    "dense_7 (Dense)              (None, 10)                110       \n",
    "_________________________________________________________________\n",
    "dense_8 (Dense)              (None, 3)                 33        \n",
    "=================================================================\n",
    "Total params: 193\n",
    "Trainable params: 193\n",
    "Non-trainable params: 0\n",
    "_________________________________________________________________\n",
    "```"
   ]
  },
  {
   "cell_type": "code",
   "execution_count": 7,
   "metadata": {},
   "outputs": [],
   "source": [
    "# TO COMPLETE:\n",
    "# - set learning rate\n",
    "# - set loss\n",
    "# - set optimizer\n",
    "lr = 0.001\n",
    "mse_loss = keras.losses.MeanSquaredError()\n",
    "opt = keras.optimizers.Adam(learning_rate=lr)\n"
   ]
  },
  {
   "cell_type": "code",
   "execution_count": 8,
   "metadata": {},
   "outputs": [
    {
     "name": "stdout",
     "output_type": "stream",
     "text": [
      "(120, 4)\n"
     ]
    }
   ],
   "source": [
    "#Making sure the type is correct\n",
    "X_train = X_train.astype(\"float32\")\n",
    "y_train = y_train.astype(\"float32\")\n",
    "print(X_train.shape)"
   ]
  },
  {
   "cell_type": "code",
   "execution_count": 9,
   "metadata": {},
   "outputs": [
    {
     "name": "stdout",
     "output_type": "stream",
     "text": [
      "Epoch 1/10\n",
      "120/120 [==============================] - 0s 992us/step - loss: 0.1812 - accuracy: 0.6917\n",
      "Epoch 2/10\n",
      "120/120 [==============================] - 0s 1ms/step - loss: 0.1487 - accuracy: 0.6500\n",
      "Epoch 3/10\n",
      "120/120 [==============================] - 0s 1ms/step - loss: 0.1316 - accuracy: 0.6917\n",
      "Epoch 4/10\n",
      "120/120 [==============================] - 0s 1ms/step - loss: 0.1197 - accuracy: 0.7417\n",
      "Epoch 5/10\n",
      "120/120 [==============================] - 0s 1ms/step - loss: 0.1126 - accuracy: 0.7333\n",
      "Epoch 6/10\n",
      "120/120 [==============================] - 0s 1ms/step - loss: 0.1009 - accuracy: 0.8250\n",
      "Epoch 7/10\n",
      "120/120 [==============================] - 0s 1ms/step - loss: 0.0950 - accuracy: 0.8333\n",
      "Epoch 8/10\n",
      "120/120 [==============================] - 0s 1ms/step - loss: 0.0876 - accuracy: 0.8667\n",
      "Epoch 9/10\n",
      "120/120 [==============================] - 0s 2ms/step - loss: 0.0818 - accuracy: 0.8833\n",
      "Epoch 10/10\n",
      "120/120 [==============================] - 0s 1ms/step - loss: 0.0740 - accuracy: 0.8917\n"
     ]
    }
   ],
   "source": [
    "# TO COMPLETE:\n",
    "# - compile the model using `model.compile()` and the variables set before\n",
    "# - create a variable `history`\n",
    "# - fit the model and assign the result to `history`\n",
    "model.compile(optimizer=opt,\n",
    "          loss= mse_loss,\n",
    "          metrics=['accuracy'])\n",
    "history = model.fit(X_train,y_train, epochs=10, batch_size=1)"
   ]
  },
  {
   "cell_type": "code",
   "execution_count": 10,
   "metadata": {},
   "outputs": [
    {
     "data": {
      "image/png": "[encoded data removed]",
      "text/plain": [
       "<Figure size 720x288 with 2 Axes>"
      ]
     },
     "metadata": {
      "needs_background": "light"
     },
     "output_type": "display_data"
    }
   ],
   "source": [
    "loss = history.history['loss']\n",
    "accuracy = history.history['accuracy']\n",
    "\n",
    "fig, axs = plt.subplots(nrows=1,ncols=2,figsize=(10,4))\n",
    "axs[0].plot(range(len(loss)), loss)\n",
    "axs[0].set(xlabel=\"Epochs\", ylabel=\"Loss\", title=\"Training loss\")\n",
    "axs[1].plot(range(len(accuracy)), accuracy)\n",
    "axs[1].set(xlabel=\"Epochs\", ylabel=\"Accuracy\", title=\"Training accuracy\")\n",
    "plt.show()"
   ]
  },
  {
   "cell_type": "markdown",
   "metadata": {},
   "source": [
    "The loss shall decrease and the accuracy shall increase. You should get something similar to this.\n",
    "![Loss and accuracy ](./assets/tf_loss_and_accuracy.png)\n",
    "\n",
    "Moreover, testing on the testing set shall result in a (near) perfect score."
   ]
  },
  {
   "cell_type": "code",
   "execution_count": 11,
   "metadata": {},
   "outputs": [
    {
     "name": "stdout",
     "output_type": "stream",
     "text": [
      "1/1 - 0s - loss: 0.0682 - accuracy: 1.0000\n",
      "\n",
      "Accuracy on test set is 100.00%\n"
     ]
    }
   ],
   "source": [
    "# TO COMPLETE: Evaluate the model on the test set.\n",
    "results= model.evaluate(X_test,  y_test, verbose=2)\n",
    "print(f\"\\nAccuracy on test set is {results[1]*100:.2f}%\")"
   ]
  },
  {
   "cell_type": "markdown",
   "metadata": {},
   "source": [
    "*Voilà*, you've seen both approaches to create a neural network. Of course, there are still MANY things to learn about `pytorch` and `keras`, we've barely even scratched the surface. But now that you know the basics, you will be able to test them out on a new project!"
   ]
  }
 ],
 "metadata": {
  "kernelspec": {
   "display_name": "Python 3.7.13 ('tf')",
   "language": "python",
   "name": "python3"
  },
  "language_info": {
   "codemirror_mode": {
    "name": "ipython",
    "version": 3
   },
   "file_extension": ".py",
   "mimetype": "text/x-python",
   "name": "python",
   "nbconvert_exporter": "python",
   "pygments_lexer": "ipython3",
   "version": "3.7.13"
  },
  "vscode": {
   "interpreter": {
    "hash": "56e8a80556da08c0faeec593c3b6c626e8afc1ec1fe0580f9add8c75686ed1e6"
   }
  }
 },
 "nbformat": 4,
 "nbformat_minor": 4
}
