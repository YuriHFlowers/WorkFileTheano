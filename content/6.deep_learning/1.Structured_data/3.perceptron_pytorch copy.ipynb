{
 "cells": [
  {
   "cell_type": "markdown",
   "metadata": {},
   "source": [
    "# Applying the perceptron theory\n",
    "\n",
    "Now, we are diving into the heart of it! Programming our first neural network using `pytorch`.\n",
    "\n",
    "Note, run all the cells every time to prevent unwanted errors.\n"
   ]
  },
  {
   "cell_type": "code",
   "execution_count": 1,
   "metadata": {},
   "outputs": [],
   "source": [
    "import pandas as pd\n",
    "import numpy as np\n",
    "import torch\n",
    "from matplotlib import pyplot as plt\n",
    "%matplotlib inline"
   ]
  },
  {
   "cell_type": "code",
   "execution_count": 2,
   "metadata": {},
   "outputs": [
    {
     "name": "stdout",
     "output_type": "stream",
     "text": [
      "(150, 5)\n",
      "Iris-virginica     50\n",
      "Iris-versicolor    50\n",
      "Iris-setosa        50\n",
      "Name: species, dtype: int64\n"
     ]
    }
   ],
   "source": [
    "# Load dataset\n",
    "filename = \"./data/iris.csv\"\n",
    "df = pd.read_csv(filename)\n",
    "df = df.sample(frac=1).reset_index(drop=True) # Shuffle dataframe\n",
    "df.head()\n",
    "print(df.shape)\n",
    "print(df[\"species\"].value_counts())\n"
   ]
  },
  {
   "cell_type": "code",
   "execution_count": 3,
   "metadata": {},
   "outputs": [
    {
     "data": {
      "text/html": [
       "<div>\n",
       "<style scoped>\n",
       "    .dataframe tbody tr th:only-of-type {\n",
       "        vertical-align: middle;\n",
       "    }\n",
       "\n",
       "    .dataframe tbody tr th {\n",
       "        vertical-align: top;\n",
       "    }\n",
       "\n",
       "    .dataframe thead th {\n",
       "        text-align: right;\n",
       "    }\n",
       "</style>\n",
       "<table border=\"1\" class=\"dataframe\">\n",
       "  <thead>\n",
       "    <tr style=\"text-align: right;\">\n",
       "      <th></th>\n",
       "      <th>sepal_length</th>\n",
       "      <th>sepal_width</th>\n",
       "      <th>petal_length</th>\n",
       "      <th>petal_width</th>\n",
       "      <th>species</th>\n",
       "    </tr>\n",
       "  </thead>\n",
       "  <tbody>\n",
       "    <tr>\n",
       "      <th>0</th>\n",
       "      <td>6.4</td>\n",
       "      <td>3.1</td>\n",
       "      <td>5.5</td>\n",
       "      <td>1.8</td>\n",
       "      <td>Iris-virginica</td>\n",
       "    </tr>\n",
       "    <tr>\n",
       "      <th>1</th>\n",
       "      <td>6.3</td>\n",
       "      <td>2.7</td>\n",
       "      <td>4.9</td>\n",
       "      <td>1.8</td>\n",
       "      <td>Iris-virginica</td>\n",
       "    </tr>\n",
       "    <tr>\n",
       "      <th>2</th>\n",
       "      <td>7.7</td>\n",
       "      <td>2.8</td>\n",
       "      <td>6.7</td>\n",
       "      <td>2.0</td>\n",
       "      <td>Iris-virginica</td>\n",
       "    </tr>\n",
       "    <tr>\n",
       "      <th>3</th>\n",
       "      <td>6.4</td>\n",
       "      <td>3.2</td>\n",
       "      <td>4.5</td>\n",
       "      <td>1.5</td>\n",
       "      <td>Iris-versicolor</td>\n",
       "    </tr>\n",
       "    <tr>\n",
       "      <th>4</th>\n",
       "      <td>5.2</td>\n",
       "      <td>4.1</td>\n",
       "      <td>1.5</td>\n",
       "      <td>0.1</td>\n",
       "      <td>Iris-setosa</td>\n",
       "    </tr>\n",
       "  </tbody>\n",
       "</table>\n",
       "</div>"
      ],
      "text/plain": [
       "   sepal_length  sepal_width  petal_length  petal_width          species\n",
       "0           6.4          3.1           5.5          1.8   Iris-virginica\n",
       "1           6.3          2.7           4.9          1.8   Iris-virginica\n",
       "2           7.7          2.8           6.7          2.0   Iris-virginica\n",
       "3           6.4          3.2           4.5          1.5  Iris-versicolor\n",
       "4           5.2          4.1           1.5          0.1      Iris-setosa"
      ]
     },
     "execution_count": 3,
     "metadata": {},
     "output_type": "execute_result"
    }
   ],
   "source": [
    "df.head()"
   ]
  },
  {
   "cell_type": "code",
   "execution_count": 4,
   "metadata": {},
   "outputs": [
    {
     "data": {
      "text/plain": [
       "array([[0, 0, 1],\n",
       "       [0, 0, 1],\n",
       "       [0, 0, 1],\n",
       "       [0, 1, 0],\n",
       "       [1, 0, 0]], dtype=uint8)"
      ]
     },
     "execution_count": 4,
     "metadata": {},
     "output_type": "execute_result"
    }
   ],
   "source": [
    "# Creating a test/train split\n",
    "train_test_split_fraction = 0.80\n",
    "split_index = int(df.shape[0] * train_test_split_fraction)\n",
    "df_train = df[:split_index]\n",
    "df_test = df[split_index:]\n",
    "\n",
    "target = pd.get_dummies(df['species']).values # One hot encode\n",
    "target[:5]"
   ]
  },
  {
   "cell_type": "code",
   "execution_count": 5,
   "metadata": {},
   "outputs": [
    {
     "name": "stdout",
     "output_type": "stream",
     "text": [
      "X train shape: (120, 4)\n",
      "X test shape: (30, 4)\n",
      "y train shape: (120, 3)\n",
      "y test shape: (30, 3)\n"
     ]
    }
   ],
   "source": [
    "# Selecting the features and the target\n",
    "X_train = df_train.drop('species', axis = 1).values\n",
    "X_test = df_test.drop('species', axis = 1).values\n",
    "\n",
    "y_train = target[:split_index]\n",
    "y_test = target[split_index:]\n",
    "print(\"X train shape:\", X_train.shape)\n",
    "print(\"X test shape:\", X_test.shape)\n",
    "print(\"y train shape:\", y_train.shape)\n",
    "print(\"y test shape:\", y_test.shape)"
   ]
  },
  {
   "cell_type": "markdown",
   "metadata": {},
   "source": [
    "Transform `X_train`, `y_train` and their test counterparts into pytorch tensors using `torch.tensor()`. Make sure to convert them to float32 with numpy."
   ]
  },
  {
   "cell_type": "code",
   "execution_count": 6,
   "metadata": {},
   "outputs": [],
   "source": [
    "X_train = torch.tensor(X_train, dtype=torch.float32)\n",
    "y_train = torch.tensor(y_train, dtype=torch.float32)\n",
    "X_test = torch.tensor(X_test, dtype=torch.float32)\n",
    "y_test = torch.tensor(y_test, dtype=torch.float32)"
   ]
  },
  {
   "cell_type": "code",
   "execution_count": 7,
   "metadata": {},
   "outputs": [],
   "source": [
    "X_train = torch.tensor(X_train, dtype=torch.float32)        # TO COMPLETE\n",
    "y_train = torch.tensor(y_train, dtype=torch.float32)        # TO COMPLETE\n",
    "X_test = torch.tensor(X_test, dtype=torch.float32)          # TO COMPLETE\n",
    "y_test = torch.tensor(y_test, dtype=torch.float32)          # TO COMPLETE"
   ]
  },
  {
   "cell_type": "code",
   "execution_count": 7,
   "metadata": {},
   "outputs": [
    {
     "data": {
      "text/plain": [
       "torch.float32"
      ]
     },
     "execution_count": 7,
     "metadata": {},
     "output_type": "execute_result"
    }
   ],
   "source": [
    "X_train[:5].dtype"
   ]
  },
  {
   "cell_type": "code",
   "execution_count": 8,
   "metadata": {},
   "outputs": [
    {
     "data": {
      "text/plain": [
       "torch.float32"
      ]
     },
     "execution_count": 8,
     "metadata": {},
     "output_type": "execute_result"
    }
   ],
   "source": [
    "y_train[:5].dtype"
   ]
  },
  {
   "cell_type": "code",
   "execution_count": 10,
   "metadata": {},
   "outputs": [
    {
     "data": {
      "text/plain": [
       "tensor([[6.3000, 3.3000, 4.7000, 1.6000],\n",
       "        [5.7000, 2.8000, 4.1000, 1.3000],\n",
       "        [5.6000, 3.0000, 4.5000, 1.5000],\n",
       "        [5.5000, 2.4000, 3.7000, 1.0000],\n",
       "        [6.7000, 3.3000, 5.7000, 2.5000]])"
      ]
     },
     "execution_count": 10,
     "metadata": {},
     "output_type": "execute_result"
    }
   ],
   "source": [
    "X_train[:5]"
   ]
  },
  {
   "cell_type": "code",
   "execution_count": 11,
   "metadata": {},
   "outputs": [
    {
     "data": {
      "text/plain": [
       "tensor([[7.7000, 3.8000, 6.7000, 2.2000],\n",
       "        [4.6000, 3.4000, 1.4000, 0.3000],\n",
       "        [4.4000, 2.9000, 1.4000, 0.2000],\n",
       "        [7.3000, 2.9000, 6.3000, 1.8000],\n",
       "        [6.4000, 3.2000, 4.5000, 1.5000]])"
      ]
     },
     "execution_count": 11,
     "metadata": {},
     "output_type": "execute_result"
    }
   ],
   "source": [
    "X_test[:5]"
   ]
  },
  {
   "cell_type": "markdown",
   "metadata": {},
   "source": [
    "Now that we have selected our train and test sets, we have to create the neural network architecture."
   ]
  },
  {
   "cell_type": "code",
   "execution_count": 12,
   "metadata": {},
   "outputs": [
    {
     "data": {
      "text/plain": [
       "3"
      ]
     },
     "execution_count": 12,
     "metadata": {},
     "output_type": "execute_result"
    }
   ],
   "source": [
    "nb_hidden_neurons = 10\n",
    "nb_classes = len(pd.unique(df['species']))\n",
    "nb_classes"
   ]
  },
  {
   "cell_type": "markdown",
   "metadata": {},
   "source": [
    "The `nn.Linear()` method defines a layer of neurons in the neural network.\n",
    "We want the network to have 10 neurons in the middle layers and 3 in the last layer (one for every class).\n",
    "\n",
    "Notice how we define the layers in `__init__()`, and we connect them in `forward()` .\n",
    "\n",
    "In the code below in the `__init__()` function,  complete the code for `self.layer_1`, `self.layer_2` , and `self.layer_3` using the `nn.Linear()` class to add the desired layers. *Hint: Make use of `nb_features` and `nb_hidden_neurons`. You can also refer to the architecture of the network shown in the image a few cells below*.\n",
    "\n",
    "In the `forward()` function, which is going to handle the forward pass of the neural network learning process, we will use the ReLU activation function for the first layers and for the last layer, we are going to use the Softmax activation function.\n",
    "We want you to assign the ReLU activation function to the variable `activation_function`. More information [here](https://pytorch.org/docs/stable/nn.html).\n",
    "Lastly, we want you to write the code to combine the layers to the input `x` and the output. *Hint: You can refer yourself to how the last layer code is written*.\n"
   ]
  },
  {
   "cell_type": "code",
   "execution_count": 11,
   "metadata": {},
   "outputs": [],
   "source": [
    "import torch.nn as nn\n",
    "\n",
    "#Creating the Network Model \n",
    "class Network(nn.Module):\n",
    "\n",
    "    def __init__(self, nb_features=4):\n",
    "        \"\"\"Here we define the layers\n",
    "        \"\"\"  #\n",
    "\n",
    "        super().__init__()\n",
    "        \n",
    "        self.layer_1 =  nn.Linear(nb_features, out_features= 10)           #TO COMPLETE\n",
    "        self.layer_2 =  nn.Linear(in_features= 10, out_features= 10)       #TO COMPLETE\n",
    "        self.layer_3 =  nn.Linear(in_features= 10,  out_features= 3)       #TO COMPLETE\n",
    "\n",
    "    def forward(self,x):\n",
    "        \"\"\"Here we combine the layers\n",
    "        \"\"\"\n",
    "        activation_function =  nn.ReLU()                   #TO COMPLETE \n",
    "        last_layer_activation = nn.Softmax(dim=1)\n",
    "        \n",
    "        output_first_layer = activation_function(self.layer_1(x))  #TO COMPLETE \n",
    "        output_second_layer = activation_function(self.layer_2(output_first_layer))  #TO COMPLETE\n",
    "        prediction = last_layer_activation(self.layer_3(output_second_layer))\n",
    "        return prediction"
   ]
  },
  {
   "cell_type": "code",
   "execution_count": 12,
   "metadata": {},
   "outputs": [
    {
     "data": {
      "text/plain": [
       "4"
      ]
     },
     "execution_count": 12,
     "metadata": {},
     "output_type": "execute_result"
    }
   ],
   "source": [
    "# for check\n",
    "X_train.shape[1]"
   ]
  },
  {
   "cell_type": "markdown",
   "metadata": {},
   "source": []
  },
  {
   "cell_type": "code",
   "execution_count": 13,
   "metadata": {},
   "outputs": [
    {
     "data": {
      "text/plain": [
       "Network(\n",
       "  (layer_1): Linear(in_features=4, out_features=10, bias=True)\n",
       "  (layer_2): Linear(in_features=10, out_features=10, bias=True)\n",
       "  (layer_3): Linear(in_features=10, out_features=3, bias=True)\n",
       ")"
      ]
     },
     "execution_count": 13,
     "metadata": {},
     "output_type": "execute_result"
    }
   ],
   "source": [
    "my_nn = Network(nb_features=X_train.shape[1])\n",
    "my_nn"
   ]
  },
  {
   "cell_type": "markdown",
   "metadata": {},
   "source": [
    "If you did everything right, this should be the output of the previous call\n",
    "\n",
    "```\n",
    "Network(\n",
    "  (layer_1): Linear(in_features=4, out_features=10, bias=True)\n",
    "  (layer_2): Linear(in_features=10, out_features=10, bias=True)\n",
    "  (layer_3): Linear(in_features=10, out_features=3, bias=True)\n",
    ")\n",
    "```"
   ]
  },
  {
   "cell_type": "markdown",
   "metadata": {},
   "source": [
    "Now, we have done the architecture of the model. Right now, it does nothing. We have to make it learn.\n",
    "\n",
    "First, we'll need to define the `criterion` by which the cost if calculated.\n",
    "There are many possible losses to choose from (see #Additional reading material), but here we're going to choose the `MSELoss`.\n",
    "The piece of code that is going to compute the gradient and change the weights is called an `optimizer`.\n",
    "Again, there are many to choose from (see #Additional reading material), but here we are going to use the `Adam` optimizer with a `learning_rate` of `0.001`."
   ]
  },
  {
   "cell_type": "code",
   "execution_count": 17,
   "metadata": {},
   "outputs": [],
   "source": [
    "#  I inserted this part of code\n",
    "#output_dim = 3 because we have namely 3 categories setosa,versicolor and virginica\n",
    "#nb_features  = 4 \n",
    "#output_features = 3\n",
    "#model = Network(4,3)"
   ]
  },
  {
   "cell_type": "code",
   "execution_count": 14,
   "metadata": {},
   "outputs": [],
   "source": [
    "import torch.optim as optim\n",
    "\n",
    "# Select your criterion, your learning rate and your optimizer.\n",
    "criterion = nn.MSELoss()            #TO COMPLETE \n",
    "learning_rate = 0.001               #TO COMPLETE                    \n",
    "optimizer = optim.Adam(my_nn.parameters(),lr=learning_rate)     #TO COMPLETE "
   ]
  },
  {
   "cell_type": "markdown",
   "metadata": {},
   "source": []
  },
  {
   "cell_type": "code",
   "execution_count": 19,
   "metadata": {},
   "outputs": [],
   "source": [
    "#\n",
    "## I introduced this code:\n",
    "#model.eval()\n",
    "#y_pred = model(X_test)\n",
    "#before_train = criterion(y_pred.squeeze(), y_test)\n",
    "#print('Test loss before training' , before_train.item())\n"
   ]
  },
  {
   "cell_type": "markdown",
   "metadata": {},
   "source": [
    "Now, we can start training the neural network. Below, the `training()` function handles all the necessary stuff for an efficient training process.\n",
    "The loops, the input and output getting, and the loss plotting are already taken care of.\n",
    "You just have to do the most important part of the training process, which is listed as a comment.\n",
    "\n",
    "You can run the function with the next cell, which will also plot a graph of the loss over the whole training."
   ]
  },
  {
   "cell_type": "code",
   "execution_count": 15,
   "metadata": {},
   "outputs": [],
   "source": [
    "def training(batch_size : int, nb_steps_loss_sum : int):\n",
    "    \"\"\" Train the neural network, feeding it `batch_size` at a time\n",
    "    and saving statistics every `nb_steps_loss_sum` steps.\n",
    "    \n",
    "    Arguments:\n",
    "    \n",
    "    - batch_size [int] : the number of input samples at each training step (called a batch)\n",
    "    - nb_steps_loss_sum [int] : the number of batches before saving the loss for plotting\n",
    "    \n",
    "    Returns:\n",
    "    - loss_list : [List[double]] : value of the loss every `nb_steps_loss_sum` steps\n",
    "    \"\"\"\n",
    "\n",
    "    loss_list = []\n",
    "    running_loss = 0\n",
    "    batch_nb = 0\n",
    "\n",
    "    for epoch in range(0,10): # Number of times to iterate through the complete dataset\n",
    "        for idx in range(0, X_train.shape[0], batch_size):\n",
    "            \n",
    "            # Get input and output\n",
    "            input_batch = X_train[idx:idx + batch_size]\n",
    "            target = y_train[idx:idx + batch_size]\n",
    "            \n",
    "            # TO COMPLETE:\n",
    "            # - zero gradient buffers\n",
    "            optimizer.zero_grad()  \n",
    "\n",
    "            # - compute the forward pass #\n",
    "            #y_pred = model(X_train)\n",
    "            outputs = my_nn(input_batch)\n",
    "\n",
    "            \n",
    "            # - compute the loss\n",
    "            #loss = criterion(y_pred, target)\n",
    "            loss = criterion(outputs, target)\n",
    "\n",
    "            #print('Epoch {}: train loss: {}'.format(epoch, loss.item()))\n",
    "            \n",
    "\n",
    "            # - backpropagate  ##backward propagation: calculate gradients\n",
    "            loss.backward()\n",
    "\n",
    "            # - do a step\n",
    "            optimizer.step()\n",
    "          \n",
    "            \n",
    "            # Save the loss every `running_loss_steps` batches\n",
    "            running_loss += loss.item()\n",
    "            save_loss_condition = batch_nb % nb_steps_loss_sum == (nb_steps_loss_sum - 1)\n",
    "            if save_loss_condition:    \n",
    "                loss_list.append(running_loss)\n",
    "                running_loss = 0.0\n",
    "\n",
    "\n",
    "            batch_nb+= 1\n",
    "        \n",
    "    return loss_list\n"
   ]
  },
  {
   "cell_type": "code",
   "execution_count": 16,
   "metadata": {},
   "outputs": [
    {
     "data": {
      "image/png": "[encoded data removed]",
      "text/plain": [
       "<Figure size 432x288 with 1 Axes>"
      ]
     },
     "metadata": {
      "needs_background": "light"
     },
     "output_type": "display_data"
    }
   ],
   "source": [
    "nb_steps_loss_sum = 10\n",
    "loss = training(batch_size = 1, nb_steps_loss_sum = 10 )  #nb_steps_loss_sum\n",
    "\n",
    "# Plotting the loss over training\n",
    "plt.figure()\n",
    "plt.plot(range(0, len(loss)), loss)\n",
    "plt.xlabel(f\"Batches/{nb_steps_loss_sum}\")\n",
    "plt.ylabel(\"Loss\")\n",
    "plt.title(\"Training loss\")\n",
    "plt.show()\n",
    "plt.close()"
   ]
  },
  {
   "cell_type": "markdown",
   "metadata": {},
   "source": [
    "If everything went to plan, you should have a decreasing loss over time. Something similar to this:\n",
    "    \n",
    "![Training Loss](./assets/loss.png)"
   ]
  },
  {
   "cell_type": "markdown",
   "metadata": {},
   "source": [
    "The function below will compute the accuracy of the neural network. You have to complete the steps outlined."
   ]
  },
  {
   "cell_type": "code",
   "execution_count": 17,
   "metadata": {},
   "outputs": [],
   "source": [
    "def computeScore(X, y):\n",
    "    correct = 0\n",
    "    total = 0\n",
    "    batch_size = 1\n",
    "    my_nn.eval()\n",
    "    with torch.no_grad():\n",
    "        for idx in range(0, X.shape[0], batch_size):\n",
    "            # TO COMPLETE:\n",
    "                        # Get input and output\n",
    "\n",
    "            # - get the `batch_size` number of input samples\n",
    "            input_batch = X_train[idx:idx + batch_size]\n",
    "            target = y_train[idx:idx + batch_size]\n",
    "\n",
    "            # - compute the prediction of the neural network\n",
    "            outputs = my_nn(input_batch)\n",
    "            \n",
    "            # - get the max of the prediction (e.g. get the most likely class)\n",
    "            # This can be done using `torch.max`.\n",
    "            # We can compare the position of the maximum in out target and predicted class\n",
    "            # If they are the same, out prediction is correct.\n",
    "            _, predicted_idx = torch.max(outputs,1)  # this will give us the index where the max element is\n",
    "            _, target_idx = torch.max(target,1)  \n",
    "\n",
    "            # - get the max of the target (e.g. correct class)\n",
    "\n",
    "\n",
    "            # - check if the prediction is correct and count it\n",
    "            # - count every sample\n",
    "            if predicted_idx == target_idx:\n",
    "               correct += 1\n",
    "            total += 1\n",
    "            \n",
    "    accuracy = correct/total * 100\n",
    "    print(f\"Accuracy of the network on the {total} samples: {accuracy:.2f}%\")"
   ]
  },
  {
   "cell_type": "code",
   "execution_count": 18,
   "metadata": {},
   "outputs": [
    {
     "name": "stdout",
     "output_type": "stream",
     "text": [
      "Accuracy of the network on the 120 samples: 98.33%\n",
      "Accuracy of the network on the 30 samples: 100.00%\n"
     ]
    }
   ],
   "source": [
    "computeScore(X_train, y_train)\n",
    "computeScore(X_test, y_test)"
   ]
  },
  {
   "cell_type": "markdown",
   "metadata": {},
   "source": [
    "If you compute the score, and have done everything correctly (and you are lucky), you should have an accuracy of 90% and above.\n",
    "```\n",
    "Accuracy of the network on the 120 samples: 96.67%\n",
    "Accuracy of the network on the 30 samples: 96.67%\n",
    "```\n",
    "\n",
    "However, you might notice, if you repeat the runs, you might get totally different scores, even if all else stays the same.\n",
    "\n",
    "**Why does that happen ? Can you explain ?** *Hint: It might have something to do with degrees of freedom*"
   ]
  },
  {
   "cell_type": "markdown",
   "metadata": {},
   "source": [
    "> Explain here"
   ]
  },
  {
   "cell_type": "markdown",
   "metadata": {},
   "source": [
    "## Additional reading material\n",
    "[How to build a simple neural network in pytorch](https://pytorch.org/tutorials/beginner/blitz/neural_networks_tutorial.html)\n",
    "\n",
    "[Introduction to optimizers](https://algorithmia.com/blog/introduction-to-optimizers)\n",
    "\n",
    "[What loss function to choose](https://machinelearningmastery.com/how-to-choose-loss-functions-when-training-deep-learning-neural-networks/)\n",
    "\n",
    "[Visualizing optimizers (Interactive)](https://emiliendupont.github.io/2018/01/24/optimization-visualization/)\n",
    "\n",
    "[What are degrees of freedom?](https://machinelearningmastery.com/degrees-of-freedom-in-machine-learning/)"
   ]
  },
  {
   "cell_type": "code",
   "execution_count": null,
   "metadata": {},
   "outputs": [],
   "source": []
  },
  {
   "cell_type": "code",
   "execution_count": null,
   "metadata": {},
   "outputs": [],
   "source": []
  },
  {
   "cell_type": "code",
   "execution_count": null,
   "metadata": {},
   "outputs": [],
   "source": []
  },
  {
   "cell_type": "code",
   "execution_count": null,
   "metadata": {},
   "outputs": [],
   "source": [
    "'''\n",
    "X_train = torch.tensor(X_train)  #TO COMPLETE \n",
    "X_test = torch.tensor(X_test)      #TO COMPLETE \n",
    "y_train = torch.tensor(y_train)     #TO COMPLETE \n",
    "y_test = torch.tensor(y_test)       #TO COMPLETE \n",
    "'''"
   ]
  },
  {
   "cell_type": "code",
   "execution_count": null,
   "metadata": {},
   "outputs": [],
   "source": []
  },
  {
   "cell_type": "code",
   "execution_count": null,
   "metadata": {},
   "outputs": [],
   "source": []
  },
  {
   "cell_type": "code",
   "execution_count": null,
   "metadata": {},
   "outputs": [],
   "source": []
  },
  {
   "cell_type": "code",
   "execution_count": null,
   "metadata": {},
   "outputs": [],
   "source": [
    "'''\n",
    "## I introduce this code:\n",
    "model.eval()\n",
    "y_pred = model(X_test)\n",
    "before_train = criterion(y_pred.squeeze(), y_test)\n",
    "print('Test loss before training' , before_train.item())\n",
    "'''"
   ]
  }
 ],
 "metadata": {
  "kernelspec": {
   "display_name": "Python 3.7.13 ('pytorch')",
   "language": "python",
   "name": "python3"
  },
  "language_info": {
   "codemirror_mode": {
    "name": "ipython",
    "version": 3
   },
   "file_extension": ".py",
   "mimetype": "text/x-python",
   "name": "python",
   "nbconvert_exporter": "python",
   "pygments_lexer": "ipython3",
   "version": "3.7.13"
  },
  "vscode": {
   "interpreter": {
    "hash": "cd017e3e2e3c7a6eaf831565dddaa8b1ca329b1d7b31bc84d53ed2d295526c43"
   }
  }
 },
 "nbformat": 4,
 "nbformat_minor": 4
}
