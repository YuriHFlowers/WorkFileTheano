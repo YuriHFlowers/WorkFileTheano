{
 "cells": [
  {
   "cell_type": "markdown",
   "metadata": {},
   "source": [
    "# Installing tensorflow and pytorch\n",
    "\n",
    "In the deep learning community, two libraries oppose each other when it comes to building neural networks.\n",
    "\n",
    "On one side, we have Google's [Tensorflow](https://www.tensorflow.org/).  \n",
    "On the other, we have Facebook's [PyTorch](https://pytorch.org/).\n",
    "\n",
    "In the following notebooks, you will use both.\n",
    "Both are a pain to install, that is why I have setup this introductory sequence to walk you through installation.\n",
    "\n",
    "\n",
    "We are going to use the `conda` package management system, **so if you have either Anaconda or Miniconda already installed, you can skip that step.**\n",
    "\n",
    "> **NOTE:** This tutorial is optional. If you don't want to follow it, you can install Tensorflow or Pytorch, as well as the needed packages however you see fit."
   ]
  },
  {
   "cell_type": "markdown",
   "metadata": {},
   "source": [
    "## Installing `tensorflow` \n",
    "\n",
    "This section will show how to install tensorflow using a conda environment.\n",
    "\n",
    "\n",
    "\n",
    "I have made it very easy for you. Indeed, I have setup a `tf_requirements.txt` file where all the needed packages are installed, with their correct versions so that there are no conflicts.\n",
    "\n",
    "Here are the steps **(first 2 can be skipped if you have it already installed)**:\n",
    "\n",
    "1. Download the [`miniconda`](https://docs.conda.io/en/latest/miniconda.html) installer (preferably Python 3.7, but any Python 3 version works). Make sure that if you are on MacOS, you use the **bash installer**, not the **pkg one**.\n",
    "2. Follow the instructions in this  [miniconda tutorial](https://docs.conda.io/projects/conda/en/latest/user-guide/install/linux.html). You may need to make the downloaded bash script [**executable**](https://askubuntu.com/questions/229589/how-to-make-a-file-e-g-a-sh-script-executable-so-it-can-be-run-from-a-termi).\n",
    "\n",
    "\n",
    "3. Once you have conda installed, run the following command in the terminal to install all the packages. \n",
    "\n",
    "\n",
    "> ⚠️ **WARNING**: This tutorial is mainly for **Linux** and **MacOS**. The installation process on **Windows** may or may not be the same.\n",
    "\n",
    "```\n",
    "conda create -n tf python=3.7 numpy pandas tensorflow=2.3 notebook ipykernel --no-channel-priority\n",
    "```\n",
    "\n",
    "This will create a conda environment called `tf`.\n",
    "This will contain `python` (version 3.7), `pandas`, `numpy`, `tensorflow` (version 2.3.x, CPU only), `jupyter`, and `ipykernel` as main packages (and all their dependencies).\n",
    "\n",
    "\n",
    "4. Activate the environment using \n",
    "\n",
    "```conda activate tf```\n",
    "\n",
    "5. To be able to choose the conda environment we just created as a jupyter notebook kernel, we will use the command \n",
    "\n",
    "```python -m ipykernel install --user --name=tf```\n",
    "\n",
    "With all of this, you should be able to open this notebook, select the `tf` kernel and run the cell just below, to check that `tensorflow` was installed correctly.\n"
   ]
  },
  {
   "cell_type": "code",
   "execution_count": 7,
   "metadata": {},
   "outputs": [
    {
     "data": {
      "text/plain": [
       "'2.3.0'"
      ]
     },
     "execution_count": 7,
     "metadata": {},
     "output_type": "execute_result"
    }
   ],
   "source": [
    "import tensorflow as tf\n",
    "tf.__version__"
   ]
  },
  {
   "cell_type": "code",
   "execution_count": null,
   "metadata": {},
   "outputs": [
    {
     "data": {
      "text/plain": [
       "'2.3.0'"
      ]
     },
     "execution_count": 6,
     "metadata": {},
     "output_type": "execute_result"
    }
   ],
   "source": [
    "import tensorflow as tf\n",
    "tf.__version__"
   ]
  },
  {
   "cell_type": "code",
   "execution_count": 1,
   "metadata": {},
   "outputs": [],
   "source": [
    "#import keras\n",
    "#keras.__version__"
   ]
  },
  {
   "cell_type": "markdown",
   "metadata": {},
   "source": [
    "It should print the version of the current tensorflow installation: `'2.3.x'`, `x` being any version."
   ]
  },
  {
   "cell_type": "markdown",
   "metadata": {},
   "source": [
    "### How to select the kernel in a Jupyter Notebook?\n",
    "Really simple, see below.\n",
    "\n",
    "![Select Kernel (Image)](./assets/select_kernel.png)"
   ]
  },
  {
   "cell_type": "markdown",
   "metadata": {},
   "source": [
    "## Installing `pytorch` \n",
    "\n",
    "This section will show how to install pytorch using a conda environment.\n",
    "\n",
    "Here are the steps (ignore the ones that you already did in the `tensorflow` installation):\n",
    "\n",
    "Here are the steps **(first 2 can be skipped if you have it already installed)**:\n",
    "\n",
    "1. Download the [`miniconda`](https://docs.conda.io/en/latest/miniconda.html) installer (preferably Python 3.7, but any Python 3 version works). Make sure that if you are on MacOS, you use the **bash installer**, not the **pkg one**.\n",
    "2. Follow the instructions in this  [miniconda tutorial](https://docs.conda.io/projects/conda/en/latest/user-guide/install/linux.html). You may need to make the downloaded bash script [**executable**](https://askubuntu.com/questions/229589/how-to-make-a-file-e-g-a-sh-script-executable-so-it-can-be-run-from-a-termi).\n",
    "\n",
    "3. In the terminal, run the following command to install all the packages. \n",
    "\n",
    "> ⚠️ **WARNING**: This tutorial is mainly for **Linux** and **MacOS**. The installation process on **Windows** may or may not be the same.\n",
    "\n",
    "```conda create -n pytorch python=3.7 pandas numpy notebook ipykernel pytorch=1.7 torchvision torchaudio cudatoolkit=11.0 -c pytorch```\n",
    "    \n",
    "This will create a conda environment called `pytorch`.\n",
    "This will contain `python` (version 3.7), `pandas`, `numpy`, `pytorch` (version 1.7), `jupyter`, and `ipykernel` as main packages (and all their dependencies). It will also install `torchvision` and `torchaudio`, but we will not use them in the structured data chapter.\n",
    "From the official documentation of [torchvision](https://pytorch.org/docs/stable/torchvision/index.html) and [torchaudio](https://pytorch.org/audio/stable/index.html), we have that\n",
    "\n",
    "* *The `torchvision` package consists of popular datasets, model architectures, and common image transformations for computer vision.*\n",
    "* *The `torchaudio` package consists of I/O, popular datasets and common audio transformations.*\n",
    "\n",
    "4. Activate the environment using \n",
    "\n",
    "```conda activate pytorch```\n",
    "\n",
    "5. To be able to choose the conda environment we just created as a jupyter notebook kernel, we will use the command \n",
    "\n",
    "```python -m ipykernel install --user --name=pytorch```\n",
    "\n",
    "With all of this, you should be able to open this notebook, select the `pytorch` kernel and run the cell just below, to check that `pytorch` was installed correctly. (See above on how to select a kernel)"
   ]
  },
  {
   "cell_type": "code",
   "execution_count": 1,
   "metadata": {},
   "outputs": [
    {
     "data": {
      "text/plain": [
       "'1.7.1'"
      ]
     },
     "execution_count": 1,
     "metadata": {},
     "output_type": "execute_result"
    }
   ],
   "source": [
    "import torch\n",
    "torch.__version__"
   ]
  },
  {
   "cell_type": "markdown",
   "metadata": {},
   "source": [
    "It should print the version of the current pytorch installation: `'1.7.x'`, `x` being any version"
   ]
  },
  {
   "cell_type": "markdown",
   "metadata": {},
   "source": [
    "For the lucky ones of you who might have a GPU inside their laptop, `CUDA 11.0` is also installed for you, which lets you run `pytorch` with your GPU to accelerate training (if you have a `CUDA 11.0` compatible GPU).\n",
    "All the code will be run using CPU only code, but for the ones that want a performance increase, you can always tweak the code to have it working faster.\n",
    "\n",
    "Two cases:\n",
    "1. *I have a GPU*\n",
    "\n",
    "    The following two lines are just to check if CUDA is available. This is not a guarantee that it will work on your machine.\n",
    "    \n",
    "\n",
    "2. *I don't have a GPU*\n",
    "\n",
    "    Don't worry, all the notebooks will run with CPU only code. Ignore the following two lines."
   ]
  },
  {
   "cell_type": "code",
   "execution_count": 2,
   "metadata": {},
   "outputs": [
    {
     "data": {
      "text/plain": [
       "True"
      ]
     },
     "execution_count": 2,
     "metadata": {},
     "output_type": "execute_result"
    }
   ],
   "source": [
    "torch.cuda.is_available()"
   ]
  },
  {
   "cell_type": "code",
   "execution_count": 4,
   "metadata": {},
   "outputs": [
    {
     "data": {
      "text/plain": [
       "'11.0'"
      ]
     },
     "execution_count": 4,
     "metadata": {},
     "output_type": "execute_result"
    }
   ],
   "source": [
    "torch.version.cuda"
   ]
  },
  {
   "cell_type": "markdown",
   "metadata": {},
   "source": [
    "## Changing the kernel\n",
    "\n",
    "Now that you have installed both libraries, and setup both kernels using `ipykernel`, you can just switch between kernels when executing a cell."
   ]
  }
 ],
 "metadata": {
  "kernelspec": {
   "display_name": "Python 3.7.13 ('mytf')",
   "language": "python",
   "name": "python3"
  },
  "language_info": {
   "codemirror_mode": {
    "name": "ipython",
    "version": 3
   },
   "file_extension": ".py",
   "mimetype": "text/x-python",
   "name": "python",
   "nbconvert_exporter": "python",
   "pygments_lexer": "ipython3",
   "version": "3.7.13"
  },
  "vscode": {
   "interpreter": {
    "hash": "25814eacd624cf0ff66adf50df0ee04c94d661bf1741c049fb34f2b0fcd1a4d1"
   }
  }
 },
 "nbformat": 4,
 "nbformat_minor": 4
}
