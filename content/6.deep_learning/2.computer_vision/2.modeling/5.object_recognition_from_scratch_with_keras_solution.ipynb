{
 "cells": [
  {
   "cell_type": "markdown",
   "metadata": {},
   "source": [
    "# Object recognition with keras\n",
    "\n",
    "<img src=\"https://media.giphy.com/media/l0MYxW1PyZl1qEA1O/giphy.gif\" align=\"right\" width=\"250\" />\n",
    "\n",
    "Hi again! Let's do some object recognition with keras! We'll make a CNN from the ground up, one that's specialized to **recognize hand drawn doodles**. \"Like pictionary?\" Yes exactly like pictionary!\n",
    "\n",
    "We've seen the basics of how CNN's process visual data in [the previous section](./1.convolutional_neural_networks), we'll compose a net that accepts a picture you draw yourself and guess what's on it! This may not have that much practical use, but it serves as a nice **learning experience** on how neural nets work step by step before you tackle the challenges ahead!\n",
    "\n",
    "We'll use part of google's generously documented ['quick, draw!' dataset](https://console.cloud.google.com/storage/browser/quickdraw_dataset/full/simplified) to train our model.\n",
    "\n",
    "We're using the simplified dataset, but still, there are too many categories to download all of them! That's alright, **pick out two classes** and download them to your machine for use, you'll use those in this notebook for object recognition!\n"
   ]
  },
  {
   "cell_type": "markdown",
   "metadata": {},
   "source": [
    "## Examining the data\n",
    "\n",
    "Let's take a look at what we dragged out of google's database. For this exercise, I'll be using the **cat** and **dog** classes, but as stated before, you can choose your own classes!"
   ]
  },
  {
   "cell_type": "code",
   "execution_count": 1,
   "metadata": {},
   "outputs": [
    {
     "name": "stdout",
     "output_type": "stream",
     "text": [
      "--2021-04-02 10:48:43--  https://storage.googleapis.com/quickdraw_dataset/full/numpy_bitmap/dog.npy\n",
      "Resolving storage.googleapis.com (storage.googleapis.com)... 216.58.213.176, 172.217.19.240, 216.58.215.48, ...\n",
      "Connecting to storage.googleapis.com (storage.googleapis.com)|216.58.213.176|:443... connected.\n",
      "HTTP request sent, awaiting response... 304 Not Modified\n",
      "File ‘../assets/dog.npy’ not modified on server. Omitting download.\n",
      "\n",
      "--2021-04-02 10:48:43--  https://storage.googleapis.com/quickdraw_dataset/full/numpy_bitmap/cat.npy\n",
      "Resolving storage.googleapis.com (storage.googleapis.com)... 142.250.74.240, 172.217.18.208, 216.58.206.240, ...\n",
      "Connecting to storage.googleapis.com (storage.googleapis.com)|142.250.74.240|:443... connected.\n",
      "HTTP request sent, awaiting response... 304 Not Modified\n",
      "File ‘../assets/cat.npy’ not modified on server. Omitting download.\n",
      "\n"
     ]
    }
   ],
   "source": [
    "!wget -N https://storage.googleapis.com/quickdraw_dataset/full/numpy_bitmap/dog.npy -P ../assets/\n",
    "!wget -N https://storage.googleapis.com/quickdraw_dataset/full/numpy_bitmap/cat.npy -P ../assets/"
   ]
  },
  {
   "cell_type": "code",
   "execution_count": 2,
   "metadata": {},
   "outputs": [
    {
     "data": {
      "image/png": "[encoded data removed]",
      "text/plain": [
       "<Figure size 432x288 with 1 Axes>"
      ]
     },
     "metadata": {
      "needs_background": "light"
     },
     "output_type": "display_data"
    }
   ],
   "source": [
    "import numpy as np\n",
    "from matplotlib import pyplot as plt\n",
    "dogs = np.load(\"../assets/dog.npy\")\n",
    "cats = np.load(\"../assets/cat.npy\")\n",
    "\n",
    "plt.bar([0,1], [dogs.shape[0], cats.shape[0]])\n",
    "plt.title('dataset sizes')\n",
    "plt.xticks([0,1], ['dogs', 'cats'])\n",
    "plt.ylabel('number of samples');"
   ]
  },
  {
   "cell_type": "markdown",
   "metadata": {},
   "source": [
    "That's a lot of cats and dogs!"
   ]
  },
  {
   "cell_type": "markdown",
   "metadata": {},
   "source": [
    "Google has been so kind to deliver us a **cleaned dataset**, the process of cleaning was as follows:\n",
    "\n",
    "1. Align the drawing to the top-left corner, to have minimum values of 0.\n",
    "2. Uniformly scale the drawing, to have a maximum value of 255.\n",
    "3. Resample all strokes with a 1 pixel spacing.\n",
    "4. Simplify all strokes using the Ramer–Douglas–Peucker algorithm with an epsilon value of 2.0.\n",
    "\n",
    "This would have given them an image like the following.\n",
    "![Cat Drawing (Image)](../assets/cat_drawing.png)\n",
    "\n",
    "To get to an image like we had before, they had to transform this datatype from **vector format** to **raster format**! You might wonder why this step is necessary. Vector format retains all of the original information and is easy to store; no need to store all pixels, only 2 points for every line. BUT...convolutional neural networks want all those intermediate pixels as well! We want a **grid of pixels** to feed to our network so we can **convolve and pool**.\n",
    "\n",
    "Fortunately, the `.npy` file format contains the pixel values of the cats and dogs in binary, so we do not need to clean them more."
   ]
  },
  {
   "cell_type": "code",
   "execution_count": 3,
   "metadata": {},
   "outputs": [
    {
     "data": {
      "image/png": "[encoded data removed]",
      "text/plain": [
       "<Figure size 432x288 with 1 Axes>"
      ]
     },
     "metadata": {
      "needs_background": "light"
     },
     "output_type": "display_data"
    }
   ],
   "source": [
    "def plot_raster(image):\n",
    "    plt.imshow(image, cmap=\"gray\")\n",
    "    plt.axis('off')\n",
    "\n",
    "dog_sample = dogs[0].reshape(28,28)\n",
    "plot_raster(dog_sample)"
   ]
  },
  {
   "cell_type": "markdown",
   "metadata": {},
   "source": [
    "What a cute little doggy!"
   ]
  },
  {
   "cell_type": "code",
   "execution_count": 4,
   "metadata": {},
   "outputs": [
    {
     "data": {
      "image/png": "[encoded data removed]",
      "text/plain": [
       "<Figure size 432x288 with 1 Axes>"
      ]
     },
     "metadata": {
      "needs_background": "light"
     },
     "output_type": "display_data"
    }
   ],
   "source": [
    "cat_sample = cats[1].reshape(28,28)\n",
    "plot_raster(cat_sample)"
   ]
  },
  {
   "cell_type": "markdown",
   "metadata": {},
   "source": [
    "There we go, the same kitty as above but in a raster format! When this is fed to a **CNN**, the input layer can accept this input as an **image** comprising as a 28 by 28 grid of **pixels** that are either activated or not. This way, our neural network can also **convolve** the image and **pool** the pixels. This would be a bit hard to do with the original **vector format**.\n",
    "\n",
    "We have more than enough samples to work with, so let's take a nicely **balanced subset** of our data so we don't get bias in the final model."
   ]
  },
  {
   "cell_type": "code",
   "execution_count": 5,
   "metadata": {},
   "outputs": [
    {
     "data": {
      "image/png": "[encoded data removed]",
      "text/plain": [
       "<Figure size 432x288 with 1 Axes>"
      ]
     },
     "metadata": {
      "needs_background": "light"
     },
     "output_type": "display_data"
    }
   ],
   "source": [
    "# 40000 samples is a nice balance to have enough data to have a nice\n",
    "# accuracy, without training for too long\n",
    "\n",
    "max_samples = 40000\n",
    "preprocessed_cats = cats[:max_samples].reshape(-1,28,28)\n",
    "preprocessed_dogs = dogs[:max_samples].reshape(-1,28,28)\n",
    "\n",
    "# Normalizing\n",
    "preprocessed_cats = preprocessed_cats/255\n",
    "preprocessed_dogs = preprocessed_dogs/255\n",
    "\n",
    "plt.bar([0,1], [preprocessed_dogs.shape[0], preprocessed_cats.shape[0]])\n",
    "plt.title('dataset sizes')\n",
    "plt.xticks([0,1], ['dogs', 'cats'])\n",
    "plt.ylabel('number of samples');"
   ]
  },
  {
   "cell_type": "markdown",
   "metadata": {},
   "source": [
    "Now, let's add the labels as well! Our neural network won't like **string values like 'cat' and 'dog**, but will want numeric representations instead. let's use **0 for cats, and 1 for dogs**. When you handle classifiers with more than two possible classes, don't forget the one-hot encoding format! Keras has the handy [to_categorical](https://keras.io/api/utils/python_utils/#to_categorical-function) function for this. For this example though, it is not needed."
   ]
  },
  {
   "cell_type": "code",
   "execution_count": 6,
   "metadata": {},
   "outputs": [
    {
     "name": "stdout",
     "output_type": "stream",
     "text": [
      "Drawings shape before :  (80000, 28, 28)\n",
      "Drawings shape after :  (80000, 28, 28, 1)\n",
      "Label shape :  (80000, 1)\n"
     ]
    }
   ],
   "source": [
    "cat_labels = np.zeros((max_samples, 1))\n",
    "dog_labels = np.ones((max_samples, 1))\n",
    "\n",
    "labels = np.concatenate([cat_labels, dog_labels])\n",
    "drawings = np.concatenate([preprocessed_cats, preprocessed_dogs])\n",
    "\n",
    "# tensorflow wants a 4D tensor with (n_images, width, height, colour_depth)\n",
    "print(\"Drawings shape before : \", drawings.shape)\n",
    "drawings = np.expand_dims(drawings, axis=3)\n",
    "print(\"Drawings shape after : \", drawings.shape)\n",
    "print(\"Label shape : \", labels.shape)"
   ]
  },
  {
   "cell_type": "markdown",
   "metadata": {},
   "source": [
    "One final step: **separating our dataset into a train/val/test set**."
   ]
  },
  {
   "cell_type": "code",
   "execution_count": 7,
   "metadata": {},
   "outputs": [
    {
     "name": "stdout",
     "output_type": "stream",
     "text": [
      "train_drawings shape :  (51200, 28, 28, 1)\n",
      "val_drawings shape :  (12800, 28, 28, 1)\n",
      "test_drawings shape :  (16000, 28, 28, 1)\n",
      "train_labels shape :  (51200, 1)\n",
      "val_labels shape :  (12800, 1)\n",
      "test_labels shape :  (16000, 1)\n"
     ]
    }
   ],
   "source": [
    "from sklearn.model_selection import train_test_split\n",
    "\n",
    "train_val_drawings, test_drawings, train_val_labels, test_labels = train_test_split(\n",
    "    drawings, \n",
    "    labels,\n",
    "    test_size=0.2, \n",
    "    random_state=42, \n",
    "    shuffle=True\n",
    ")\n",
    "\n",
    "train_drawings, val_drawings, train_labels, val_labels = train_test_split(\n",
    "    train_val_drawings, \n",
    "    train_val_labels,\n",
    "    test_size=0.2, \n",
    "    random_state=42, \n",
    "    shuffle=True\n",
    ")\n",
    "\n",
    "print(\"train_drawings shape : \", train_drawings.shape)\n",
    "print(\"val_drawings shape : \", val_drawings.shape)\n",
    "print(\"test_drawings shape : \", test_drawings.shape)\n",
    "\n",
    "print(\"train_labels shape : \", train_labels.shape)\n",
    "print(\"val_labels shape : \", val_labels.shape)\n",
    "print(\"test_labels shape : \", test_labels.shape)"
   ]
  },
  {
   "cell_type": "markdown",
   "metadata": {},
   "source": [
    "## Composing and evaluating the model\n",
    "\n",
    "### Composing the most simple form\n",
    "\n",
    "You've seen in [convolutional neural networks](./1.convolutional_neural_networks.ipynb) the different parts of a typical CNN and how they relate to each other. **keras** makes it easy for us to quickly compose a neural network.\n",
    "\n",
    "Let's start with the **simplist of convolutional neural networks**: A convolutional layer, followed by a flattening layer and a regular 1D dense layer. Why is this the most simple form, you ask? Well, our neural network cannot consist of only a conv layer, since these **accept and output a 2D data structure**. If the output and input layer are the same, the outputs is a very hard to interpret **2D layer**. How does this relate to our defined classes; The **cat class** and **dog class**? It doesn't, it needs to be flattened into a binary output, since we have two classes in our model."
   ]
  },
  {
   "cell_type": "markdown",
   "metadata": {},
   "source": [
    "We will fix some basic parameters below. You can use these values directly, they have been tested by us to be good enough for this task"
   ]
  },
  {
   "cell_type": "code",
   "execution_count": 8,
   "metadata": {},
   "outputs": [],
   "source": [
    "import tensorflow as tf\n",
    "from tensorflow.keras import layers, models\n",
    "\n",
    "# pixel width and height of our images\n",
    "input_size = 28\n",
    "\n",
    "# number of filters in the convnet layer\n",
    "filters = 64\n",
    "\n",
    "# conv net parameters\n",
    "strides = (2, 2)\n",
    "pool_size = (2,2)\n",
    "kernel_size = (5, 5)"
   ]
  },
  {
   "cell_type": "markdown",
   "metadata": {},
   "source": [
    "You know how `tf.keras` works now. You'll implement the model described above using the `Sequential` API.\n",
    "You also get a model summary below to show the output shapes.\n",
    "In this first example, we'll only modify the default `kernel_size`, `activation` (use ReLU) and `input_shape` of the convolutional layer. We also specify the number of convolutional filters, given by the `filters` variable. The other parameters are left at their default values.\n",
    "\n",
    "\n",
    "Store the model in a `model` variable."
   ]
  },
  {
   "cell_type": "code",
   "execution_count": 9,
   "metadata": {},
   "outputs": [
    {
     "name": "stdout",
     "output_type": "stream",
     "text": [
      "Model: \"sequential\"\n",
      "_________________________________________________________________\n",
      "Layer (type)                 Output Shape              Param #   \n",
      "=================================================================\n",
      "conv2d (Conv2D)              (None, 24, 24, 64)        1664      \n",
      "_________________________________________________________________\n",
      "flatten (Flatten)            (None, 36864)             0         \n",
      "_________________________________________________________________\n",
      "dense (Dense)                (None, 2)                 73730     \n",
      "=================================================================\n",
      "Total params: 75,394\n",
      "Trainable params: 75,394\n",
      "Non-trainable params: 0\n",
      "_________________________________________________________________\n"
     ]
    }
   ],
   "source": [
    "model = models.Sequential()\n",
    "model.add(layers.Conv2D(filters, kernel_size = kernel_size, activation='relu', input_shape=(input_size, input_size, 1)))\n",
    "model.add(layers.Flatten())\n",
    "model.add(layers.Dense(2, activation=\"softmax\"))\n",
    "model.summary()"
   ]
  },
  {
   "cell_type": "markdown",
   "metadata": {},
   "source": [
    "The model summary should look similar to the following:\n",
    "![Keras model 1 summary](../assets/first_summary.png)"
   ]
  },
  {
   "cell_type": "markdown",
   "metadata": {},
   "source": [
    "\n",
    "\n",
    "In Tensorflow, we have a bit more control over what we can do with the loss function than in PyTorch.\n",
    "Indeed, in this case, we have the choice between 4 different losses, which depend on:\n",
    "- whether we one-hot encode our labels\n",
    "- whether we use a Softmax activation in the last layer\n",
    "\n",
    "The next will show the 4 solutions.\n",
    "\n",
    "\n",
    "\n",
    "- We can put a `SoftMax()` on the last layer, **NOT** one-hot encode the labels and use [`tf.keras.losses.SparseCategoricalCrossentropy()`](https://www.tensorflow.org/api_docs/python/tf/keras/losses/SparseCategoricalCrossentropy)\n",
    "\n",
    "\n",
    "- We can **NOT** put a `Softmax()` on the last layer, **NOT** one-hot encode the labels and use [`tf.nn.sparse_softmax_cross_entropy_with_logits`](https://www.tensorflow.org/api_docs/python/tf/nn/sparse_softmax_cross_entropy_with_logits). This is equivalent to the above loss with the argument `from_logits` set to `True` : `SparseCategoricalCrossentropy(from_logits=True)` because the default is `False`.\n",
    "\n",
    "\n",
    "- We can put a `SoftMax()` on the last layer, and one-hot encode labels and use [`tf.keras.losses.CategoricalCrossentropy(from_logits=False)`](https://www.tensorflow.org/api_docs/python/tf/keras/losses/CategoricalCrossentropy)\n",
    "\n",
    "\n",
    "- We can **NOT** put a `SoftMax()` on the last layer, and one-hot encode labels and use `tf.keras.losses.CategoricalCrossentropy(from_logits=True)`\n",
    "\n",
    "\n",
    "**Logits** is a confusing term and often abused in the deep learning community, as it can mean a lot of things. Here, logits are meant to describe the input to the Softmax layer, or generally any output from a neuron that has not been passed through an activation function."
   ]
  },
  {
   "cell_type": "markdown",
   "metadata": {},
   "source": [
    "Now is the time to train the model.\n",
    "\n",
    "Use the Adam optimizer, one of the above mentioned loss functions loss and the accuracy as a metric.\n",
    "\n",
    "Then fit the model for `6` epochs, and not forgetting to use the validation set.\n",
    "\n",
    "Store the result of the fit in `history` variable."
   ]
  },
  {
   "cell_type": "code",
   "execution_count": 10,
   "metadata": {},
   "outputs": [],
   "source": [
    "model.compile(optimizer='adam',\n",
    "          loss='sparse_categorical_crossentropy',\n",
    "          metrics=['accuracy'])"
   ]
  },
  {
   "cell_type": "code",
   "execution_count": 11,
   "metadata": {},
   "outputs": [
    {
     "name": "stdout",
     "output_type": "stream",
     "text": [
      "Num GPUs Available:  1\n"
     ]
    }
   ],
   "source": [
    "print(\"Num GPUs Available: \", len(tf.config.list_physical_devices('GPU')))"
   ]
  },
  {
   "cell_type": "code",
   "execution_count": 12,
   "metadata": {},
   "outputs": [
    {
     "name": "stdout",
     "output_type": "stream",
     "text": [
      "Epoch 1/6\n",
      "800/800 [==============================] - 10s 10ms/step - loss: 0.4046 - accuracy: 0.8117 - val_loss: 0.3119 - val_accuracy: 0.8638\n",
      "Epoch 2/6\n",
      "800/800 [==============================] - 7s 9ms/step - loss: 0.2943 - accuracy: 0.8746 - val_loss: 0.3014 - val_accuracy: 0.8703\n",
      "Epoch 3/6\n",
      "800/800 [==============================] - 7s 8ms/step - loss: 0.2723 - accuracy: 0.8836 - val_loss: 0.2901 - val_accuracy: 0.8758\n",
      "Epoch 4/6\n",
      "800/800 [==============================] - 8s 10ms/step - loss: 0.2520 - accuracy: 0.8938 - val_loss: 0.2888 - val_accuracy: 0.8789\n",
      "Epoch 5/6\n",
      "800/800 [==============================] - 7s 9ms/step - loss: 0.2330 - accuracy: 0.9036 - val_loss: 0.2904 - val_accuracy: 0.8772\n",
      "Epoch 6/6\n",
      "800/800 [==============================] - 7s 9ms/step - loss: 0.2173 - accuracy: 0.9099 - val_loss: 0.2920 - val_accuracy: 0.8753\n"
     ]
    }
   ],
   "source": [
    "BATCH_SIZE = 64\n",
    "EPOCHS = 6\n",
    "# If you have a GPU, the following line allows us to speed up \n",
    "# the training by a great deal.\n",
    "with tf.device('/GPU:0'): \n",
    "    history = model.fit(train_drawings, \n",
    "                        train_labels, \n",
    "                        epochs=EPOCHS, \n",
    "                        batch_size=BATCH_SIZE,\n",
    "                        validation_data=(val_drawings, val_labels)\n",
    "                       )"
   ]
  },
  {
   "cell_type": "markdown",
   "metadata": {},
   "source": [
    "Now, let's evaluate out model by comparing our **test accuracy vs the training accuracy** with the matplotlib library."
   ]
  },
  {
   "cell_type": "code",
   "execution_count": 13,
   "metadata": {},
   "outputs": [
    {
     "data": {
      "image/png": "[encoded data removed]",
      "text/plain": [
       "<Figure size 864x432 with 2 Axes>"
      ]
     },
     "metadata": {
      "needs_background": "light"
     },
     "output_type": "display_data"
    }
   ],
   "source": [
    "def plot_history(history):\n",
    "    \"\"\" This helper function takes the tensorflow.python.keras.callbacks.History\n",
    "    that is output from your `fit` method to plot the loss and accuracy of\n",
    "    the training and validation set.\n",
    "    \"\"\"\n",
    "    fig, axs = plt.subplots(1,2, figsize=(12,6))\n",
    "    axs[0].plot(history.history['accuracy'], label='training set')\n",
    "    axs[0].plot(history.history['val_accuracy'], label = 'validation set')\n",
    "    axs[0].set(xlabel = 'Epoch', ylabel='Accuracy', ylim=[0.5, 1])\n",
    "\n",
    "    axs[1].plot(history.history['loss'], label='training set')\n",
    "    axs[1].plot(history.history['val_loss'], label = 'validation set')\n",
    "    axs[1].set(xlabel = 'Epoch', ylabel='Loss', ylim=[0, 1])\n",
    "    \n",
    "    axs[0].legend(loc='lower right')\n",
    "    axs[1].legend(loc='lower right')\n",
    "    \n",
    "plot_history(history)"
   ]
  },
  {
   "cell_type": "code",
   "execution_count": 14,
   "metadata": {},
   "outputs": [
    {
     "name": "stdout",
     "output_type": "stream",
     "text": [
      "500/500 - 1s - loss: 0.2891 - accuracy: 0.8785\n"
     ]
    }
   ],
   "source": [
    "test_loss, test_acc = model.evaluate(test_drawings,  test_labels, verbose=2)"
   ]
  },
  {
   "cell_type": "markdown",
   "metadata": {},
   "source": [
    "85% accuracy...Alright, not bad! But we can do better!\n",
    "Notice that the validation loss does not increase anymore.\n",
    "\n",
    "**Having only a single conv layer is maybe not enough to perfectly tell the difference between cat and dog doodles**. Why? Because right now, the neural network can just about make out if an image contains lines or not, which they both obviously do! Look at the image below:\n",
    "\n",
    "![convnet_progression](./../assets/convnet_progression.png)\n",
    "\n",
    "Each of these stages (from bottom to top) represent a convnet layer, and what it outputs. The bottom layer has 24 filters and seems to be able to make out the lines composing the image, but it's not connecting the dots so to speak. The features extracted by the first convnet layer are given to the next, and this layer connect these features into higher order features, and so on.\n",
    "\n",
    "So we are still stuck in the first stage, we need to **extend our model**.\n",
    "\n",
    "### Composing an extended model\n",
    "\n",
    "Let's add another convnet layer! But in between these, we'll add a **pooling layer**. What's the purpose of this layer you ask? It has multiple purposes as seen in the last subchapter, but the main purpose here is **dimensionality reduction** to make it a bit easier on our model. Training the last model was already pretty challenging, and we don't need quantity, we need quality. Pooling (supposedly) redundant spatial information together is ofter done in CNN's for this reason."
   ]
  },
  {
   "cell_type": "markdown",
   "metadata": {},
   "source": [
    "Again, you know what to do. We will be modifying the same parameters as before, and you have the summary below again for the details. \n",
    "\n",
    "For the **pooling layer**, we will specify our own `strides` and `pool_size` parameters. Also specify `padding='same'`. \n",
    "\n",
    "Make sure to change those so that your summary matches the one provided."
   ]
  },
  {
   "cell_type": "code",
   "execution_count": 15,
   "metadata": {},
   "outputs": [
    {
     "name": "stdout",
     "output_type": "stream",
     "text": [
      "Model: \"sequential_1\"\n",
      "_________________________________________________________________\n",
      "Layer (type)                 Output Shape              Param #   \n",
      "=================================================================\n",
      "conv2d_1 (Conv2D)            (None, 24, 24, 64)        1664      \n",
      "_________________________________________________________________\n",
      "max_pooling2d (MaxPooling2D) (None, 12, 12, 64)        0         \n",
      "_________________________________________________________________\n",
      "conv2d_2 (Conv2D)            (None, 8, 8, 32)          51232     \n",
      "_________________________________________________________________\n",
      "max_pooling2d_1 (MaxPooling2 (None, 4, 4, 32)          0         \n",
      "_________________________________________________________________\n",
      "flatten_1 (Flatten)          (None, 512)               0         \n",
      "_________________________________________________________________\n",
      "dense_1 (Dense)              (None, 2)                 1026      \n",
      "=================================================================\n",
      "Total params: 53,922\n",
      "Trainable params: 53,922\n",
      "Non-trainable params: 0\n",
      "_________________________________________________________________\n"
     ]
    }
   ],
   "source": [
    "model = models.Sequential()\n",
    "model.add(layers.Conv2D(filters, kernel_size = kernel_size, activation='relu', input_shape=(input_size, input_size, 1)))\n",
    "model.add(layers.MaxPooling2D(pool_size=pool_size, strides=strides, padding='same'))\n",
    "model.add(layers.Conv2D(32, kernel_size = kernel_size, activation='relu', ))\n",
    "model.add(layers.MaxPooling2D(pool_size=pool_size, strides=strides, padding='same'))\n",
    "model.add(layers.Flatten())\n",
    "model.add(layers.Dense(2, activation=\"softmax\")) \n",
    "model.summary()"
   ]
  },
  {
   "cell_type": "markdown",
   "metadata": {},
   "source": [
    "The model summary should look similar to the following:\n",
    "![Keras model 2 summary](../assets/second_summary.png)"
   ]
  },
  {
   "cell_type": "code",
   "execution_count": 16,
   "metadata": {},
   "outputs": [
    {
     "name": "stdout",
     "output_type": "stream",
     "text": [
      "Epoch 1/10\n",
      "800/800 [==============================] - 8s 10ms/step - loss: 0.4265 - accuracy: 0.7955 - val_loss: 0.2906 - val_accuracy: 0.8738\n",
      "Epoch 2/10\n",
      "800/800 [==============================] - 7s 9ms/step - loss: 0.2816 - accuracy: 0.8787 - val_loss: 0.2867 - val_accuracy: 0.8771\n",
      "Epoch 3/10\n",
      "800/800 [==============================] - 8s 10ms/step - loss: 0.2604 - accuracy: 0.8876 - val_loss: 0.2798 - val_accuracy: 0.8833\n",
      "Epoch 4/10\n",
      "800/800 [==============================] - 7s 9ms/step - loss: 0.2414 - accuracy: 0.8978 - val_loss: 0.2599 - val_accuracy: 0.8925\n",
      "Epoch 5/10\n",
      "800/800 [==============================] - 7s 9ms/step - loss: 0.2218 - accuracy: 0.9072 - val_loss: 0.2571 - val_accuracy: 0.8904\n",
      "Epoch 6/10\n",
      "800/800 [==============================] - 7s 9ms/step - loss: 0.2142 - accuracy: 0.9101 - val_loss: 0.2653 - val_accuracy: 0.8883\n",
      "Epoch 7/10\n",
      "800/800 [==============================] - 7s 9ms/step - loss: 0.1988 - accuracy: 0.9187 - val_loss: 0.2783 - val_accuracy: 0.8893\n",
      "Epoch 8/10\n",
      "800/800 [==============================] - 7s 9ms/step - loss: 0.1831 - accuracy: 0.9261 - val_loss: 0.2721 - val_accuracy: 0.8858\n",
      "Epoch 9/10\n",
      "800/800 [==============================] - 7s 9ms/step - loss: 0.1727 - accuracy: 0.9301 - val_loss: 0.2885 - val_accuracy: 0.8835\n",
      "Epoch 10/10\n",
      "800/800 [==============================] - 7s 9ms/step - loss: 0.1596 - accuracy: 0.9339 - val_loss: 0.2878 - val_accuracy: 0.8846\n"
     ]
    }
   ],
   "source": [
    "model.compile(optimizer='adam',\n",
    "              loss='sparse_categorical_crossentropy',\n",
    "              metrics=['accuracy'])\n",
    "\n",
    "BATCH_SIZE = 64\n",
    "EPOCHS = 10\n",
    "\n",
    "with tf.device('/GPU:0'):\n",
    "    history = model.fit(train_drawings, \n",
    "                        train_labels, \n",
    "                        epochs=EPOCHS, \n",
    "                        batch_size=BATCH_SIZE,\n",
    "                        validation_data=(val_drawings, val_labels)\n",
    "                       )"
   ]
  },
  {
   "cell_type": "code",
   "execution_count": 17,
   "metadata": {},
   "outputs": [
    {
     "data": {
      "image/png": "[encoded data removed]",
      "text/plain": [
       "<Figure size 864x432 with 2 Axes>"
      ]
     },
     "metadata": {
      "needs_background": "light"
     },
     "output_type": "display_data"
    }
   ],
   "source": [
    "plot_history(history)"
   ]
  },
  {
   "cell_type": "code",
   "execution_count": 18,
   "metadata": {},
   "outputs": [
    {
     "name": "stdout",
     "output_type": "stream",
     "text": [
      "500/500 - 1s - loss: 0.2863 - accuracy: 0.8829\n"
     ]
    }
   ],
   "source": [
    "_ = model.evaluate(test_drawings,  test_labels, verbose=2)"
   ]
  },
  {
   "cell_type": "markdown",
   "metadata": {},
   "source": [
    "88% ! YEAH, we added 3% to our accuracy! Right now, our model is still lacking something vital: **regular dense layers**! \n",
    "\n",
    "Adding these layers is a nice way to finally put the extracted features together and make nonlinear connections between them! Like \"aha, sharp ear features + a triangle nose means a cat, probably >.>!\".\n",
    "\n",
    "We will also add some **Dropout** layers to reduce overfitting.\n"
   ]
  },
  {
   "cell_type": "markdown",
   "metadata": {},
   "source": [
    "### Further extending the model with dense layers\n",
    "Last model, like said above, we're adding `Dense` layers at the end and `Dropout` layers between the convolutional layers and the pooling layers. Remember that we are still modifying the same parameters for the **convolutional layer** and for the **pooling layer** as the two other models."
   ]
  },
  {
   "cell_type": "code",
   "execution_count": 19,
   "metadata": {},
   "outputs": [
    {
     "name": "stdout",
     "output_type": "stream",
     "text": [
      "Model: \"sequential_2\"\n",
      "_________________________________________________________________\n",
      "Layer (type)                 Output Shape              Param #   \n",
      "=================================================================\n",
      "conv2d_3 (Conv2D)            (None, 24, 24, 64)        1664      \n",
      "_________________________________________________________________\n",
      "dropout (Dropout)            (None, 24, 24, 64)        0         \n",
      "_________________________________________________________________\n",
      "max_pooling2d_2 (MaxPooling2 (None, 12, 12, 64)        0         \n",
      "_________________________________________________________________\n",
      "conv2d_4 (Conv2D)            (None, 8, 8, 32)          51232     \n",
      "_________________________________________________________________\n",
      "dropout_1 (Dropout)          (None, 8, 8, 32)          0         \n",
      "_________________________________________________________________\n",
      "max_pooling2d_3 (MaxPooling2 (None, 4, 4, 32)          0         \n",
      "_________________________________________________________________\n",
      "flatten_2 (Flatten)          (None, 512)               0         \n",
      "_________________________________________________________________\n",
      "dense_2 (Dense)              (None, 16)                8208      \n",
      "_________________________________________________________________\n",
      "dense_3 (Dense)              (None, 2)                 34        \n",
      "=================================================================\n",
      "Total params: 61,138\n",
      "Trainable params: 61,138\n",
      "Non-trainable params: 0\n",
      "_________________________________________________________________\n"
     ]
    }
   ],
   "source": [
    "model = models.Sequential()\n",
    "model.add(layers.Conv2D(filters, kernel_size = kernel_size, activation='relu', input_shape=(input_size, input_size, 1)))\n",
    "model.add(layers.Dropout(0.5))\n",
    "model.add(layers.MaxPooling2D(pool_size= pool_size, strides=strides, padding='same'))\n",
    "model.add(layers.Conv2D(32, kernel_size = kernel_size, activation='relu', ))\n",
    "model.add(layers.Dropout(0.5))\n",
    "model.add(layers.MaxPooling2D(pool_size = pool_size, strides=strides, padding='same'))\n",
    "model.add(layers.Flatten())\n",
    "model.add(layers.Dense(16, activation='relu'))\n",
    "model.add(layers.Dense(2, activation='softmax'))\n",
    "model.summary()"
   ]
  },
  {
   "cell_type": "markdown",
   "metadata": {},
   "source": [
    "The model summary should look similar to the following:\n",
    "![Keras model 3 summary](../assets/third_summary.png)"
   ]
  },
  {
   "cell_type": "code",
   "execution_count": 20,
   "metadata": {},
   "outputs": [
    {
     "name": "stdout",
     "output_type": "stream",
     "text": [
      "Epoch 1/10\n",
      "800/800 [==============================] - 12s 15ms/step - loss: 0.4461 - accuracy: 0.7800 - val_loss: 0.3839 - val_accuracy: 0.8737\n",
      "Epoch 2/10\n",
      "800/800 [==============================] - 11s 13ms/step - loss: 0.3039 - accuracy: 0.8661 - val_loss: 0.3252 - val_accuracy: 0.8802\n",
      "Epoch 3/10\n",
      "800/800 [==============================] - 10s 13ms/step - loss: 0.2837 - accuracy: 0.8771 - val_loss: 0.3246 - val_accuracy: 0.8865\n",
      "Epoch 4/10\n",
      "800/800 [==============================] - 10s 13ms/step - loss: 0.2706 - accuracy: 0.8839 - val_loss: 0.3028 - val_accuracy: 0.8856\n",
      "Epoch 5/10\n",
      "800/800 [==============================] - 10s 13ms/step - loss: 0.2616 - accuracy: 0.8873 - val_loss: 0.2895 - val_accuracy: 0.8927\n",
      "Epoch 6/10\n",
      "800/800 [==============================] - 10s 13ms/step - loss: 0.2459 - accuracy: 0.8952 - val_loss: 0.2886 - val_accuracy: 0.8973\n",
      "Epoch 7/10\n",
      "800/800 [==============================] - 10s 13ms/step - loss: 0.2437 - accuracy: 0.8973 - val_loss: 0.2889 - val_accuracy: 0.8851\n",
      "Epoch 8/10\n",
      "800/800 [==============================] - 10s 13ms/step - loss: 0.2397 - accuracy: 0.8985 - val_loss: 0.2732 - val_accuracy: 0.8971\n",
      "Epoch 9/10\n",
      "800/800 [==============================] - 11s 13ms/step - loss: 0.2356 - accuracy: 0.8997 - val_loss: 0.2670 - val_accuracy: 0.8970\n",
      "Epoch 10/10\n",
      "800/800 [==============================] - 11s 13ms/step - loss: 0.2357 - accuracy: 0.9001 - val_loss: 0.2840 - val_accuracy: 0.8905\n"
     ]
    }
   ],
   "source": [
    "model.compile(optimizer='adam',\n",
    "              loss='sparse_categorical_crossentropy',\n",
    "              metrics=['accuracy'])\n",
    "\n",
    "BATCH_SIZE = 64\n",
    "EPOCHS = 10\n",
    "\n",
    "with tf.device('/GPU:0'):\n",
    "    history = model.fit(train_drawings, \n",
    "                        train_labels, \n",
    "                        epochs=EPOCHS, \n",
    "                        batch_size=BATCH_SIZE,\n",
    "                        validation_data=(val_drawings, val_labels)\n",
    "                       )"
   ]
  },
  {
   "cell_type": "code",
   "execution_count": 21,
   "metadata": {},
   "outputs": [
    {
     "data": {
      "image/png": "[encoded data removed]",
      "text/plain": [
       "<Figure size 864x432 with 2 Axes>"
      ]
     },
     "metadata": {
      "needs_background": "light"
     },
     "output_type": "display_data"
    }
   ],
   "source": [
    "plot_history(history)"
   ]
  },
  {
   "cell_type": "code",
   "execution_count": 22,
   "metadata": {},
   "outputs": [
    {
     "name": "stdout",
     "output_type": "stream",
     "text": [
      "500/500 - 1s - loss: 0.2768 - accuracy: 0.8959\n"
     ]
    }
   ],
   "source": [
    "_ = model.evaluate(test_drawings,  test_labels, verbose=2)"
   ]
  },
  {
   "cell_type": "markdown",
   "metadata": {},
   "source": [
    "~89% accuracy ?! Now we're cookin'! This is starting to look good! There are a few ways to combat overfitting in a model as you already know. One of them is to **decrease the DOF's of the model**, another neat method often used in CNN's is **adding dropout layers**.\n",
    "\n",
    "\"Dropout layers?! I'm no quitter!\". Don't worry, these are conceptually easy to understand: These **deactivate a fraction of the neurons of the preceeding layers at random** to encourage robustness on the overall layer. Deactivating them at random avoids the reliance on specific nodes and disallows the network to overly fit to the training set.\n",
    "\n",
    "This method isn't perfect, and it needs a decently sized network, which may not be the case here, so it might not be necessary here.\n",
    "\n",
    "Read more about dropout [here](https://machinelearningmastery.com/dropout-for-regularizing-deep-neural-networks/)."
   ]
  },
  {
   "cell_type": "markdown",
   "metadata": {},
   "source": [
    "Congratulations! You created your first convolutional neural networks from scratch, and were able to get a pretty good accuracy with a small network.\n",
    "\n",
    "![Well done (GIF)](https://media.giphy.com/media/d31w24psGYeekCZy/giphy.gif)"
   ]
  },
  {
   "cell_type": "markdown",
   "metadata": {},
   "source": [
    "## Testing the model\n",
    "\n",
    "The following is a piece of code designed to take inputs from the user to generate a drawing from. **This code is very case specific and there is no need for you to learn the tkinter library for computer vision**. So just enjoy the result and continue on to the [next notebook](./4.object_recognition_with_pytorch.ipynb) after you're done playing around."
   ]
  },
  {
   "cell_type": "code",
   "execution_count": 23,
   "metadata": {},
   "outputs": [],
   "source": [
    "class LineDrawer:\n",
    "    \n",
    "    def __init__(self, canvas, input_size, output_size = 64, brush_size = 3, line_colour = \"#476042\"):\n",
    "        self.canvas = canvas\n",
    "        self.drawing = np.zeros((output_size, output_size))\n",
    "        self.mouse_is_clicked = False\n",
    "        self.brush_size = brush_size\n",
    "        self.line_colour = line_colour\n",
    "        self.scale_factor = float(output_size)/float(input_size)\n",
    "\n",
    "    def on_motion(self, event):\n",
    "        if not self.mouse_is_clicked:\n",
    "            return\n",
    "        x1, y1 = (event.x - self.brush_size), (event.y - self.brush_size)\n",
    "        x2, y2 = (event.x + self.brush_size), (event.y + self.brush_size)\n",
    "        self.canvas.create_oval(x1, y1, x2, y2, fill=self.line_colour)\n",
    "        self.drawing[round(event.y*self.scale_factor), round(event.x*self.scale_factor)] = 255\n",
    "\n",
    "    def on_down_press(self, event):\n",
    "        self.mouse_is_clicked = True\n",
    "\n",
    "    def on_release(self, event):\n",
    "        self.mouse_is_clicked = False\n"
   ]
  },
  {
   "cell_type": "code",
   "execution_count": 24,
   "metadata": {},
   "outputs": [],
   "source": [
    "import tkinter as tk\n",
    "\n",
    "# run this cell to get a drawing interface! Just close it once you are done\n",
    "gui = tk.Tk()\n",
    "canvas_size = 512\n",
    "canvas = tk.Canvas(gui, width=canvas_size, height=canvas_size)\n",
    "line_drawer = LineDrawer(canvas, canvas_size, 28)\n",
    "canvas.bind('<Motion>', line_drawer.on_motion)\n",
    "canvas.bind('<Button-1>', line_drawer.on_down_press)\n",
    "canvas.bind('<ButtonRelease-1>', line_drawer.on_release)\n",
    "canvas.pack()\n",
    "gui.mainloop()"
   ]
  },
  {
   "cell_type": "code",
   "execution_count": null,
   "metadata": {},
   "outputs": [],
   "source": [
    "plot_raster(line_drawer.drawing)"
   ]
  },
  {
   "cell_type": "code",
   "execution_count": null,
   "metadata": {},
   "outputs": [],
   "source": [
    "drawing_input = line_drawer.drawing.reshape(1, 28, 28, 1)\n",
    "prediction = model.predict(drawing_input)\n",
    "print(f\"Predictions : {prediction[0][0] * 100 :.2f}% cat, {prediction[0][1] * 100 :.2f}% dog \")"
   ]
  },
  {
   "cell_type": "code",
   "execution_count": 27,
   "metadata": {},
   "outputs": [],
   "source": [
    "# run this cell to get a drawing interface!\n",
    "gui = tk.Tk()\n",
    "canvas_size = 512\n",
    "canvas = tk.Canvas(gui, width=canvas_size, height=canvas_size)\n",
    "second_line_drawer = LineDrawer(canvas, canvas_size, 28)\n",
    "canvas.bind('<Motion>', second_line_drawer.on_motion)\n",
    "canvas.bind('<Button-1>', second_line_drawer.on_down_press)\n",
    "canvas.bind('<ButtonRelease-1>', second_line_drawer.on_release)\n",
    "canvas.pack()\n",
    "gui.mainloop()"
   ]
  },
  {
   "cell_type": "code",
   "execution_count": null,
   "metadata": {},
   "outputs": [],
   "source": [
    "plot_raster(second_line_drawer.drawing)"
   ]
  },
  {
   "cell_type": "code",
   "execution_count": null,
   "metadata": {},
   "outputs": [],
   "source": [
    "drawing_input = second_line_drawer.drawing.reshape(1, 28, 28, 1)\n",
    "prediction = model.predict(drawing_input)\n",
    "print(f\"Predictions : {prediction[0][0] * 100 :.2f}% cat, {prediction[0][1] * 100 :.2f}% dog \")"
   ]
  }
 ],
 "metadata": {
  "kernelspec": {
   "display_name": "Python 3.9.7 ('base')",
   "language": "python",
   "name": "python3"
  },
  "language_info": {
   "codemirror_mode": {
    "name": "ipython",
    "version": 3
   },
   "file_extension": ".py",
   "mimetype": "text/x-python",
   "name": "python",
   "nbconvert_exporter": "python",
   "pygments_lexer": "ipython3",
   "version": "3.9.7"
  },
  "vscode": {
   "interpreter": {
    "hash": "8d21f3b75a0e2120eb0e66e21d4adea905fc160c040159242535b1a26e9f956d"
   }
  }
 },
 "nbformat": 4,
 "nbformat_minor": 4
}
