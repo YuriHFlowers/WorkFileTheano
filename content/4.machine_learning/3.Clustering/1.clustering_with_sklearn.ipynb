{
 "cells": [
  {
   "cell_type": "markdown",
   "metadata": {},
   "source": [
    "# Clustering with scikit-learn\n",
    "\n",
    "<img src=\"https://media.giphy.com/media/G9qfCvxlwGAaQ/giphy.gif\" align=\"right\" width=\"250\" />\n",
    "\n",
    "There are many clustering methods out there, and `scikit-learn` (or `sklearn` for short) already provides support for [a good deal of them](https://scikit-learn.org/stable/modules/clustering.html). We'll go through some short examples to (sk)learn to cluster!\n",
    "\n",
    "For this exercise, I want you to become the very best, like no one ever was! That's right, let's catch some Pokémon!\n",
    "\n",
    "The goal of this exercise is to:\n",
    "- reduce your anxiety of having to choose Pokémon by letting an algorithm do it for you\n",
    "- determine similar Pokémon based on **height** and **weight**\n",
    "- choose 6 final Pokémon that are as **diverse as possible**\n",
    "\n",
    "Let's start by importing our dataset:"
   ]
  },
  {
   "cell_type": "code",
   "execution_count": 1,
   "metadata": {},
   "outputs": [],
   "source": [
    "import pandas as pd\n",
    "\n",
    "pokemon = pd.read_csv(\"./assets/pokemon.csv\")"
   ]
  },
  {
   "cell_type": "code",
   "execution_count": 2,
   "metadata": {},
   "outputs": [
    {
     "data": {
      "text/html": [
       "<div>\n",
       "<style scoped>\n",
       "    .dataframe tbody tr th:only-of-type {\n",
       "        vertical-align: middle;\n",
       "    }\n",
       "\n",
       "    .dataframe tbody tr th {\n",
       "        vertical-align: top;\n",
       "    }\n",
       "\n",
       "    .dataframe thead th {\n",
       "        text-align: right;\n",
       "    }\n",
       "</style>\n",
       "<table border=\"1\" class=\"dataframe\">\n",
       "  <thead>\n",
       "    <tr style=\"text-align: right;\">\n",
       "      <th></th>\n",
       "      <th>abilities</th>\n",
       "      <th>against_bug</th>\n",
       "      <th>against_dark</th>\n",
       "      <th>against_dragon</th>\n",
       "      <th>against_electric</th>\n",
       "      <th>against_fairy</th>\n",
       "      <th>against_fight</th>\n",
       "      <th>against_fire</th>\n",
       "      <th>against_flying</th>\n",
       "      <th>against_ghost</th>\n",
       "      <th>...</th>\n",
       "      <th>percentage_male</th>\n",
       "      <th>pokedex_number</th>\n",
       "      <th>sp_attack</th>\n",
       "      <th>sp_defense</th>\n",
       "      <th>speed</th>\n",
       "      <th>type1</th>\n",
       "      <th>type2</th>\n",
       "      <th>weight_kg</th>\n",
       "      <th>generation</th>\n",
       "      <th>is_legendary</th>\n",
       "    </tr>\n",
       "  </thead>\n",
       "  <tbody>\n",
       "    <tr>\n",
       "      <th>0</th>\n",
       "      <td>['Overgrow', 'Chlorophyll']</td>\n",
       "      <td>1.0</td>\n",
       "      <td>1.0</td>\n",
       "      <td>1.0</td>\n",
       "      <td>0.5</td>\n",
       "      <td>0.5</td>\n",
       "      <td>0.5</td>\n",
       "      <td>2.0</td>\n",
       "      <td>2.0</td>\n",
       "      <td>1.0</td>\n",
       "      <td>...</td>\n",
       "      <td>88.1</td>\n",
       "      <td>1</td>\n",
       "      <td>65</td>\n",
       "      <td>65</td>\n",
       "      <td>45</td>\n",
       "      <td>grass</td>\n",
       "      <td>poison</td>\n",
       "      <td>6.9</td>\n",
       "      <td>1</td>\n",
       "      <td>0</td>\n",
       "    </tr>\n",
       "    <tr>\n",
       "      <th>1</th>\n",
       "      <td>['Overgrow', 'Chlorophyll']</td>\n",
       "      <td>1.0</td>\n",
       "      <td>1.0</td>\n",
       "      <td>1.0</td>\n",
       "      <td>0.5</td>\n",
       "      <td>0.5</td>\n",
       "      <td>0.5</td>\n",
       "      <td>2.0</td>\n",
       "      <td>2.0</td>\n",
       "      <td>1.0</td>\n",
       "      <td>...</td>\n",
       "      <td>88.1</td>\n",
       "      <td>2</td>\n",
       "      <td>80</td>\n",
       "      <td>80</td>\n",
       "      <td>60</td>\n",
       "      <td>grass</td>\n",
       "      <td>poison</td>\n",
       "      <td>13.0</td>\n",
       "      <td>1</td>\n",
       "      <td>0</td>\n",
       "    </tr>\n",
       "    <tr>\n",
       "      <th>2</th>\n",
       "      <td>['Overgrow', 'Chlorophyll']</td>\n",
       "      <td>1.0</td>\n",
       "      <td>1.0</td>\n",
       "      <td>1.0</td>\n",
       "      <td>0.5</td>\n",
       "      <td>0.5</td>\n",
       "      <td>0.5</td>\n",
       "      <td>2.0</td>\n",
       "      <td>2.0</td>\n",
       "      <td>1.0</td>\n",
       "      <td>...</td>\n",
       "      <td>88.1</td>\n",
       "      <td>3</td>\n",
       "      <td>122</td>\n",
       "      <td>120</td>\n",
       "      <td>80</td>\n",
       "      <td>grass</td>\n",
       "      <td>poison</td>\n",
       "      <td>100.0</td>\n",
       "      <td>1</td>\n",
       "      <td>0</td>\n",
       "    </tr>\n",
       "    <tr>\n",
       "      <th>3</th>\n",
       "      <td>['Blaze', 'Solar Power']</td>\n",
       "      <td>0.5</td>\n",
       "      <td>1.0</td>\n",
       "      <td>1.0</td>\n",
       "      <td>1.0</td>\n",
       "      <td>0.5</td>\n",
       "      <td>1.0</td>\n",
       "      <td>0.5</td>\n",
       "      <td>1.0</td>\n",
       "      <td>1.0</td>\n",
       "      <td>...</td>\n",
       "      <td>88.1</td>\n",
       "      <td>4</td>\n",
       "      <td>60</td>\n",
       "      <td>50</td>\n",
       "      <td>65</td>\n",
       "      <td>fire</td>\n",
       "      <td>NaN</td>\n",
       "      <td>8.5</td>\n",
       "      <td>1</td>\n",
       "      <td>0</td>\n",
       "    </tr>\n",
       "    <tr>\n",
       "      <th>4</th>\n",
       "      <td>['Blaze', 'Solar Power']</td>\n",
       "      <td>0.5</td>\n",
       "      <td>1.0</td>\n",
       "      <td>1.0</td>\n",
       "      <td>1.0</td>\n",
       "      <td>0.5</td>\n",
       "      <td>1.0</td>\n",
       "      <td>0.5</td>\n",
       "      <td>1.0</td>\n",
       "      <td>1.0</td>\n",
       "      <td>...</td>\n",
       "      <td>88.1</td>\n",
       "      <td>5</td>\n",
       "      <td>80</td>\n",
       "      <td>65</td>\n",
       "      <td>80</td>\n",
       "      <td>fire</td>\n",
       "      <td>NaN</td>\n",
       "      <td>19.0</td>\n",
       "      <td>1</td>\n",
       "      <td>0</td>\n",
       "    </tr>\n",
       "  </tbody>\n",
       "</table>\n",
       "<p>5 rows × 41 columns</p>\n",
       "</div>"
      ],
      "text/plain": [
       "                     abilities  against_bug  against_dark  against_dragon  \\\n",
       "0  ['Overgrow', 'Chlorophyll']          1.0           1.0             1.0   \n",
       "1  ['Overgrow', 'Chlorophyll']          1.0           1.0             1.0   \n",
       "2  ['Overgrow', 'Chlorophyll']          1.0           1.0             1.0   \n",
       "3     ['Blaze', 'Solar Power']          0.5           1.0             1.0   \n",
       "4     ['Blaze', 'Solar Power']          0.5           1.0             1.0   \n",
       "\n",
       "   against_electric  against_fairy  against_fight  against_fire  \\\n",
       "0               0.5            0.5            0.5           2.0   \n",
       "1               0.5            0.5            0.5           2.0   \n",
       "2               0.5            0.5            0.5           2.0   \n",
       "3               1.0            0.5            1.0           0.5   \n",
       "4               1.0            0.5            1.0           0.5   \n",
       "\n",
       "   against_flying  against_ghost  ...  percentage_male  pokedex_number  \\\n",
       "0             2.0            1.0  ...             88.1               1   \n",
       "1             2.0            1.0  ...             88.1               2   \n",
       "2             2.0            1.0  ...             88.1               3   \n",
       "3             1.0            1.0  ...             88.1               4   \n",
       "4             1.0            1.0  ...             88.1               5   \n",
       "\n",
       "   sp_attack  sp_defense  speed  type1   type2  weight_kg  generation  \\\n",
       "0         65          65     45  grass  poison        6.9           1   \n",
       "1         80          80     60  grass  poison       13.0           1   \n",
       "2        122         120     80  grass  poison      100.0           1   \n",
       "3         60          50     65   fire     NaN        8.5           1   \n",
       "4         80          65     80   fire     NaN       19.0           1   \n",
       "\n",
       "   is_legendary  \n",
       "0             0  \n",
       "1             0  \n",
       "2             0  \n",
       "3             0  \n",
       "4             0  \n",
       "\n",
       "[5 rows x 41 columns]"
      ]
     },
     "execution_count": 2,
     "metadata": {},
     "output_type": "execute_result"
    }
   ],
   "source": [
    "pokemon.head()"
   ]
  },
  {
   "cell_type": "code",
   "execution_count": 12,
   "metadata": {},
   "outputs": [
    {
     "name": "stdout",
     "output_type": "stream",
     "text": [
      "############## against_bug ############## \n",
      "\n",
      "[1.   0.5  0.25 2.   4.  ] \n",
      "\n",
      "############## against_dark ############## \n",
      "\n",
      "[1.   0.5  2.   0.25 4.  ] \n",
      "\n",
      "############## against_dragon ############## \n",
      "\n",
      "[1.  0.  0.5 2. ] \n",
      "\n",
      "############## against_electric ############## \n",
      "\n",
      "[0.5  1.   2.   0.   4.   0.25] \n",
      "\n",
      "############## against_fairy ############## \n",
      "\n",
      "[0.5  1.   2.   0.25 4.  ] \n",
      "\n",
      "############## against_fight ############## \n",
      "\n",
      "[0.5  1.   0.25 2.   0.   4.  ] \n",
      "\n",
      "############## against_fire ############## \n",
      "\n",
      "[2.   0.5  1.   4.   0.25] \n",
      "\n",
      "############## against_flying ############## \n",
      "\n",
      "[2.   1.   0.5  4.   0.25] \n",
      "\n",
      "############## against_ghost ############## \n",
      "\n",
      "[1.  0.  2.  0.5 4. ] \n",
      "\n",
      "############## against_grass ############## \n",
      "\n",
      "[0.25 0.5  2.   1.   4.  ] \n",
      "\n",
      "############## against_ground ############## \n",
      "\n",
      "[1.   2.   0.   0.5  0.25 4.  ] \n",
      "\n",
      "############## against_ice ############## \n",
      "\n",
      "[2.   0.5  1.   0.25 4.  ] \n",
      "\n",
      "############## against_normal ############## \n",
      "\n",
      "[1.   0.5  0.   0.25] \n",
      "\n",
      "############## against_poison ############## \n",
      "\n",
      "[1.   0.5  0.25 2.   0.   4.  ] \n",
      "\n",
      "############## against_psychic ############## \n",
      "\n",
      "[2.   1.   0.5  0.   0.25 4.  ] \n",
      "\n",
      "############## against_rock ############## \n",
      "\n",
      "[1.   2.   4.   0.5  0.25] \n",
      "\n",
      "############## against_steel ############## \n",
      "\n",
      "[1.   0.5  2.   0.25 4.  ] \n",
      "\n",
      "############## against_water ############## \n",
      "\n",
      "[0.5  2.   1.   4.   0.25] \n",
      "\n",
      "############## base_egg_steps ############## \n",
      "\n",
      "[ 5120  3840  2560  6400 10240  1280  8960  7680 20480 30720] \n",
      "\n",
      "############## base_happiness ############## \n",
      "\n",
      "[ 70 140  35   0 100  90] \n",
      "\n",
      "############## capture_rate ############## \n",
      "\n",
      "['45' '255' '120' '90' '190' '235' '150' '25' '170' '50' '75' '200' '100'\n",
      " '180' '60' '225' '30' '35' '3' '65' '70' '127' '125' '205' '155' '145'\n",
      " '130' '140' '15' '220' '160' '80' '55' '30 (Meteorite)255 (Core)'] \n",
      "\n",
      "############## experience_growth ############## \n",
      "\n",
      "[1059860 1000000  800000 1250000 1640000  600000] \n",
      "\n",
      "############## height_m ############## \n",
      "\n",
      "[ 0.7  1.   2.   0.6  1.1  1.7  0.5  1.6  0.3  1.5  1.2  3.5  0.4  0.8\n",
      "  1.3  0.9  1.4  1.9  1.8  8.8  2.2  6.5  2.5  2.1  4.   2.3  0.2  9.2\n",
      "  5.2  3.8 14.5  2.7  6.2  4.5  7.   2.4  5.4  4.2  3.7  3.2  3.3  0.1\n",
      "  2.6  2.8  2.9  3.   5.8  5.   3.9  3.4  5.5] \n",
      "\n",
      "############## hp ############## \n",
      "\n",
      "[ 45  60  80  39  58  78  44  59  79  50  40  65  63  83  35  55  70  90\n",
      "  46  61  81  95 115 140  75  25  52  30  85 105 250  20 130  48 160  41\n",
      "  91 106 100 125 190  73 255  38  28  68 150  31   1  64  84 104  72 144\n",
      " 170 110  43  66  86  99  76  53  37  77  67  97 111  49  71 103  57 108\n",
      " 135  74  69 120 116  62  54  36  51 114 165 109  89  92  56  88 123 101\n",
      "  82  42 126 216  47 137 107 223] \n",
      "\n",
      "############## percentage_male ############## \n",
      "\n",
      "[ 88.1  50.    0.  100.   24.6  75.4   nan  11.2] \n",
      "\n",
      "############## sp_defense ############## \n",
      "\n",
      "[ 65  80 120  50 115  64  20  25  35  31  61  54  79  40  55  85  75  90\n",
      "  45  70 105  60  30 100  62  95 110 130  48 125  63  83  56  96  76  42\n",
      "  58 230 140 135 154  41  52  82  23  43  73  53  71  87 107  33 200 150\n",
      " 160  44 101  51  34  49  88 138 102  78  66  37  59  86 116 108  72 106\n",
      "  39  69  32 126  67  99 129  77  36  38 128  57  81  89  46 123  94  92\n",
      " 113  98  47 142 132  91 131] \n",
      "\n",
      "############## type1 ############## \n",
      "\n",
      "['grass' 'fire' 'water' 'bug' 'normal' 'poison' 'electric' 'fairy'\n",
      " 'fighting' 'psychic' 'ghost' 'rock' 'ground' 'ice' 'dragon' 'dark'\n",
      " 'steel' 'flying'] \n",
      "\n",
      "############## type2 ############## \n",
      "\n",
      "['poison' nan 'flying' 'ground' 'fairy' 'grass' 'fighting' 'psychic'\n",
      " 'steel' 'ice' 'rock' 'water' 'electric' 'fire' 'dragon' 'dark' 'ghost'\n",
      " 'bug' 'normal'] \n",
      "\n",
      "############## generation ############## \n",
      "\n",
      "[1 2 3 4 5 6 7] \n",
      "\n",
      "############## is_legendary ############## \n",
      "\n",
      "[0 1] \n",
      "\n"
     ]
    }
   ],
   "source": [
    "for col in pokemon.columns:\n",
    "        if len(pokemon[col].unique()) <100:\n",
    "                print (\"##############\", pokemon[col].name, \"############## \\n\")\n",
    "                print (pokemon[col].unique(), \"\\n\")"
   ]
  },
  {
   "cell_type": "code",
   "execution_count": 3,
   "metadata": {},
   "outputs": [
    {
     "data": {
      "text/plain": [
       "Index(['abilities', 'against_bug', 'against_dark', 'against_dragon',\n",
       "       'against_electric', 'against_fairy', 'against_fight', 'against_fire',\n",
       "       'against_flying', 'against_ghost', 'against_grass', 'against_ground',\n",
       "       'against_ice', 'against_normal', 'against_poison', 'against_psychic',\n",
       "       'against_rock', 'against_steel', 'against_water', 'attack',\n",
       "       'base_egg_steps', 'base_happiness', 'base_total', 'capture_rate',\n",
       "       'classfication', 'defense', 'experience_growth', 'height_m', 'hp',\n",
       "       'japanese_name', 'name', 'percentage_male', 'pokedex_number',\n",
       "       'sp_attack', 'sp_defense', 'speed', 'type1', 'type2', 'weight_kg',\n",
       "       'generation', 'is_legendary'],\n",
       "      dtype='object')"
      ]
     },
     "execution_count": 3,
     "metadata": {},
     "output_type": "execute_result"
    }
   ],
   "source": [
    "pokemon.columns"
   ]
  },
  {
   "cell_type": "markdown",
   "metadata": {},
   "source": [
    "Alright, seems to be in order! Now let's visualize these Pokémon using `matplotlib`. Let's see if our relevant data contains invalid entries."
   ]
  },
  {
   "cell_type": "code",
   "execution_count": 4,
   "metadata": {},
   "outputs": [
    {
     "name": "stdout",
     "output_type": "stream",
     "text": [
      "20\n",
      "20\n"
     ]
    }
   ],
   "source": [
    "# check number of invalid metric entries\n",
    "print(pokemon['weight_kg'].isnull().sum())\n",
    "print(pokemon['height_m'].isnull().sum())"
   ]
  },
  {
   "cell_type": "markdown",
   "metadata": {},
   "source": [
    "Seems that there are some weightless/heightless Pokémon in our dataset! It's going to be hard clustering those, so let's kick them out!"
   ]
  },
  {
   "cell_type": "code",
   "execution_count": 5,
   "metadata": {},
   "outputs": [],
   "source": [
    "# drop rows containing null values for weight or height\n",
    "pokemon = pokemon.dropna(axis=0, subset=['weight_kg'])\n",
    "pokemon = pokemon.dropna(axis=0, subset=['height_m'])\n",
    "\n"
   ]
  },
  {
   "cell_type": "code",
   "execution_count": 7,
   "metadata": {},
   "outputs": [],
   "source": [
    "# adjusting index\n",
    "pokemon = pokemon.reset_index(drop=True)"
   ]
  },
  {
   "cell_type": "code",
   "execution_count": 9,
   "metadata": {},
   "outputs": [
    {
     "data": {
      "text/plain": [
       "Text(0, 0.5, 'Pokémon height [m]')"
      ]
     },
     "execution_count": 9,
     "metadata": {},
     "output_type": "execute_result"
    },
    {
     "data": {
      "image/png": "[encoded data removed]",
      "text/plain": [
       "<Figure size 720x720 with 1 Axes>"
      ]
     },
     "metadata": {
      "needs_background": "light"
     },
     "output_type": "display_data"
    }
   ],
   "source": [
    "import matplotlib.pyplot as plt\n",
    "\n",
    "# plot size metrics\n",
    "fig=plt.figure(figsize=(10,10))\n",
    "plt.scatter(pokemon['weight_kg'], pokemon['height_m'], s=2)\n",
    "plt.title(\"Pokémon size metrics\")\n",
    "plt.xlabel(\"Pokémon weight [kg]\")\n",
    "plt.ylabel(\"Pokémon height [m]\")"
   ]
  },
  {
   "cell_type": "markdown",
   "metadata": {},
   "source": [
    "Let's zoom in a bit"
   ]
  },
  {
   "cell_type": "code",
   "execution_count": 10,
   "metadata": {},
   "outputs": [
    {
     "data": {
      "text/plain": [
       "(0.0, 2.5)"
      ]
     },
     "execution_count": 10,
     "metadata": {},
     "output_type": "execute_result"
    },
    {
     "data": {
      "image/png": "[encoded data removed]",
      "text/plain": [
       "<Figure size 720x720 with 1 Axes>"
      ]
     },
     "metadata": {
      "needs_background": "light"
     },
     "output_type": "display_data"
    }
   ],
   "source": [
    "# plot size metrics\n",
    "fig=plt.figure(figsize=(10,10))\n",
    "plt.scatter(pokemon['weight_kg'], pokemon['height_m'], s=2)\n",
    "plt.title(\"Pokémon size metrics\")\n",
    "plt.xlabel(\"Pokémon weight [kg]\")\n",
    "plt.ylabel(\"Pokémon height [m]\")\n",
    "\n",
    "# limit plot\n",
    "plt.xlim([0, 150])\n",
    "plt.ylim([0, 2.5])"
   ]
  },
  {
   "cell_type": "markdown",
   "metadata": {},
   "source": [
    "All these Pokémon look the same! Let's give them some colors according to their primary type."
   ]
  },
  {
   "cell_type": "markdown",
   "metadata": {},
   "source": [
    "############## type1 classes ############## \n",
    "\n",
    "['grass' 'fire' 'water' 'bug' 'normal' 'poison' 'electric' 'fairy'\n",
    " 'fighting' 'psychic' 'ghost' 'rock' 'ground' 'ice' 'dragon' 'dark'\n",
    " 'steel' 'flying'] "
   ]
  },
  {
   "cell_type": "code",
   "execution_count": 7,
   "metadata": {},
   "outputs": [
    {
     "data": {
      "text/plain": [
       "(0.0, 2.5)"
      ]
     },
     "execution_count": 7,
     "metadata": {},
     "output_type": "execute_result"
    },
    {
     "data": {
      "image/png": "[encoded data removed]",
      "text/plain": [
       "<Figure size 794.75x720 with 1 Axes>"
      ]
     },
     "metadata": {
      "needs_background": "light"
     },
     "output_type": "display_data"
    }
   ],
   "source": [
    "import seaborn as sns\n",
    "\n",
    "# define colors\n",
    "pokemon_type_colors = ['#78C850',  # Grass\n",
    "                       '#F08030',  # Fire\n",
    "                       '#6890F0',  # Water\n",
    "                       '#A8B820',  # Bug\n",
    "                       '#A8A878',  # Normal\n",
    "                       '#A040A0',  # Poison\n",
    "                       '#F8D030',  # Electric\n",
    "                       '#E0C068',  # Ground\n",
    "                       '#EE99AC',  # Fairy\n",
    "                       '#C03028',  # Fighting\n",
    "                       '#F85888',  # Psychic\n",
    "                       '#B8A038',  # Rock\n",
    "                       '#705898',  # Ghost\n",
    "                       '#98D8D8',  # Ice\n",
    "                       '#7038F8',  # Dragon\n",
    "                   ]\n",
    "\n",
    "# plot data with the type color palette\n",
    "sns.lmplot(x='weight_kg', y='height_m',  height=10, data=pokemon,\n",
    "           fit_reg=False, # No regression line\n",
    "           hue='type1', palette= pokemon_type_colors)\n",
    "\n",
    "# limit plot\n",
    "plt.xlim([0, 150])\n",
    "plt.ylim([0, 2.5])"
   ]
  },
  {
   "cell_type": "markdown",
   "metadata": {},
   "source": [
    "How colorful! It's time to cluster these Pokémon with **k-means**. Why k-means? Well, for one, it requires a **centroid number** argument, which we know beforehand: it's 6, the number of Pokémon we're looking for. \n",
    "\n",
    "We'll have to keep in mind that k-means is **non-deterministic** since its initialization influences the final solution. The results we get are semi-random.\n",
    "\n",
    "Using **k-means** means we are **maximizing in-cluster similarity** while **minimizing cluster-to-cluster similarity**."
   ]
  },
  {
   "cell_type": "code",
   "execution_count": 13,
   "metadata": {},
   "outputs": [],
   "source": [
    "from sklearn.cluster import KMeans\n",
    "\n",
    "# number of Pokémon clusters\n",
    "team_size = 6\n",
    "\n",
    "# make new dataframe with relevant metrics\n",
    "pokemon_metrics = pokemon['weight_kg'].to_frame().join(pokemon['height_m'].to_frame())\n",
    "\n",
    "# z-score normalisation\n",
    "pokemon_metrics_normalized=(pokemon_metrics-pokemon_metrics.mean())/pokemon_metrics.std()\n",
    "pokemon_metrics_normalized = pokemon_metrics_normalized.rename(columns={'weight_kg': 'weight_zscore',\n",
    "                                                                        'height_m':'height_zscore'})\n",
    "\n",
    "# fit a kmeans object to the dataset\n",
    "kmeans = KMeans(n_clusters=team_size, init='k-means++').fit(pokemon_metrics_normalized)\n",
    "\n",
    "# clusters is an attribute of the object\n",
    "cluster_centers = kmeans.cluster_centers_\n",
    "\n",
    "# add cluster index to dataframe\n",
    "cluster_labels = pd.Series(kmeans.labels_, name='cluster')\n",
    "pokemon_metrics_normalized = pokemon_metrics_normalized.join(cluster_labels.to_frame())"
   ]
  },
  {
   "cell_type": "markdown",
   "metadata": {},
   "source": [
    "Let's see the result! We've used **z-score normalization** on the data to avoid **one dimension dominating the other dimensions**. A dataset where one metric is of a vastly different order than the other metrics is **ill-posed** and needs normalization."
   ]
  },
  {
   "cell_type": "code",
   "execution_count": 15,
   "metadata": {},
   "outputs": [
    {
     "data": {
      "text/plain": [
       "<seaborn.axisgrid.FacetGrid at 0x207575ff430>"
      ]
     },
     "execution_count": 15,
     "metadata": {},
     "output_type": "execute_result"
    },
    {
     "data": {
      "image/png": "[encoded data removed]",
      "text/plain": [
       "<Figure size 762.375x720 with 1 Axes>"
      ]
     },
     "metadata": {
      "needs_background": "light"
     },
     "output_type": "display_data"
    }
   ],
   "source": [
    "import seaborn as sns\n",
    "sns.lmplot(x='weight_zscore', y='height_zscore',  height=10, data=pokemon_metrics_normalized,\n",
    "           fit_reg=False, hue='cluster')"
   ]
  },
  {
   "cell_type": "markdown",
   "metadata": {},
   "source": [
    "Alright! We've made 6 clusters! But how do we pick our Pokémon?\n",
    "\n",
    "As stated before, clustering with the **k-means** method, we ensure **cluster-to-cluster dissimilarity** and **cluster-member similarity**. But what about similarity of a member of one cluster, with the totality of a whole other cluster?\n",
    "\n",
    "Well, as you can see in the above plot, this varies between members of the same cluster. For instance, at the boundary of two clusters, the difference between any two members of those two clusters is very minimal.\n",
    "\n",
    "What does this mean for us Pokémon trainers? It means we still have to **maximize member-to-every-other-cluster dissimilarity** to determine a truly dissimilar Pokémon team!\n",
    "\n",
    "This means we'll check every member in a cluster and compare it to the centroids of the other clusters. The member furthest away from all other clusters is approximately **the most dissimilar to all other Pokémon**.\n",
    "\n",
    "Wait, what do you mean \"approximately\"? Well, we could compare every member of the dataset to every other member of the whole dataset, but you can imagine this doesn't scale really well. For this reason, we **reduced** the problem **complexity** by using clustering!"
   ]
  },
  {
   "cell_type": "code",
   "execution_count": 16,
   "metadata": {},
   "outputs": [
    {
     "name": "stderr",
     "output_type": "stream",
     "text": [
      "C:\\Users\\yurit\\AppData\\Local\\Temp\\ipykernel_8044\\11032716.py:27: FutureWarning: The frame.append method is deprecated and will be removed from pandas in a future version. Use pandas.concat instead.\n",
      "  chosen_pokemon = chosen_pokemon.append(pokemon_cluster[pokemon_cluster['dissimilarity']==pokemon_cluster['dissimilarity'].max()])\n",
      "C:\\Users\\yurit\\AppData\\Local\\Temp\\ipykernel_8044\\11032716.py:27: FutureWarning: The frame.append method is deprecated and will be removed from pandas in a future version. Use pandas.concat instead.\n",
      "  chosen_pokemon = chosen_pokemon.append(pokemon_cluster[pokemon_cluster['dissimilarity']==pokemon_cluster['dissimilarity'].max()])\n",
      "C:\\Users\\yurit\\AppData\\Local\\Temp\\ipykernel_8044\\11032716.py:27: FutureWarning: The frame.append method is deprecated and will be removed from pandas in a future version. Use pandas.concat instead.\n",
      "  chosen_pokemon = chosen_pokemon.append(pokemon_cluster[pokemon_cluster['dissimilarity']==pokemon_cluster['dissimilarity'].max()])\n",
      "C:\\Users\\yurit\\AppData\\Local\\Temp\\ipykernel_8044\\11032716.py:27: FutureWarning: The frame.append method is deprecated and will be removed from pandas in a future version. Use pandas.concat instead.\n",
      "  chosen_pokemon = chosen_pokemon.append(pokemon_cluster[pokemon_cluster['dissimilarity']==pokemon_cluster['dissimilarity'].max()])\n",
      "C:\\Users\\yurit\\AppData\\Local\\Temp\\ipykernel_8044\\11032716.py:27: FutureWarning: The frame.append method is deprecated and will be removed from pandas in a future version. Use pandas.concat instead.\n",
      "  chosen_pokemon = chosen_pokemon.append(pokemon_cluster[pokemon_cluster['dissimilarity']==pokemon_cluster['dissimilarity'].max()])\n",
      "C:\\Users\\yurit\\AppData\\Local\\Temp\\ipykernel_8044\\11032716.py:27: FutureWarning: The frame.append method is deprecated and will be removed from pandas in a future version. Use pandas.concat instead.\n",
      "  chosen_pokemon = chosen_pokemon.append(pokemon_cluster[pokemon_cluster['dissimilarity']==pokemon_cluster['dissimilarity'].max()])\n"
     ]
    }
   ],
   "source": [
    "import numpy as np        \n",
    "        \n",
    "def distance_to_other_clusters(pokemon):\n",
    "    if not pokemon.loc[pokemon.isin(['weight_zscore', 'height_zscore', 'cluster'])].all():\n",
    "        return\n",
    "    metric = np.array([pokemon['weight_zscore'], pokemon['height_zscore']])\n",
    "    cluster_number = round(pokemon['cluster'])\n",
    "    distance = 0\n",
    "    for cluster_index in range(0, len(cluster_centers)):\n",
    "        if cluster_index == cluster_number:\n",
    "            continue\n",
    "        center = cluster_centers[cluster_index]\n",
    "        distance += np.sqrt(sum(np.square(metric - center)))\n",
    "    return distance\n",
    "\n",
    "# evaluate all Pokémon\n",
    "pokemon_dissimilarity = pokemon_metrics_normalized.apply(distance_to_other_clusters, axis=1)\n",
    "pokemon_dissimilarity = pokemon_dissimilarity.rename('dissimilarity')\n",
    "\n",
    "# join to other metrics\n",
    "pokemon_processed = pokemon_metrics_normalized.join(pokemon_dissimilarity.to_frame()).join(pokemon['name'].to_frame())\n",
    "\n",
    "# pick most dissimilar Pokémon per cluster\n",
    "chosen_pokemon = pd.DataFrame()\n",
    "for cluster_index in range(0, len(cluster_centers)):\n",
    "    pokemon_cluster = pokemon_processed[pokemon_processed['cluster'] == cluster_index]\n",
    "    chosen_pokemon = chosen_pokemon.append(pokemon_cluster[pokemon_cluster['dissimilarity']==pokemon_cluster['dissimilarity'].max()])\n"
   ]
  },
  {
   "cell_type": "code",
   "execution_count": 17,
   "metadata": {},
   "outputs": [
    {
     "data": {
      "text/html": [
       "<div>\n",
       "<style scoped>\n",
       "    .dataframe tbody tr th:only-of-type {\n",
       "        vertical-align: middle;\n",
       "    }\n",
       "\n",
       "    .dataframe tbody tr th {\n",
       "        vertical-align: top;\n",
       "    }\n",
       "\n",
       "    .dataframe thead th {\n",
       "        text-align: right;\n",
       "    }\n",
       "</style>\n",
       "<table border=\"1\" class=\"dataframe\">\n",
       "  <thead>\n",
       "    <tr style=\"text-align: right;\">\n",
       "      <th></th>\n",
       "      <th>weight_zscore</th>\n",
       "      <th>height_zscore</th>\n",
       "      <th>cluster</th>\n",
       "      <th>dissimilarity</th>\n",
       "      <th>name</th>\n",
       "    </tr>\n",
       "  </thead>\n",
       "  <tbody>\n",
       "    <tr>\n",
       "      <th>650</th>\n",
       "      <td>-0.560361</td>\n",
       "      <td>-0.984788</td>\n",
       "      <td>0</td>\n",
       "      <td>28.648972</td>\n",
       "      <td>Flabébé</td>\n",
       "    </tr>\n",
       "    <tr>\n",
       "      <th>365</th>\n",
       "      <td>1.327074</td>\n",
       "      <td>5.402171</td>\n",
       "      <td>1</td>\n",
       "      <td>26.336519</td>\n",
       "      <td>Rayquaza</td>\n",
       "    </tr>\n",
       "    <tr>\n",
       "      <th>357</th>\n",
       "      <td>4.468227</td>\n",
       "      <td>0.403681</td>\n",
       "      <td>2</td>\n",
       "      <td>26.594186</td>\n",
       "      <td>Metagross</td>\n",
       "    </tr>\n",
       "    <tr>\n",
       "      <th>75</th>\n",
       "      <td>-0.560361</td>\n",
       "      <td>0.125987</td>\n",
       "      <td>3</td>\n",
       "      <td>24.878341</td>\n",
       "      <td>Gastly</td>\n",
       "    </tr>\n",
       "    <tr>\n",
       "      <th>776</th>\n",
       "      <td>8.582359</td>\n",
       "      <td>7.438593</td>\n",
       "      <td>4</td>\n",
       "      <td>47.151117</td>\n",
       "      <td>Celesteela</td>\n",
       "    </tr>\n",
       "    <tr>\n",
       "      <th>302</th>\n",
       "      <td>3.078255</td>\n",
       "      <td>12.344519</td>\n",
       "      <td>5</td>\n",
       "      <td>56.747976</td>\n",
       "      <td>Wailord</td>\n",
       "    </tr>\n",
       "  </tbody>\n",
       "</table>\n",
       "</div>"
      ],
      "text/plain": [
       "     weight_zscore  height_zscore  cluster  dissimilarity        name\n",
       "650      -0.560361      -0.984788        0      28.648972     Flabébé\n",
       "365       1.327074       5.402171        1      26.336519    Rayquaza\n",
       "357       4.468227       0.403681        2      26.594186   Metagross\n",
       "75       -0.560361       0.125987        3      24.878341      Gastly\n",
       "776       8.582359       7.438593        4      47.151117  Celesteela\n",
       "302       3.078255      12.344519        5      56.747976     Wailord"
      ]
     },
     "execution_count": 17,
     "metadata": {},
     "output_type": "execute_result"
    }
   ],
   "source": [
    "chosen_pokemon"
   ]
  },
  {
   "cell_type": "markdown",
   "metadata": {},
   "source": [
    "There they are, the chosen few! The most **physically diverse Pokémon** we could find!\n",
    "\n",
    "But are these really the most diverse Pokémon? We have all this **unused data** from out dataset like **combat stats** and **Pokémon types**. To get the real most diverse team out there, we'll have to use this data as well.\n",
    "\n",
    "The journey to find the most diverse team continues, in the **[drills](./2.clustering_drills.ipynb)**!\n",
    "\n",
    "![sunset](https://media.giphy.com/media/l0HluqguCBcvwCvBu/giphy.gif)"
   ]
  }
 ],
 "metadata": {
  "kernelspec": {
   "display_name": "Python 3.9.12 ('MachineLearningEnv')",
   "language": "python",
   "name": "python3"
  },
  "language_info": {
   "codemirror_mode": {
    "name": "ipython",
    "version": 3
   },
   "file_extension": ".py",
   "mimetype": "text/x-python",
   "name": "python",
   "nbconvert_exporter": "python",
   "pygments_lexer": "ipython3",
   "version": "3.9.12"
  },
  "vscode": {
   "interpreter": {
    "hash": "e38459a18be86b4c8bd5abf74a53800f7f83cb5c7f663a1dfa01db9d289cd31b"
   }
  }
 },
 "nbformat": 4,
 "nbformat_minor": 4
}
